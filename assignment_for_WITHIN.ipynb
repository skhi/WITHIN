{
  "nbformat": 4,
  "nbformat_minor": 0,
  "metadata": {
    "colab": {
      "provenance": []
    },
    "kernelspec": {
      "name": "python3",
      "display_name": "Python 3"
    },
    "language_info": {
      "name": "python"
    },
    "widgets": {
      "application/vnd.jupyter.widget-state+json": {
        "a259a0336bd549539dea400cf4b950e7": {
          "model_module": "@jupyter-widgets/controls",
          "model_name": "HBoxModel",
          "model_module_version": "1.5.0",
          "state": {
            "_dom_classes": [],
            "_model_module": "@jupyter-widgets/controls",
            "_model_module_version": "1.5.0",
            "_model_name": "HBoxModel",
            "_view_count": null,
            "_view_module": "@jupyter-widgets/controls",
            "_view_module_version": "1.5.0",
            "_view_name": "HBoxView",
            "box_style": "",
            "children": [
              "IPY_MODEL_da01f950ee934b12bd951cfa703dcaad",
              "IPY_MODEL_355c0bade03949c2a1f9a2cced22757b",
              "IPY_MODEL_5f2bfded52f944a786ccd3b5894f290f"
            ],
            "layout": "IPY_MODEL_12e8a77319fb4751a202672758ddef4e"
          }
        },
        "da01f950ee934b12bd951cfa703dcaad": {
          "model_module": "@jupyter-widgets/controls",
          "model_name": "HTMLModel",
          "model_module_version": "1.5.0",
          "state": {
            "_dom_classes": [],
            "_model_module": "@jupyter-widgets/controls",
            "_model_module_version": "1.5.0",
            "_model_name": "HTMLModel",
            "_view_count": null,
            "_view_module": "@jupyter-widgets/controls",
            "_view_module_version": "1.5.0",
            "_view_name": "HTMLView",
            "description": "",
            "description_tooltip": null,
            "layout": "IPY_MODEL_fc0c7e1b02db4fec88f2671c5ab6a3bb",
            "placeholder": "​",
            "style": "IPY_MODEL_5cecc6acf7b14a38a1640f5311eae763",
            "value": "config.json: 100%"
          }
        },
        "355c0bade03949c2a1f9a2cced22757b": {
          "model_module": "@jupyter-widgets/controls",
          "model_name": "FloatProgressModel",
          "model_module_version": "1.5.0",
          "state": {
            "_dom_classes": [],
            "_model_module": "@jupyter-widgets/controls",
            "_model_module_version": "1.5.0",
            "_model_name": "FloatProgressModel",
            "_view_count": null,
            "_view_module": "@jupyter-widgets/controls",
            "_view_module_version": "1.5.0",
            "_view_name": "ProgressView",
            "bar_style": "success",
            "description": "",
            "description_tooltip": null,
            "layout": "IPY_MODEL_75f924abbeaa43b9818fa01b3ca75cd8",
            "max": 629,
            "min": 0,
            "orientation": "horizontal",
            "style": "IPY_MODEL_76ae0ad14cc64f5d9a8b466faf103601",
            "value": 629
          }
        },
        "5f2bfded52f944a786ccd3b5894f290f": {
          "model_module": "@jupyter-widgets/controls",
          "model_name": "HTMLModel",
          "model_module_version": "1.5.0",
          "state": {
            "_dom_classes": [],
            "_model_module": "@jupyter-widgets/controls",
            "_model_module_version": "1.5.0",
            "_model_name": "HTMLModel",
            "_view_count": null,
            "_view_module": "@jupyter-widgets/controls",
            "_view_module_version": "1.5.0",
            "_view_name": "HTMLView",
            "description": "",
            "description_tooltip": null,
            "layout": "IPY_MODEL_d200ec4a908d41258c06e8251b0aab59",
            "placeholder": "​",
            "style": "IPY_MODEL_f2ead0adb30d40948cbc6953d2a9f53d",
            "value": " 629/629 [00:00&lt;00:00, 12.6kB/s]"
          }
        },
        "12e8a77319fb4751a202672758ddef4e": {
          "model_module": "@jupyter-widgets/base",
          "model_name": "LayoutModel",
          "model_module_version": "1.2.0",
          "state": {
            "_model_module": "@jupyter-widgets/base",
            "_model_module_version": "1.2.0",
            "_model_name": "LayoutModel",
            "_view_count": null,
            "_view_module": "@jupyter-widgets/base",
            "_view_module_version": "1.2.0",
            "_view_name": "LayoutView",
            "align_content": null,
            "align_items": null,
            "align_self": null,
            "border": null,
            "bottom": null,
            "display": null,
            "flex": null,
            "flex_flow": null,
            "grid_area": null,
            "grid_auto_columns": null,
            "grid_auto_flow": null,
            "grid_auto_rows": null,
            "grid_column": null,
            "grid_gap": null,
            "grid_row": null,
            "grid_template_areas": null,
            "grid_template_columns": null,
            "grid_template_rows": null,
            "height": null,
            "justify_content": null,
            "justify_items": null,
            "left": null,
            "margin": null,
            "max_height": null,
            "max_width": null,
            "min_height": null,
            "min_width": null,
            "object_fit": null,
            "object_position": null,
            "order": null,
            "overflow": null,
            "overflow_x": null,
            "overflow_y": null,
            "padding": null,
            "right": null,
            "top": null,
            "visibility": null,
            "width": null
          }
        },
        "fc0c7e1b02db4fec88f2671c5ab6a3bb": {
          "model_module": "@jupyter-widgets/base",
          "model_name": "LayoutModel",
          "model_module_version": "1.2.0",
          "state": {
            "_model_module": "@jupyter-widgets/base",
            "_model_module_version": "1.2.0",
            "_model_name": "LayoutModel",
            "_view_count": null,
            "_view_module": "@jupyter-widgets/base",
            "_view_module_version": "1.2.0",
            "_view_name": "LayoutView",
            "align_content": null,
            "align_items": null,
            "align_self": null,
            "border": null,
            "bottom": null,
            "display": null,
            "flex": null,
            "flex_flow": null,
            "grid_area": null,
            "grid_auto_columns": null,
            "grid_auto_flow": null,
            "grid_auto_rows": null,
            "grid_column": null,
            "grid_gap": null,
            "grid_row": null,
            "grid_template_areas": null,
            "grid_template_columns": null,
            "grid_template_rows": null,
            "height": null,
            "justify_content": null,
            "justify_items": null,
            "left": null,
            "margin": null,
            "max_height": null,
            "max_width": null,
            "min_height": null,
            "min_width": null,
            "object_fit": null,
            "object_position": null,
            "order": null,
            "overflow": null,
            "overflow_x": null,
            "overflow_y": null,
            "padding": null,
            "right": null,
            "top": null,
            "visibility": null,
            "width": null
          }
        },
        "5cecc6acf7b14a38a1640f5311eae763": {
          "model_module": "@jupyter-widgets/controls",
          "model_name": "DescriptionStyleModel",
          "model_module_version": "1.5.0",
          "state": {
            "_model_module": "@jupyter-widgets/controls",
            "_model_module_version": "1.5.0",
            "_model_name": "DescriptionStyleModel",
            "_view_count": null,
            "_view_module": "@jupyter-widgets/base",
            "_view_module_version": "1.2.0",
            "_view_name": "StyleView",
            "description_width": ""
          }
        },
        "75f924abbeaa43b9818fa01b3ca75cd8": {
          "model_module": "@jupyter-widgets/base",
          "model_name": "LayoutModel",
          "model_module_version": "1.2.0",
          "state": {
            "_model_module": "@jupyter-widgets/base",
            "_model_module_version": "1.2.0",
            "_model_name": "LayoutModel",
            "_view_count": null,
            "_view_module": "@jupyter-widgets/base",
            "_view_module_version": "1.2.0",
            "_view_name": "LayoutView",
            "align_content": null,
            "align_items": null,
            "align_self": null,
            "border": null,
            "bottom": null,
            "display": null,
            "flex": null,
            "flex_flow": null,
            "grid_area": null,
            "grid_auto_columns": null,
            "grid_auto_flow": null,
            "grid_auto_rows": null,
            "grid_column": null,
            "grid_gap": null,
            "grid_row": null,
            "grid_template_areas": null,
            "grid_template_columns": null,
            "grid_template_rows": null,
            "height": null,
            "justify_content": null,
            "justify_items": null,
            "left": null,
            "margin": null,
            "max_height": null,
            "max_width": null,
            "min_height": null,
            "min_width": null,
            "object_fit": null,
            "object_position": null,
            "order": null,
            "overflow": null,
            "overflow_x": null,
            "overflow_y": null,
            "padding": null,
            "right": null,
            "top": null,
            "visibility": null,
            "width": null
          }
        },
        "76ae0ad14cc64f5d9a8b466faf103601": {
          "model_module": "@jupyter-widgets/controls",
          "model_name": "ProgressStyleModel",
          "model_module_version": "1.5.0",
          "state": {
            "_model_module": "@jupyter-widgets/controls",
            "_model_module_version": "1.5.0",
            "_model_name": "ProgressStyleModel",
            "_view_count": null,
            "_view_module": "@jupyter-widgets/base",
            "_view_module_version": "1.2.0",
            "_view_name": "StyleView",
            "bar_color": null,
            "description_width": ""
          }
        },
        "d200ec4a908d41258c06e8251b0aab59": {
          "model_module": "@jupyter-widgets/base",
          "model_name": "LayoutModel",
          "model_module_version": "1.2.0",
          "state": {
            "_model_module": "@jupyter-widgets/base",
            "_model_module_version": "1.2.0",
            "_model_name": "LayoutModel",
            "_view_count": null,
            "_view_module": "@jupyter-widgets/base",
            "_view_module_version": "1.2.0",
            "_view_name": "LayoutView",
            "align_content": null,
            "align_items": null,
            "align_self": null,
            "border": null,
            "bottom": null,
            "display": null,
            "flex": null,
            "flex_flow": null,
            "grid_area": null,
            "grid_auto_columns": null,
            "grid_auto_flow": null,
            "grid_auto_rows": null,
            "grid_column": null,
            "grid_gap": null,
            "grid_row": null,
            "grid_template_areas": null,
            "grid_template_columns": null,
            "grid_template_rows": null,
            "height": null,
            "justify_content": null,
            "justify_items": null,
            "left": null,
            "margin": null,
            "max_height": null,
            "max_width": null,
            "min_height": null,
            "min_width": null,
            "object_fit": null,
            "object_position": null,
            "order": null,
            "overflow": null,
            "overflow_x": null,
            "overflow_y": null,
            "padding": null,
            "right": null,
            "top": null,
            "visibility": null,
            "width": null
          }
        },
        "f2ead0adb30d40948cbc6953d2a9f53d": {
          "model_module": "@jupyter-widgets/controls",
          "model_name": "DescriptionStyleModel",
          "model_module_version": "1.5.0",
          "state": {
            "_model_module": "@jupyter-widgets/controls",
            "_model_module_version": "1.5.0",
            "_model_name": "DescriptionStyleModel",
            "_view_count": null,
            "_view_module": "@jupyter-widgets/base",
            "_view_module_version": "1.2.0",
            "_view_name": "StyleView",
            "description_width": ""
          }
        },
        "6a27c06b2a764b5e91373f49376bf071": {
          "model_module": "@jupyter-widgets/controls",
          "model_name": "HBoxModel",
          "model_module_version": "1.5.0",
          "state": {
            "_dom_classes": [],
            "_model_module": "@jupyter-widgets/controls",
            "_model_module_version": "1.5.0",
            "_model_name": "HBoxModel",
            "_view_count": null,
            "_view_module": "@jupyter-widgets/controls",
            "_view_module_version": "1.5.0",
            "_view_name": "HBoxView",
            "box_style": "",
            "children": [
              "IPY_MODEL_36aae5fa165f4bda99cbbb5d4ef86084",
              "IPY_MODEL_bc08ca00c9894c7d8608f8fd7fcfd7be",
              "IPY_MODEL_f68e6896bb5a4501b045ef2b75a0256f"
            ],
            "layout": "IPY_MODEL_d091213898b84e47aee090ccb97b8b88"
          }
        },
        "36aae5fa165f4bda99cbbb5d4ef86084": {
          "model_module": "@jupyter-widgets/controls",
          "model_name": "HTMLModel",
          "model_module_version": "1.5.0",
          "state": {
            "_dom_classes": [],
            "_model_module": "@jupyter-widgets/controls",
            "_model_module_version": "1.5.0",
            "_model_name": "HTMLModel",
            "_view_count": null,
            "_view_module": "@jupyter-widgets/controls",
            "_view_module_version": "1.5.0",
            "_view_name": "HTMLView",
            "description": "",
            "description_tooltip": null,
            "layout": "IPY_MODEL_a9c50696230f400599a5c98926722091",
            "placeholder": "​",
            "style": "IPY_MODEL_35b9aad9c24f4c90bddae15891685a5b",
            "value": "model.safetensors: 100%"
          }
        },
        "bc08ca00c9894c7d8608f8fd7fcfd7be": {
          "model_module": "@jupyter-widgets/controls",
          "model_name": "FloatProgressModel",
          "model_module_version": "1.5.0",
          "state": {
            "_dom_classes": [],
            "_model_module": "@jupyter-widgets/controls",
            "_model_module_version": "1.5.0",
            "_model_name": "FloatProgressModel",
            "_view_count": null,
            "_view_module": "@jupyter-widgets/controls",
            "_view_module_version": "1.5.0",
            "_view_name": "ProgressView",
            "bar_style": "success",
            "description": "",
            "description_tooltip": null,
            "layout": "IPY_MODEL_7aaf5fb98e664566a4450d6ab84e52d8",
            "max": 267832558,
            "min": 0,
            "orientation": "horizontal",
            "style": "IPY_MODEL_d2b54a0745e240f8b73337fa482ffc67",
            "value": 267832558
          }
        },
        "f68e6896bb5a4501b045ef2b75a0256f": {
          "model_module": "@jupyter-widgets/controls",
          "model_name": "HTMLModel",
          "model_module_version": "1.5.0",
          "state": {
            "_dom_classes": [],
            "_model_module": "@jupyter-widgets/controls",
            "_model_module_version": "1.5.0",
            "_model_name": "HTMLModel",
            "_view_count": null,
            "_view_module": "@jupyter-widgets/controls",
            "_view_module_version": "1.5.0",
            "_view_name": "HTMLView",
            "description": "",
            "description_tooltip": null,
            "layout": "IPY_MODEL_0879bb2d9a5c478da8b9103836c95df0",
            "placeholder": "​",
            "style": "IPY_MODEL_31e1aeceb1464b0c81877ec689faab4f",
            "value": " 268M/268M [00:03&lt;00:00, 87.0MB/s]"
          }
        },
        "d091213898b84e47aee090ccb97b8b88": {
          "model_module": "@jupyter-widgets/base",
          "model_name": "LayoutModel",
          "model_module_version": "1.2.0",
          "state": {
            "_model_module": "@jupyter-widgets/base",
            "_model_module_version": "1.2.0",
            "_model_name": "LayoutModel",
            "_view_count": null,
            "_view_module": "@jupyter-widgets/base",
            "_view_module_version": "1.2.0",
            "_view_name": "LayoutView",
            "align_content": null,
            "align_items": null,
            "align_self": null,
            "border": null,
            "bottom": null,
            "display": null,
            "flex": null,
            "flex_flow": null,
            "grid_area": null,
            "grid_auto_columns": null,
            "grid_auto_flow": null,
            "grid_auto_rows": null,
            "grid_column": null,
            "grid_gap": null,
            "grid_row": null,
            "grid_template_areas": null,
            "grid_template_columns": null,
            "grid_template_rows": null,
            "height": null,
            "justify_content": null,
            "justify_items": null,
            "left": null,
            "margin": null,
            "max_height": null,
            "max_width": null,
            "min_height": null,
            "min_width": null,
            "object_fit": null,
            "object_position": null,
            "order": null,
            "overflow": null,
            "overflow_x": null,
            "overflow_y": null,
            "padding": null,
            "right": null,
            "top": null,
            "visibility": null,
            "width": null
          }
        },
        "a9c50696230f400599a5c98926722091": {
          "model_module": "@jupyter-widgets/base",
          "model_name": "LayoutModel",
          "model_module_version": "1.2.0",
          "state": {
            "_model_module": "@jupyter-widgets/base",
            "_model_module_version": "1.2.0",
            "_model_name": "LayoutModel",
            "_view_count": null,
            "_view_module": "@jupyter-widgets/base",
            "_view_module_version": "1.2.0",
            "_view_name": "LayoutView",
            "align_content": null,
            "align_items": null,
            "align_self": null,
            "border": null,
            "bottom": null,
            "display": null,
            "flex": null,
            "flex_flow": null,
            "grid_area": null,
            "grid_auto_columns": null,
            "grid_auto_flow": null,
            "grid_auto_rows": null,
            "grid_column": null,
            "grid_gap": null,
            "grid_row": null,
            "grid_template_areas": null,
            "grid_template_columns": null,
            "grid_template_rows": null,
            "height": null,
            "justify_content": null,
            "justify_items": null,
            "left": null,
            "margin": null,
            "max_height": null,
            "max_width": null,
            "min_height": null,
            "min_width": null,
            "object_fit": null,
            "object_position": null,
            "order": null,
            "overflow": null,
            "overflow_x": null,
            "overflow_y": null,
            "padding": null,
            "right": null,
            "top": null,
            "visibility": null,
            "width": null
          }
        },
        "35b9aad9c24f4c90bddae15891685a5b": {
          "model_module": "@jupyter-widgets/controls",
          "model_name": "DescriptionStyleModel",
          "model_module_version": "1.5.0",
          "state": {
            "_model_module": "@jupyter-widgets/controls",
            "_model_module_version": "1.5.0",
            "_model_name": "DescriptionStyleModel",
            "_view_count": null,
            "_view_module": "@jupyter-widgets/base",
            "_view_module_version": "1.2.0",
            "_view_name": "StyleView",
            "description_width": ""
          }
        },
        "7aaf5fb98e664566a4450d6ab84e52d8": {
          "model_module": "@jupyter-widgets/base",
          "model_name": "LayoutModel",
          "model_module_version": "1.2.0",
          "state": {
            "_model_module": "@jupyter-widgets/base",
            "_model_module_version": "1.2.0",
            "_model_name": "LayoutModel",
            "_view_count": null,
            "_view_module": "@jupyter-widgets/base",
            "_view_module_version": "1.2.0",
            "_view_name": "LayoutView",
            "align_content": null,
            "align_items": null,
            "align_self": null,
            "border": null,
            "bottom": null,
            "display": null,
            "flex": null,
            "flex_flow": null,
            "grid_area": null,
            "grid_auto_columns": null,
            "grid_auto_flow": null,
            "grid_auto_rows": null,
            "grid_column": null,
            "grid_gap": null,
            "grid_row": null,
            "grid_template_areas": null,
            "grid_template_columns": null,
            "grid_template_rows": null,
            "height": null,
            "justify_content": null,
            "justify_items": null,
            "left": null,
            "margin": null,
            "max_height": null,
            "max_width": null,
            "min_height": null,
            "min_width": null,
            "object_fit": null,
            "object_position": null,
            "order": null,
            "overflow": null,
            "overflow_x": null,
            "overflow_y": null,
            "padding": null,
            "right": null,
            "top": null,
            "visibility": null,
            "width": null
          }
        },
        "d2b54a0745e240f8b73337fa482ffc67": {
          "model_module": "@jupyter-widgets/controls",
          "model_name": "ProgressStyleModel",
          "model_module_version": "1.5.0",
          "state": {
            "_model_module": "@jupyter-widgets/controls",
            "_model_module_version": "1.5.0",
            "_model_name": "ProgressStyleModel",
            "_view_count": null,
            "_view_module": "@jupyter-widgets/base",
            "_view_module_version": "1.2.0",
            "_view_name": "StyleView",
            "bar_color": null,
            "description_width": ""
          }
        },
        "0879bb2d9a5c478da8b9103836c95df0": {
          "model_module": "@jupyter-widgets/base",
          "model_name": "LayoutModel",
          "model_module_version": "1.2.0",
          "state": {
            "_model_module": "@jupyter-widgets/base",
            "_model_module_version": "1.2.0",
            "_model_name": "LayoutModel",
            "_view_count": null,
            "_view_module": "@jupyter-widgets/base",
            "_view_module_version": "1.2.0",
            "_view_name": "LayoutView",
            "align_content": null,
            "align_items": null,
            "align_self": null,
            "border": null,
            "bottom": null,
            "display": null,
            "flex": null,
            "flex_flow": null,
            "grid_area": null,
            "grid_auto_columns": null,
            "grid_auto_flow": null,
            "grid_auto_rows": null,
            "grid_column": null,
            "grid_gap": null,
            "grid_row": null,
            "grid_template_areas": null,
            "grid_template_columns": null,
            "grid_template_rows": null,
            "height": null,
            "justify_content": null,
            "justify_items": null,
            "left": null,
            "margin": null,
            "max_height": null,
            "max_width": null,
            "min_height": null,
            "min_width": null,
            "object_fit": null,
            "object_position": null,
            "order": null,
            "overflow": null,
            "overflow_x": null,
            "overflow_y": null,
            "padding": null,
            "right": null,
            "top": null,
            "visibility": null,
            "width": null
          }
        },
        "31e1aeceb1464b0c81877ec689faab4f": {
          "model_module": "@jupyter-widgets/controls",
          "model_name": "DescriptionStyleModel",
          "model_module_version": "1.5.0",
          "state": {
            "_model_module": "@jupyter-widgets/controls",
            "_model_module_version": "1.5.0",
            "_model_name": "DescriptionStyleModel",
            "_view_count": null,
            "_view_module": "@jupyter-widgets/base",
            "_view_module_version": "1.2.0",
            "_view_name": "StyleView",
            "description_width": ""
          }
        },
        "40b90f631a2441d4948153d9f322ed63": {
          "model_module": "@jupyter-widgets/controls",
          "model_name": "HBoxModel",
          "model_module_version": "1.5.0",
          "state": {
            "_dom_classes": [],
            "_model_module": "@jupyter-widgets/controls",
            "_model_module_version": "1.5.0",
            "_model_name": "HBoxModel",
            "_view_count": null,
            "_view_module": "@jupyter-widgets/controls",
            "_view_module_version": "1.5.0",
            "_view_name": "HBoxView",
            "box_style": "",
            "children": [
              "IPY_MODEL_220254d8406a4221a12cc7c5e92f1003",
              "IPY_MODEL_ac7d2f15fba242b98897dc79cbaee446",
              "IPY_MODEL_69e1b085e64c4fdc8286103c0230abbf"
            ],
            "layout": "IPY_MODEL_720aeb66960b46af8a455745193168f8"
          }
        },
        "220254d8406a4221a12cc7c5e92f1003": {
          "model_module": "@jupyter-widgets/controls",
          "model_name": "HTMLModel",
          "model_module_version": "1.5.0",
          "state": {
            "_dom_classes": [],
            "_model_module": "@jupyter-widgets/controls",
            "_model_module_version": "1.5.0",
            "_model_name": "HTMLModel",
            "_view_count": null,
            "_view_module": "@jupyter-widgets/controls",
            "_view_module_version": "1.5.0",
            "_view_name": "HTMLView",
            "description": "",
            "description_tooltip": null,
            "layout": "IPY_MODEL_2936faff68fb497fb774bdd2621adfcb",
            "placeholder": "​",
            "style": "IPY_MODEL_d91e2c4e7cb749bbb272b3f0013e7a00",
            "value": "tokenizer_config.json: 100%"
          }
        },
        "ac7d2f15fba242b98897dc79cbaee446": {
          "model_module": "@jupyter-widgets/controls",
          "model_name": "FloatProgressModel",
          "model_module_version": "1.5.0",
          "state": {
            "_dom_classes": [],
            "_model_module": "@jupyter-widgets/controls",
            "_model_module_version": "1.5.0",
            "_model_name": "FloatProgressModel",
            "_view_count": null,
            "_view_module": "@jupyter-widgets/controls",
            "_view_module_version": "1.5.0",
            "_view_name": "ProgressView",
            "bar_style": "success",
            "description": "",
            "description_tooltip": null,
            "layout": "IPY_MODEL_52958d6545414d058bde6dac18d3e91f",
            "max": 48,
            "min": 0,
            "orientation": "horizontal",
            "style": "IPY_MODEL_209091a9628d46b6923643582377ecd9",
            "value": 48
          }
        },
        "69e1b085e64c4fdc8286103c0230abbf": {
          "model_module": "@jupyter-widgets/controls",
          "model_name": "HTMLModel",
          "model_module_version": "1.5.0",
          "state": {
            "_dom_classes": [],
            "_model_module": "@jupyter-widgets/controls",
            "_model_module_version": "1.5.0",
            "_model_name": "HTMLModel",
            "_view_count": null,
            "_view_module": "@jupyter-widgets/controls",
            "_view_module_version": "1.5.0",
            "_view_name": "HTMLView",
            "description": "",
            "description_tooltip": null,
            "layout": "IPY_MODEL_5b4f41f91d9e49bf9d3d1f7d93e2fe51",
            "placeholder": "​",
            "style": "IPY_MODEL_e3cf1186ec41462ebd7050eb9a953118",
            "value": " 48.0/48.0 [00:00&lt;00:00, 1.23kB/s]"
          }
        },
        "720aeb66960b46af8a455745193168f8": {
          "model_module": "@jupyter-widgets/base",
          "model_name": "LayoutModel",
          "model_module_version": "1.2.0",
          "state": {
            "_model_module": "@jupyter-widgets/base",
            "_model_module_version": "1.2.0",
            "_model_name": "LayoutModel",
            "_view_count": null,
            "_view_module": "@jupyter-widgets/base",
            "_view_module_version": "1.2.0",
            "_view_name": "LayoutView",
            "align_content": null,
            "align_items": null,
            "align_self": null,
            "border": null,
            "bottom": null,
            "display": null,
            "flex": null,
            "flex_flow": null,
            "grid_area": null,
            "grid_auto_columns": null,
            "grid_auto_flow": null,
            "grid_auto_rows": null,
            "grid_column": null,
            "grid_gap": null,
            "grid_row": null,
            "grid_template_areas": null,
            "grid_template_columns": null,
            "grid_template_rows": null,
            "height": null,
            "justify_content": null,
            "justify_items": null,
            "left": null,
            "margin": null,
            "max_height": null,
            "max_width": null,
            "min_height": null,
            "min_width": null,
            "object_fit": null,
            "object_position": null,
            "order": null,
            "overflow": null,
            "overflow_x": null,
            "overflow_y": null,
            "padding": null,
            "right": null,
            "top": null,
            "visibility": null,
            "width": null
          }
        },
        "2936faff68fb497fb774bdd2621adfcb": {
          "model_module": "@jupyter-widgets/base",
          "model_name": "LayoutModel",
          "model_module_version": "1.2.0",
          "state": {
            "_model_module": "@jupyter-widgets/base",
            "_model_module_version": "1.2.0",
            "_model_name": "LayoutModel",
            "_view_count": null,
            "_view_module": "@jupyter-widgets/base",
            "_view_module_version": "1.2.0",
            "_view_name": "LayoutView",
            "align_content": null,
            "align_items": null,
            "align_self": null,
            "border": null,
            "bottom": null,
            "display": null,
            "flex": null,
            "flex_flow": null,
            "grid_area": null,
            "grid_auto_columns": null,
            "grid_auto_flow": null,
            "grid_auto_rows": null,
            "grid_column": null,
            "grid_gap": null,
            "grid_row": null,
            "grid_template_areas": null,
            "grid_template_columns": null,
            "grid_template_rows": null,
            "height": null,
            "justify_content": null,
            "justify_items": null,
            "left": null,
            "margin": null,
            "max_height": null,
            "max_width": null,
            "min_height": null,
            "min_width": null,
            "object_fit": null,
            "object_position": null,
            "order": null,
            "overflow": null,
            "overflow_x": null,
            "overflow_y": null,
            "padding": null,
            "right": null,
            "top": null,
            "visibility": null,
            "width": null
          }
        },
        "d91e2c4e7cb749bbb272b3f0013e7a00": {
          "model_module": "@jupyter-widgets/controls",
          "model_name": "DescriptionStyleModel",
          "model_module_version": "1.5.0",
          "state": {
            "_model_module": "@jupyter-widgets/controls",
            "_model_module_version": "1.5.0",
            "_model_name": "DescriptionStyleModel",
            "_view_count": null,
            "_view_module": "@jupyter-widgets/base",
            "_view_module_version": "1.2.0",
            "_view_name": "StyleView",
            "description_width": ""
          }
        },
        "52958d6545414d058bde6dac18d3e91f": {
          "model_module": "@jupyter-widgets/base",
          "model_name": "LayoutModel",
          "model_module_version": "1.2.0",
          "state": {
            "_model_module": "@jupyter-widgets/base",
            "_model_module_version": "1.2.0",
            "_model_name": "LayoutModel",
            "_view_count": null,
            "_view_module": "@jupyter-widgets/base",
            "_view_module_version": "1.2.0",
            "_view_name": "LayoutView",
            "align_content": null,
            "align_items": null,
            "align_self": null,
            "border": null,
            "bottom": null,
            "display": null,
            "flex": null,
            "flex_flow": null,
            "grid_area": null,
            "grid_auto_columns": null,
            "grid_auto_flow": null,
            "grid_auto_rows": null,
            "grid_column": null,
            "grid_gap": null,
            "grid_row": null,
            "grid_template_areas": null,
            "grid_template_columns": null,
            "grid_template_rows": null,
            "height": null,
            "justify_content": null,
            "justify_items": null,
            "left": null,
            "margin": null,
            "max_height": null,
            "max_width": null,
            "min_height": null,
            "min_width": null,
            "object_fit": null,
            "object_position": null,
            "order": null,
            "overflow": null,
            "overflow_x": null,
            "overflow_y": null,
            "padding": null,
            "right": null,
            "top": null,
            "visibility": null,
            "width": null
          }
        },
        "209091a9628d46b6923643582377ecd9": {
          "model_module": "@jupyter-widgets/controls",
          "model_name": "ProgressStyleModel",
          "model_module_version": "1.5.0",
          "state": {
            "_model_module": "@jupyter-widgets/controls",
            "_model_module_version": "1.5.0",
            "_model_name": "ProgressStyleModel",
            "_view_count": null,
            "_view_module": "@jupyter-widgets/base",
            "_view_module_version": "1.2.0",
            "_view_name": "StyleView",
            "bar_color": null,
            "description_width": ""
          }
        },
        "5b4f41f91d9e49bf9d3d1f7d93e2fe51": {
          "model_module": "@jupyter-widgets/base",
          "model_name": "LayoutModel",
          "model_module_version": "1.2.0",
          "state": {
            "_model_module": "@jupyter-widgets/base",
            "_model_module_version": "1.2.0",
            "_model_name": "LayoutModel",
            "_view_count": null,
            "_view_module": "@jupyter-widgets/base",
            "_view_module_version": "1.2.0",
            "_view_name": "LayoutView",
            "align_content": null,
            "align_items": null,
            "align_self": null,
            "border": null,
            "bottom": null,
            "display": null,
            "flex": null,
            "flex_flow": null,
            "grid_area": null,
            "grid_auto_columns": null,
            "grid_auto_flow": null,
            "grid_auto_rows": null,
            "grid_column": null,
            "grid_gap": null,
            "grid_row": null,
            "grid_template_areas": null,
            "grid_template_columns": null,
            "grid_template_rows": null,
            "height": null,
            "justify_content": null,
            "justify_items": null,
            "left": null,
            "margin": null,
            "max_height": null,
            "max_width": null,
            "min_height": null,
            "min_width": null,
            "object_fit": null,
            "object_position": null,
            "order": null,
            "overflow": null,
            "overflow_x": null,
            "overflow_y": null,
            "padding": null,
            "right": null,
            "top": null,
            "visibility": null,
            "width": null
          }
        },
        "e3cf1186ec41462ebd7050eb9a953118": {
          "model_module": "@jupyter-widgets/controls",
          "model_name": "DescriptionStyleModel",
          "model_module_version": "1.5.0",
          "state": {
            "_model_module": "@jupyter-widgets/controls",
            "_model_module_version": "1.5.0",
            "_model_name": "DescriptionStyleModel",
            "_view_count": null,
            "_view_module": "@jupyter-widgets/base",
            "_view_module_version": "1.2.0",
            "_view_name": "StyleView",
            "description_width": ""
          }
        },
        "caf91bd2c3d7490b87d5a65dfe8bcb40": {
          "model_module": "@jupyter-widgets/controls",
          "model_name": "HBoxModel",
          "model_module_version": "1.5.0",
          "state": {
            "_dom_classes": [],
            "_model_module": "@jupyter-widgets/controls",
            "_model_module_version": "1.5.0",
            "_model_name": "HBoxModel",
            "_view_count": null,
            "_view_module": "@jupyter-widgets/controls",
            "_view_module_version": "1.5.0",
            "_view_name": "HBoxView",
            "box_style": "",
            "children": [
              "IPY_MODEL_4e51ed049d08448fbf2bc441dedd487e",
              "IPY_MODEL_5de11249c7ab4b9ab6cac4ba8759e39d",
              "IPY_MODEL_e94e953e94b04755999cbd538dce775d"
            ],
            "layout": "IPY_MODEL_0217ecf5f5464bdbb2e861f5634a83ee"
          }
        },
        "4e51ed049d08448fbf2bc441dedd487e": {
          "model_module": "@jupyter-widgets/controls",
          "model_name": "HTMLModel",
          "model_module_version": "1.5.0",
          "state": {
            "_dom_classes": [],
            "_model_module": "@jupyter-widgets/controls",
            "_model_module_version": "1.5.0",
            "_model_name": "HTMLModel",
            "_view_count": null,
            "_view_module": "@jupyter-widgets/controls",
            "_view_module_version": "1.5.0",
            "_view_name": "HTMLView",
            "description": "",
            "description_tooltip": null,
            "layout": "IPY_MODEL_dc38098e8df940ba9ca1a3368de5ea1b",
            "placeholder": "​",
            "style": "IPY_MODEL_8c2a528204db4cac8cd147c0551004ff",
            "value": "vocab.txt: 100%"
          }
        },
        "5de11249c7ab4b9ab6cac4ba8759e39d": {
          "model_module": "@jupyter-widgets/controls",
          "model_name": "FloatProgressModel",
          "model_module_version": "1.5.0",
          "state": {
            "_dom_classes": [],
            "_model_module": "@jupyter-widgets/controls",
            "_model_module_version": "1.5.0",
            "_model_name": "FloatProgressModel",
            "_view_count": null,
            "_view_module": "@jupyter-widgets/controls",
            "_view_module_version": "1.5.0",
            "_view_name": "ProgressView",
            "bar_style": "success",
            "description": "",
            "description_tooltip": null,
            "layout": "IPY_MODEL_2b72897d905f49b1bf7ee951fa5d5b0b",
            "max": 231508,
            "min": 0,
            "orientation": "horizontal",
            "style": "IPY_MODEL_a979b6a15cd34b9aac6eebaf8abc2019",
            "value": 231508
          }
        },
        "e94e953e94b04755999cbd538dce775d": {
          "model_module": "@jupyter-widgets/controls",
          "model_name": "HTMLModel",
          "model_module_version": "1.5.0",
          "state": {
            "_dom_classes": [],
            "_model_module": "@jupyter-widgets/controls",
            "_model_module_version": "1.5.0",
            "_model_name": "HTMLModel",
            "_view_count": null,
            "_view_module": "@jupyter-widgets/controls",
            "_view_module_version": "1.5.0",
            "_view_name": "HTMLView",
            "description": "",
            "description_tooltip": null,
            "layout": "IPY_MODEL_90ed5a7ef2724347b5f9267055d906df",
            "placeholder": "​",
            "style": "IPY_MODEL_8ef5d18577bd4222a6f0cfe1437a93c6",
            "value": " 232k/232k [00:00&lt;00:00, 2.08MB/s]"
          }
        },
        "0217ecf5f5464bdbb2e861f5634a83ee": {
          "model_module": "@jupyter-widgets/base",
          "model_name": "LayoutModel",
          "model_module_version": "1.2.0",
          "state": {
            "_model_module": "@jupyter-widgets/base",
            "_model_module_version": "1.2.0",
            "_model_name": "LayoutModel",
            "_view_count": null,
            "_view_module": "@jupyter-widgets/base",
            "_view_module_version": "1.2.0",
            "_view_name": "LayoutView",
            "align_content": null,
            "align_items": null,
            "align_self": null,
            "border": null,
            "bottom": null,
            "display": null,
            "flex": null,
            "flex_flow": null,
            "grid_area": null,
            "grid_auto_columns": null,
            "grid_auto_flow": null,
            "grid_auto_rows": null,
            "grid_column": null,
            "grid_gap": null,
            "grid_row": null,
            "grid_template_areas": null,
            "grid_template_columns": null,
            "grid_template_rows": null,
            "height": null,
            "justify_content": null,
            "justify_items": null,
            "left": null,
            "margin": null,
            "max_height": null,
            "max_width": null,
            "min_height": null,
            "min_width": null,
            "object_fit": null,
            "object_position": null,
            "order": null,
            "overflow": null,
            "overflow_x": null,
            "overflow_y": null,
            "padding": null,
            "right": null,
            "top": null,
            "visibility": null,
            "width": null
          }
        },
        "dc38098e8df940ba9ca1a3368de5ea1b": {
          "model_module": "@jupyter-widgets/base",
          "model_name": "LayoutModel",
          "model_module_version": "1.2.0",
          "state": {
            "_model_module": "@jupyter-widgets/base",
            "_model_module_version": "1.2.0",
            "_model_name": "LayoutModel",
            "_view_count": null,
            "_view_module": "@jupyter-widgets/base",
            "_view_module_version": "1.2.0",
            "_view_name": "LayoutView",
            "align_content": null,
            "align_items": null,
            "align_self": null,
            "border": null,
            "bottom": null,
            "display": null,
            "flex": null,
            "flex_flow": null,
            "grid_area": null,
            "grid_auto_columns": null,
            "grid_auto_flow": null,
            "grid_auto_rows": null,
            "grid_column": null,
            "grid_gap": null,
            "grid_row": null,
            "grid_template_areas": null,
            "grid_template_columns": null,
            "grid_template_rows": null,
            "height": null,
            "justify_content": null,
            "justify_items": null,
            "left": null,
            "margin": null,
            "max_height": null,
            "max_width": null,
            "min_height": null,
            "min_width": null,
            "object_fit": null,
            "object_position": null,
            "order": null,
            "overflow": null,
            "overflow_x": null,
            "overflow_y": null,
            "padding": null,
            "right": null,
            "top": null,
            "visibility": null,
            "width": null
          }
        },
        "8c2a528204db4cac8cd147c0551004ff": {
          "model_module": "@jupyter-widgets/controls",
          "model_name": "DescriptionStyleModel",
          "model_module_version": "1.5.0",
          "state": {
            "_model_module": "@jupyter-widgets/controls",
            "_model_module_version": "1.5.0",
            "_model_name": "DescriptionStyleModel",
            "_view_count": null,
            "_view_module": "@jupyter-widgets/base",
            "_view_module_version": "1.2.0",
            "_view_name": "StyleView",
            "description_width": ""
          }
        },
        "2b72897d905f49b1bf7ee951fa5d5b0b": {
          "model_module": "@jupyter-widgets/base",
          "model_name": "LayoutModel",
          "model_module_version": "1.2.0",
          "state": {
            "_model_module": "@jupyter-widgets/base",
            "_model_module_version": "1.2.0",
            "_model_name": "LayoutModel",
            "_view_count": null,
            "_view_module": "@jupyter-widgets/base",
            "_view_module_version": "1.2.0",
            "_view_name": "LayoutView",
            "align_content": null,
            "align_items": null,
            "align_self": null,
            "border": null,
            "bottom": null,
            "display": null,
            "flex": null,
            "flex_flow": null,
            "grid_area": null,
            "grid_auto_columns": null,
            "grid_auto_flow": null,
            "grid_auto_rows": null,
            "grid_column": null,
            "grid_gap": null,
            "grid_row": null,
            "grid_template_areas": null,
            "grid_template_columns": null,
            "grid_template_rows": null,
            "height": null,
            "justify_content": null,
            "justify_items": null,
            "left": null,
            "margin": null,
            "max_height": null,
            "max_width": null,
            "min_height": null,
            "min_width": null,
            "object_fit": null,
            "object_position": null,
            "order": null,
            "overflow": null,
            "overflow_x": null,
            "overflow_y": null,
            "padding": null,
            "right": null,
            "top": null,
            "visibility": null,
            "width": null
          }
        },
        "a979b6a15cd34b9aac6eebaf8abc2019": {
          "model_module": "@jupyter-widgets/controls",
          "model_name": "ProgressStyleModel",
          "model_module_version": "1.5.0",
          "state": {
            "_model_module": "@jupyter-widgets/controls",
            "_model_module_version": "1.5.0",
            "_model_name": "ProgressStyleModel",
            "_view_count": null,
            "_view_module": "@jupyter-widgets/base",
            "_view_module_version": "1.2.0",
            "_view_name": "StyleView",
            "bar_color": null,
            "description_width": ""
          }
        },
        "90ed5a7ef2724347b5f9267055d906df": {
          "model_module": "@jupyter-widgets/base",
          "model_name": "LayoutModel",
          "model_module_version": "1.2.0",
          "state": {
            "_model_module": "@jupyter-widgets/base",
            "_model_module_version": "1.2.0",
            "_model_name": "LayoutModel",
            "_view_count": null,
            "_view_module": "@jupyter-widgets/base",
            "_view_module_version": "1.2.0",
            "_view_name": "LayoutView",
            "align_content": null,
            "align_items": null,
            "align_self": null,
            "border": null,
            "bottom": null,
            "display": null,
            "flex": null,
            "flex_flow": null,
            "grid_area": null,
            "grid_auto_columns": null,
            "grid_auto_flow": null,
            "grid_auto_rows": null,
            "grid_column": null,
            "grid_gap": null,
            "grid_row": null,
            "grid_template_areas": null,
            "grid_template_columns": null,
            "grid_template_rows": null,
            "height": null,
            "justify_content": null,
            "justify_items": null,
            "left": null,
            "margin": null,
            "max_height": null,
            "max_width": null,
            "min_height": null,
            "min_width": null,
            "object_fit": null,
            "object_position": null,
            "order": null,
            "overflow": null,
            "overflow_x": null,
            "overflow_y": null,
            "padding": null,
            "right": null,
            "top": null,
            "visibility": null,
            "width": null
          }
        },
        "8ef5d18577bd4222a6f0cfe1437a93c6": {
          "model_module": "@jupyter-widgets/controls",
          "model_name": "DescriptionStyleModel",
          "model_module_version": "1.5.0",
          "state": {
            "_model_module": "@jupyter-widgets/controls",
            "_model_module_version": "1.5.0",
            "_model_name": "DescriptionStyleModel",
            "_view_count": null,
            "_view_module": "@jupyter-widgets/base",
            "_view_module_version": "1.2.0",
            "_view_name": "StyleView",
            "description_width": ""
          }
        }
      }
    }
  },
  "cells": [
    {
      "cell_type": "code",
      "source": [
        "!pip install yahoofinancials\n",
        "!pip install finnhub-python\n",
        "!pip install catboost\n",
        "import pandas as pd\n",
        "import numpy as np\n",
        "import yfinance as yf\n",
        "from yahoofinancials import YahooFinancials\n",
        "from sklearn import metrics\n",
        "from catboost  import CatBoostClassifier\n",
        "import finnhub\n",
        "from transformers import pipeline\n",
        "sentiment_pipeline = pipeline(\"sentiment-analysis\")\n"
      ],
      "metadata": {
        "colab": {
          "base_uri": "https://localhost:8080/",
          "height": 1000,
          "referenced_widgets": [
            "a259a0336bd549539dea400cf4b950e7",
            "da01f950ee934b12bd951cfa703dcaad",
            "355c0bade03949c2a1f9a2cced22757b",
            "5f2bfded52f944a786ccd3b5894f290f",
            "12e8a77319fb4751a202672758ddef4e",
            "fc0c7e1b02db4fec88f2671c5ab6a3bb",
            "5cecc6acf7b14a38a1640f5311eae763",
            "75f924abbeaa43b9818fa01b3ca75cd8",
            "76ae0ad14cc64f5d9a8b466faf103601",
            "d200ec4a908d41258c06e8251b0aab59",
            "f2ead0adb30d40948cbc6953d2a9f53d",
            "6a27c06b2a764b5e91373f49376bf071",
            "36aae5fa165f4bda99cbbb5d4ef86084",
            "bc08ca00c9894c7d8608f8fd7fcfd7be",
            "f68e6896bb5a4501b045ef2b75a0256f",
            "d091213898b84e47aee090ccb97b8b88",
            "a9c50696230f400599a5c98926722091",
            "35b9aad9c24f4c90bddae15891685a5b",
            "7aaf5fb98e664566a4450d6ab84e52d8",
            "d2b54a0745e240f8b73337fa482ffc67",
            "0879bb2d9a5c478da8b9103836c95df0",
            "31e1aeceb1464b0c81877ec689faab4f",
            "40b90f631a2441d4948153d9f322ed63",
            "220254d8406a4221a12cc7c5e92f1003",
            "ac7d2f15fba242b98897dc79cbaee446",
            "69e1b085e64c4fdc8286103c0230abbf",
            "720aeb66960b46af8a455745193168f8",
            "2936faff68fb497fb774bdd2621adfcb",
            "d91e2c4e7cb749bbb272b3f0013e7a00",
            "52958d6545414d058bde6dac18d3e91f",
            "209091a9628d46b6923643582377ecd9",
            "5b4f41f91d9e49bf9d3d1f7d93e2fe51",
            "e3cf1186ec41462ebd7050eb9a953118",
            "caf91bd2c3d7490b87d5a65dfe8bcb40",
            "4e51ed049d08448fbf2bc441dedd487e",
            "5de11249c7ab4b9ab6cac4ba8759e39d",
            "e94e953e94b04755999cbd538dce775d",
            "0217ecf5f5464bdbb2e861f5634a83ee",
            "dc38098e8df940ba9ca1a3368de5ea1b",
            "8c2a528204db4cac8cd147c0551004ff",
            "2b72897d905f49b1bf7ee951fa5d5b0b",
            "a979b6a15cd34b9aac6eebaf8abc2019",
            "90ed5a7ef2724347b5f9267055d906df",
            "8ef5d18577bd4222a6f0cfe1437a93c6"
          ]
        },
        "collapsed": true,
        "id": "o0NBVa2_sKc3",
        "outputId": "a4bed840-23a8-49e1-a047-de02d639a752"
      },
      "execution_count": 1,
      "outputs": [
        {
          "output_type": "stream",
          "name": "stdout",
          "text": [
            "Collecting yahoofinancials\n",
            "  Downloading yahoofinancials-1.20.tar.gz (51 kB)\n",
            "\u001b[?25l     \u001b[90m━━━━━━━━━━━━━━━━━━━━━━━━━━━━━━━━━━━━━━━━\u001b[0m \u001b[32m0.0/51.9 kB\u001b[0m \u001b[31m?\u001b[0m eta \u001b[36m-:--:--\u001b[0m\r\u001b[2K     \u001b[90m━━━━━━━━━━━━━━━━━━━━━━━━━━━━━━━━━━━━━━━━\u001b[0m \u001b[32m51.9/51.9 kB\u001b[0m \u001b[31m2.1 MB/s\u001b[0m eta \u001b[36m0:00:00\u001b[0m\n",
            "\u001b[?25h  Preparing metadata (setup.py) ... \u001b[?25l\u001b[?25hdone\n",
            "Requirement already satisfied: pytz>=2022.5 in /usr/local/lib/python3.11/dist-packages (from yahoofinancials) (2024.2)\n",
            "Requirement already satisfied: requests>=2.31 in /usr/local/lib/python3.11/dist-packages (from yahoofinancials) (2.32.3)\n",
            "Collecting appdirs>=1.4.4 (from yahoofinancials)\n",
            "  Downloading appdirs-1.4.4-py2.py3-none-any.whl.metadata (9.0 kB)\n",
            "Requirement already satisfied: frozendict>=2.3.4 in /usr/local/lib/python3.11/dist-packages (from yahoofinancials) (2.4.6)\n",
            "Requirement already satisfied: peewee>=3.16.2 in /usr/local/lib/python3.11/dist-packages (from yahoofinancials) (3.17.8)\n",
            "Requirement already satisfied: beautifulsoup4>=4.11.1 in /usr/local/lib/python3.11/dist-packages (from yahoofinancials) (4.12.3)\n",
            "Requirement already satisfied: lxml>=4.9.1 in /usr/local/lib/python3.11/dist-packages (from yahoofinancials) (5.3.0)\n",
            "Requirement already satisfied: soupsieve>1.2 in /usr/local/lib/python3.11/dist-packages (from beautifulsoup4>=4.11.1->yahoofinancials) (2.6)\n",
            "Requirement already satisfied: charset-normalizer<4,>=2 in /usr/local/lib/python3.11/dist-packages (from requests>=2.31->yahoofinancials) (3.4.1)\n",
            "Requirement already satisfied: idna<4,>=2.5 in /usr/local/lib/python3.11/dist-packages (from requests>=2.31->yahoofinancials) (3.10)\n",
            "Requirement already satisfied: urllib3<3,>=1.21.1 in /usr/local/lib/python3.11/dist-packages (from requests>=2.31->yahoofinancials) (2.3.0)\n",
            "Requirement already satisfied: certifi>=2017.4.17 in /usr/local/lib/python3.11/dist-packages (from requests>=2.31->yahoofinancials) (2024.12.14)\n",
            "Downloading appdirs-1.4.4-py2.py3-none-any.whl (9.6 kB)\n",
            "Building wheels for collected packages: yahoofinancials\n",
            "  Building wheel for yahoofinancials (setup.py) ... \u001b[?25l\u001b[?25hdone\n",
            "  Created wheel for yahoofinancials: filename=yahoofinancials-1.20-py3-none-any.whl size=38620 sha256=f0c9ef15ee030d5e03662ac702a6695a5ea78b809f47a8d90bb71bafcb528227\n",
            "  Stored in directory: /root/.cache/pip/wheels/c6/bc/18/da12b3c280d31beeac0c0f491c8f370da7c1473a56d7d4b5f3\n",
            "Successfully built yahoofinancials\n",
            "Installing collected packages: appdirs, yahoofinancials\n",
            "Successfully installed appdirs-1.4.4 yahoofinancials-1.20\n",
            "Collecting finnhub-python\n",
            "  Downloading finnhub_python-2.4.22-py3-none-any.whl.metadata (9.0 kB)\n",
            "Requirement already satisfied: requests>=2.22.0 in /usr/local/lib/python3.11/dist-packages (from finnhub-python) (2.32.3)\n",
            "Requirement already satisfied: charset-normalizer<4,>=2 in /usr/local/lib/python3.11/dist-packages (from requests>=2.22.0->finnhub-python) (3.4.1)\n",
            "Requirement already satisfied: idna<4,>=2.5 in /usr/local/lib/python3.11/dist-packages (from requests>=2.22.0->finnhub-python) (3.10)\n",
            "Requirement already satisfied: urllib3<3,>=1.21.1 in /usr/local/lib/python3.11/dist-packages (from requests>=2.22.0->finnhub-python) (2.3.0)\n",
            "Requirement already satisfied: certifi>=2017.4.17 in /usr/local/lib/python3.11/dist-packages (from requests>=2.22.0->finnhub-python) (2024.12.14)\n",
            "Downloading finnhub_python-2.4.22-py3-none-any.whl (11 kB)\n",
            "Installing collected packages: finnhub-python\n",
            "Successfully installed finnhub-python-2.4.22\n",
            "Collecting catboost\n",
            "  Downloading catboost-1.2.7-cp311-cp311-manylinux2014_x86_64.whl.metadata (1.2 kB)\n",
            "Requirement already satisfied: graphviz in /usr/local/lib/python3.11/dist-packages (from catboost) (0.20.3)\n",
            "Requirement already satisfied: matplotlib in /usr/local/lib/python3.11/dist-packages (from catboost) (3.10.0)\n",
            "Requirement already satisfied: numpy<2.0,>=1.16.0 in /usr/local/lib/python3.11/dist-packages (from catboost) (1.26.4)\n",
            "Requirement already satisfied: pandas>=0.24 in /usr/local/lib/python3.11/dist-packages (from catboost) (2.2.2)\n",
            "Requirement already satisfied: scipy in /usr/local/lib/python3.11/dist-packages (from catboost) (1.13.1)\n",
            "Requirement already satisfied: plotly in /usr/local/lib/python3.11/dist-packages (from catboost) (5.24.1)\n",
            "Requirement already satisfied: six in /usr/local/lib/python3.11/dist-packages (from catboost) (1.17.0)\n",
            "Requirement already satisfied: python-dateutil>=2.8.2 in /usr/local/lib/python3.11/dist-packages (from pandas>=0.24->catboost) (2.8.2)\n",
            "Requirement already satisfied: pytz>=2020.1 in /usr/local/lib/python3.11/dist-packages (from pandas>=0.24->catboost) (2024.2)\n",
            "Requirement already satisfied: tzdata>=2022.7 in /usr/local/lib/python3.11/dist-packages (from pandas>=0.24->catboost) (2025.1)\n",
            "Requirement already satisfied: contourpy>=1.0.1 in /usr/local/lib/python3.11/dist-packages (from matplotlib->catboost) (1.3.1)\n",
            "Requirement already satisfied: cycler>=0.10 in /usr/local/lib/python3.11/dist-packages (from matplotlib->catboost) (0.12.1)\n",
            "Requirement already satisfied: fonttools>=4.22.0 in /usr/local/lib/python3.11/dist-packages (from matplotlib->catboost) (4.55.6)\n",
            "Requirement already satisfied: kiwisolver>=1.3.1 in /usr/local/lib/python3.11/dist-packages (from matplotlib->catboost) (1.4.8)\n",
            "Requirement already satisfied: packaging>=20.0 in /usr/local/lib/python3.11/dist-packages (from matplotlib->catboost) (24.2)\n",
            "Requirement already satisfied: pillow>=8 in /usr/local/lib/python3.11/dist-packages (from matplotlib->catboost) (11.1.0)\n",
            "Requirement already satisfied: pyparsing>=2.3.1 in /usr/local/lib/python3.11/dist-packages (from matplotlib->catboost) (3.2.1)\n",
            "Requirement already satisfied: tenacity>=6.2.0 in /usr/local/lib/python3.11/dist-packages (from plotly->catboost) (9.0.0)\n",
            "Downloading catboost-1.2.7-cp311-cp311-manylinux2014_x86_64.whl (98.7 MB)\n",
            "\u001b[2K   \u001b[90m━━━━━━━━━━━━━━━━━━━━━━━━━━━━━━━━━━━━━━━━\u001b[0m \u001b[32m98.7/98.7 MB\u001b[0m \u001b[31m7.5 MB/s\u001b[0m eta \u001b[36m0:00:00\u001b[0m\n",
            "\u001b[?25hInstalling collected packages: catboost\n",
            "Successfully installed catboost-1.2.7\n"
          ]
        },
        {
          "output_type": "stream",
          "name": "stderr",
          "text": [
            "No model was supplied, defaulted to distilbert/distilbert-base-uncased-finetuned-sst-2-english and revision 714eb0f (https://huggingface.co/distilbert/distilbert-base-uncased-finetuned-sst-2-english).\n",
            "Using a pipeline without specifying a model name and revision in production is not recommended.\n",
            "/usr/local/lib/python3.11/dist-packages/huggingface_hub/utils/_auth.py:94: UserWarning: \n",
            "The secret `HF_TOKEN` does not exist in your Colab secrets.\n",
            "To authenticate with the Hugging Face Hub, create a token in your settings tab (https://huggingface.co/settings/tokens), set it as secret in your Google Colab and restart your session.\n",
            "You will be able to reuse this secret in all of your notebooks.\n",
            "Please note that authentication is recommended but still optional to access public models or datasets.\n",
            "  warnings.warn(\n"
          ]
        },
        {
          "output_type": "display_data",
          "data": {
            "text/plain": [
              "config.json:   0%|          | 0.00/629 [00:00<?, ?B/s]"
            ],
            "application/vnd.jupyter.widget-view+json": {
              "version_major": 2,
              "version_minor": 0,
              "model_id": "a259a0336bd549539dea400cf4b950e7"
            }
          },
          "metadata": {}
        },
        {
          "output_type": "display_data",
          "data": {
            "text/plain": [
              "model.safetensors:   0%|          | 0.00/268M [00:00<?, ?B/s]"
            ],
            "application/vnd.jupyter.widget-view+json": {
              "version_major": 2,
              "version_minor": 0,
              "model_id": "6a27c06b2a764b5e91373f49376bf071"
            }
          },
          "metadata": {}
        },
        {
          "output_type": "display_data",
          "data": {
            "text/plain": [
              "tokenizer_config.json:   0%|          | 0.00/48.0 [00:00<?, ?B/s]"
            ],
            "application/vnd.jupyter.widget-view+json": {
              "version_major": 2,
              "version_minor": 0,
              "model_id": "40b90f631a2441d4948153d9f322ed63"
            }
          },
          "metadata": {}
        },
        {
          "output_type": "display_data",
          "data": {
            "text/plain": [
              "vocab.txt:   0%|          | 0.00/232k [00:00<?, ?B/s]"
            ],
            "application/vnd.jupyter.widget-view+json": {
              "version_major": 2,
              "version_minor": 0,
              "model_id": "caf91bd2c3d7490b87d5a65dfe8bcb40"
            }
          },
          "metadata": {}
        },
        {
          "output_type": "stream",
          "name": "stderr",
          "text": [
            "Device set to use cpu\n"
          ]
        }
      ]
    },
    {
      "cell_type": "code",
      "source": [
        "#from google.colab import drive\n",
        "#drive.mount('/content/drive')\n",
        "#from google.colab import drive\n",
        "#drive.mount('/content/gdrive')\n",
        "\n",
        "# This is a API key I had to generate from finnhub portal, access is free for these news\n",
        "finnhub_client = finnhub.Client(api_key=\"cucdo4pr01qri16nkovgcucdo4pr01qri16nkp00\")\n",
        "pd.options.display.max_rows = 999\n",
        "\n",
        "# https://www.nasdaq.com/market-activity/stocks/screener?exchange=NASDAQ&render=download\n",
        "NASDAQ = '/content/gdrive/MyDrive/Colab Notebooks/nasdaq_screener_1738035733789.csv'\n",
        "\n",
        "stock_data_lookup=pd.read_csv(\"{}\".format(NASDAQ))\n",
        "stock_data_lookup['Last Sale']=stock_data_lookup['Last Sale'].apply(lambda x: x.split('$')[1])\n",
        "stock_data_lookup['Last Sale']=stock_data_lookup['Last Sale'].astype('float')\n",
        "stock_data_lookup=stock_data_lookup[(stock_data_lookup['Last Sale']>20) ]\n",
        "stock_data_lookup=stock_data_lookup[stock_data_lookup['Volume']>500000]\n",
        "\n",
        "df_columns = ['Date', 'Close', 'High', 'Low', 'Open', 'Volume','related']\n",
        "df_sentiment_columns = ['related','source','summary','category','datetime']\n",
        "\n",
        "df_stock=pd.DataFrame(columns=df_columns)\n",
        "df_sentiment=pd.DataFrame(columns=df_sentiment_columns)\n",
        "\n",
        "for n,i in  enumerate(stock_data_lookup['Symbol'].sample(n=120).to_list()):\n",
        "    try:\n",
        "        # get the stock pricing data from yahoo finance API\n",
        "        tmp_df = yf.download(\"{}\".format(i), period='1y')\n",
        "        tmp_df.columns = tmp_df.columns.get_level_values(0)\n",
        "        tmp_df=tmp_df.reset_index()\n",
        "        tmp_df['related']=i\n",
        "        tmp_df.columns= df_columns\n",
        "        df_stock=pd.concat([tmp_df,df_stock])\n",
        "        print (n, ' out of {}'.format(df_stock.shape[0]), i)\n",
        "\n",
        "        # get the stock sentiment data from finnhub API (API key is above, this is my personal key that I created on their website)\n",
        "        data=finnhub_client.company_news(\"{}\".format(i),\n",
        "                                         _from= (pd.to_datetime('today')+ pd.DateOffset(years=-1)).strftime('%Y-%m-%d'),\n",
        "                                         to=pd.to_datetime('today').strftime('%Y-%m-%d'))\n",
        "        if data:\n",
        "             tmp_df=pd.DataFrame(data)[df_sentiment_columns]\n",
        "             df_sentiment=pd.concat([tmp_df,df_sentiment])\n",
        "    except:\n",
        "        print (\"Stock ({}) data wasn't retrieved\".format(i))\n",
        "        pass  # no need to throw an error\n",
        "\n",
        "print (df_sentiment.shape,df_stock.shape )\n",
        "df_sentiment['dt_time'] = pd.to_datetime(df_sentiment.datetime, unit='s')\n",
        "df_sentiment['dt_date']= pd.to_datetime(df_sentiment.dt_time.dt.date)\n",
        "df_stock['dt_date'] = pd.to_datetime(df_stock['Date'])\n",
        "\n",
        "# Left joining stock price and stock sentiment data in stock name and data\n",
        "# Removing news after market is closed to make sure we respect causality.\n",
        "df_sentiment[df_sentiment.dt_time.dt.time<pd.to_datetime('16:00:00').time()]\n",
        "df = pd.merge(df_stock,df_sentiment, on = ['related','dt_date' ], how='left')\n",
        "\n",
        "\n"
      ],
      "metadata": {
        "colab": {
          "base_uri": "https://localhost:8080/"
        },
        "id": "F33XX_TkQgGr",
        "outputId": "ce7ef627-11a2-4541-80e9-010135ddf8fe"
      },
      "execution_count": 33,
      "outputs": [
        {
          "output_type": "stream",
          "name": "stderr",
          "text": [
            "\r[*********************100%***********************]  1 of 1 completed\n",
            "<ipython-input-33-ea3cb2ed05ef>:33: FutureWarning: The behavior of DataFrame concatenation with empty or all-NA entries is deprecated. In a future version, this will no longer exclude empty or all-NA columns when determining the result dtypes. To retain the old behavior, exclude the relevant entries before the concat operation.\n",
            "  df_stock=pd.concat([tmp_df,df_stock])\n"
          ]
        },
        {
          "output_type": "stream",
          "name": "stdout",
          "text": [
            "0  out of 251 EXEL\n"
          ]
        },
        {
          "output_type": "stream",
          "name": "stderr",
          "text": [
            "\r[*********************100%***********************]  1 of 1 completed\n"
          ]
        },
        {
          "output_type": "stream",
          "name": "stdout",
          "text": [
            "1  out of 502 INCY\n"
          ]
        },
        {
          "output_type": "stream",
          "name": "stderr",
          "text": [
            "\r[*********************100%***********************]  1 of 1 completed\n"
          ]
        },
        {
          "output_type": "stream",
          "name": "stdout",
          "text": [
            "2  out of 753 PCVX\n"
          ]
        },
        {
          "output_type": "stream",
          "name": "stderr",
          "text": [
            "\r[*********************100%***********************]  1 of 1 completed\n"
          ]
        },
        {
          "output_type": "stream",
          "name": "stdout",
          "text": [
            "3  out of 1004 RNA\n"
          ]
        },
        {
          "output_type": "stream",
          "name": "stderr",
          "text": [
            "\r[*********************100%***********************]  1 of 1 completed\n"
          ]
        },
        {
          "output_type": "stream",
          "name": "stdout",
          "text": [
            "4  out of 1255 VRRM\n"
          ]
        },
        {
          "output_type": "stream",
          "name": "stderr",
          "text": [
            "\r[*********************100%***********************]  1 of 1 completed\n"
          ]
        },
        {
          "output_type": "stream",
          "name": "stdout",
          "text": [
            "5  out of 1506 LITE\n"
          ]
        },
        {
          "output_type": "stream",
          "name": "stderr",
          "text": [
            "\r[*********************100%***********************]  1 of 1 completed\n"
          ]
        },
        {
          "output_type": "stream",
          "name": "stdout",
          "text": [
            "6  out of 1757 SBAC\n"
          ]
        },
        {
          "output_type": "stream",
          "name": "stderr",
          "text": [
            "\r[*********************100%***********************]  1 of 1 completed\n"
          ]
        },
        {
          "output_type": "stream",
          "name": "stdout",
          "text": [
            "7  out of 2008 FFIV\n"
          ]
        },
        {
          "output_type": "stream",
          "name": "stderr",
          "text": [
            "\r[*********************100%***********************]  1 of 1 completed\n"
          ]
        },
        {
          "output_type": "stream",
          "name": "stdout",
          "text": [
            "8  out of 2259 NWE\n"
          ]
        },
        {
          "output_type": "stream",
          "name": "stderr",
          "text": [
            "\r[*********************100%***********************]  1 of 1 completed\n"
          ]
        },
        {
          "output_type": "stream",
          "name": "stdout",
          "text": [
            "9  out of 2510 FIVN\n"
          ]
        },
        {
          "output_type": "stream",
          "name": "stderr",
          "text": [
            "\r[*********************100%***********************]  1 of 1 completed\n"
          ]
        },
        {
          "output_type": "stream",
          "name": "stdout",
          "text": [
            "10  out of 2761 CART\n"
          ]
        },
        {
          "output_type": "stream",
          "name": "stderr",
          "text": [
            "\r[*********************100%***********************]  1 of 1 completed\n"
          ]
        },
        {
          "output_type": "stream",
          "name": "stdout",
          "text": [
            "11  out of 3012 CALM\n"
          ]
        },
        {
          "output_type": "stream",
          "name": "stderr",
          "text": [
            "\r[*********************100%***********************]  1 of 1 completed\n"
          ]
        },
        {
          "output_type": "stream",
          "name": "stdout",
          "text": [
            "12  out of 3263 OLLI\n"
          ]
        },
        {
          "output_type": "stream",
          "name": "stderr",
          "text": [
            "\r[*********************100%***********************]  1 of 1 completed\n"
          ]
        },
        {
          "output_type": "stream",
          "name": "stdout",
          "text": [
            "13  out of 3514 GDS\n"
          ]
        },
        {
          "output_type": "stream",
          "name": "stderr",
          "text": [
            "[*********************100%***********************]  1 of 1 completed\n",
            "[*********************100%***********************]  1 of 1 completed\n"
          ]
        },
        {
          "output_type": "stream",
          "name": "stdout",
          "text": [
            "14  out of 3765 CGON\n",
            "15  out of 4016 PZZA\n"
          ]
        },
        {
          "output_type": "stream",
          "name": "stderr",
          "text": [
            "\r[*********************100%***********************]  1 of 1 completed\n"
          ]
        },
        {
          "output_type": "stream",
          "name": "stdout",
          "text": [
            "16  out of 4267 TECH\n"
          ]
        },
        {
          "output_type": "stream",
          "name": "stderr",
          "text": [
            "\r[*********************100%***********************]  1 of 1 completed\n"
          ]
        },
        {
          "output_type": "stream",
          "name": "stdout",
          "text": [
            "17  out of 4518 ACVA\n"
          ]
        },
        {
          "output_type": "stream",
          "name": "stderr",
          "text": [
            "\r[*********************100%***********************]  1 of 1 completed\n"
          ]
        },
        {
          "output_type": "stream",
          "name": "stdout",
          "text": [
            "18  out of 4769 LEGN\n"
          ]
        },
        {
          "output_type": "stream",
          "name": "stderr",
          "text": [
            "\r[*********************100%***********************]  1 of 1 completed\n"
          ]
        },
        {
          "output_type": "stream",
          "name": "stdout",
          "text": [
            "19  out of 5020 TTEK\n"
          ]
        },
        {
          "output_type": "stream",
          "name": "stderr",
          "text": [
            "\r[*********************100%***********************]  1 of 1 completed\n"
          ]
        },
        {
          "output_type": "stream",
          "name": "stdout",
          "text": [
            "20  out of 5271 PPC\n"
          ]
        },
        {
          "output_type": "stream",
          "name": "stderr",
          "text": [
            "\r[*********************100%***********************]  1 of 1 completed\n"
          ]
        },
        {
          "output_type": "stream",
          "name": "stdout",
          "text": [
            "21  out of 5522 CSGP\n"
          ]
        },
        {
          "output_type": "stream",
          "name": "stderr",
          "text": [
            "\r[*********************100%***********************]  1 of 1 completed\n"
          ]
        },
        {
          "output_type": "stream",
          "name": "stdout",
          "text": [
            "22  out of 5773 VRSN\n"
          ]
        },
        {
          "output_type": "stream",
          "name": "stderr",
          "text": [
            "\r[*********************100%***********************]  1 of 1 completed\n"
          ]
        },
        {
          "output_type": "stream",
          "name": "stdout",
          "text": [
            "23  out of 6024 HRMY\n"
          ]
        },
        {
          "output_type": "stream",
          "name": "stderr",
          "text": [
            "\r[*********************100%***********************]  1 of 1 completed\n"
          ]
        },
        {
          "output_type": "stream",
          "name": "stdout",
          "text": [
            "24  out of 6275 PPBI\n"
          ]
        },
        {
          "output_type": "stream",
          "name": "stderr",
          "text": [
            "\r[*********************100%***********************]  1 of 1 completed\n"
          ]
        },
        {
          "output_type": "stream",
          "name": "stdout",
          "text": [
            "25  out of 6526 PSIX\n"
          ]
        },
        {
          "output_type": "stream",
          "name": "stderr",
          "text": [
            "\r[*********************100%***********************]  1 of 1 completed\n"
          ]
        },
        {
          "output_type": "stream",
          "name": "stdout",
          "text": [
            "26  out of 6777 ACHC\n"
          ]
        },
        {
          "output_type": "stream",
          "name": "stderr",
          "text": [
            "\r[*********************100%***********************]  1 of 1 completed\n"
          ]
        },
        {
          "output_type": "stream",
          "name": "stdout",
          "text": [
            "27  out of 7028 QNST\n"
          ]
        },
        {
          "output_type": "stream",
          "name": "stderr",
          "text": [
            "\r[*********************100%***********************]  1 of 1 completed\n"
          ]
        },
        {
          "output_type": "stream",
          "name": "stdout",
          "text": [
            "28  out of 7279 AGYS\n"
          ]
        },
        {
          "output_type": "stream",
          "name": "stderr",
          "text": [
            "\r[*********************100%***********************]  1 of 1 completed\n"
          ]
        },
        {
          "output_type": "stream",
          "name": "stdout",
          "text": [
            "29  out of 7530 SBUX\n"
          ]
        },
        {
          "output_type": "stream",
          "name": "stderr",
          "text": [
            "\r[*********************100%***********************]  1 of 1 completed\n"
          ]
        },
        {
          "output_type": "stream",
          "name": "stdout",
          "text": [
            "30  out of 7781 CEG\n"
          ]
        },
        {
          "output_type": "stream",
          "name": "stderr",
          "text": [
            "\r[*********************100%***********************]  1 of 1 completed\n"
          ]
        },
        {
          "output_type": "stream",
          "name": "stdout",
          "text": [
            "31  out of 8032 DDOG\n"
          ]
        },
        {
          "output_type": "stream",
          "name": "stderr",
          "text": [
            "\r[*********************100%***********************]  1 of 1 completed\n"
          ]
        },
        {
          "output_type": "stream",
          "name": "stdout",
          "text": [
            "32  out of 8283 SSNC\n"
          ]
        },
        {
          "output_type": "stream",
          "name": "stderr",
          "text": [
            "\r[*********************100%***********************]  1 of 1 completed\n"
          ]
        },
        {
          "output_type": "stream",
          "name": "stdout",
          "text": [
            "33  out of 8534 INSM\n"
          ]
        },
        {
          "output_type": "stream",
          "name": "stderr",
          "text": [
            "\r[*********************100%***********************]  1 of 1 completed\n"
          ]
        },
        {
          "output_type": "stream",
          "name": "stdout",
          "text": [
            "34  out of 8785 NAMS\n"
          ]
        },
        {
          "output_type": "stream",
          "name": "stderr",
          "text": [
            "\r[*********************100%***********************]  1 of 1 completed\n"
          ]
        },
        {
          "output_type": "stream",
          "name": "stdout",
          "text": [
            "35  out of 9036 TXN\n"
          ]
        },
        {
          "output_type": "stream",
          "name": "stderr",
          "text": [
            "\r[*********************100%***********************]  1 of 1 completed\n"
          ]
        },
        {
          "output_type": "stream",
          "name": "stdout",
          "text": [
            "36  out of 9287 PRCT\n"
          ]
        },
        {
          "output_type": "stream",
          "name": "stderr",
          "text": [
            "\r[*********************100%***********************]  1 of 1 completed\n"
          ]
        },
        {
          "output_type": "stream",
          "name": "stdout",
          "text": [
            "37  out of 9538 PANW\n"
          ]
        },
        {
          "output_type": "stream",
          "name": "stderr",
          "text": [
            "\r[*********************100%***********************]  1 of 1 completed\n"
          ]
        },
        {
          "output_type": "stream",
          "name": "stdout",
          "text": [
            "38  out of 9789 EXE\n"
          ]
        },
        {
          "output_type": "stream",
          "name": "stderr",
          "text": [
            "\r[*********************100%***********************]  1 of 1 completed\n"
          ]
        },
        {
          "output_type": "stream",
          "name": "stdout",
          "text": [
            "39  out of 10040 WGS\n"
          ]
        },
        {
          "output_type": "stream",
          "name": "stderr",
          "text": [
            "\r[*********************100%***********************]  1 of 1 completed\n"
          ]
        },
        {
          "output_type": "stream",
          "name": "stdout",
          "text": [
            "40  out of 10291 LNT\n"
          ]
        },
        {
          "output_type": "stream",
          "name": "stderr",
          "text": [
            "\r[*********************100%***********************]  1 of 1 completed\n"
          ]
        },
        {
          "output_type": "stream",
          "name": "stdout",
          "text": [
            "41  out of 10542 NVCR\n"
          ]
        },
        {
          "output_type": "stream",
          "name": "stderr",
          "text": [
            "\r[*********************100%***********************]  1 of 1 completed\n"
          ]
        },
        {
          "output_type": "stream",
          "name": "stdout",
          "text": [
            "42  out of 10793 MDB\n"
          ]
        },
        {
          "output_type": "stream",
          "name": "stderr",
          "text": [
            "\r[*********************100%***********************]  1 of 1 completed\n"
          ]
        },
        {
          "output_type": "stream",
          "name": "stdout",
          "text": [
            "43  out of 11044 AFRM\n"
          ]
        },
        {
          "output_type": "stream",
          "name": "stderr",
          "text": [
            "\r[*********************100%***********************]  1 of 1 completed\n"
          ]
        },
        {
          "output_type": "stream",
          "name": "stdout",
          "text": [
            "44  out of 11295 PRGS\n"
          ]
        },
        {
          "output_type": "stream",
          "name": "stderr",
          "text": [
            "\r[*********************100%***********************]  1 of 1 completed\n"
          ]
        },
        {
          "output_type": "stream",
          "name": "stdout",
          "text": [
            "45  out of 11546 PECO\n"
          ]
        },
        {
          "output_type": "stream",
          "name": "stderr",
          "text": [
            "\r[*********************100%***********************]  1 of 1 completed\n"
          ]
        },
        {
          "output_type": "stream",
          "name": "stdout",
          "text": [
            "46  out of 11797 BLBD\n"
          ]
        },
        {
          "output_type": "stream",
          "name": "stderr",
          "text": [
            "\r[*********************100%***********************]  1 of 1 completed\n"
          ]
        },
        {
          "output_type": "stream",
          "name": "stdout",
          "text": [
            "47  out of 12048 TER\n"
          ]
        },
        {
          "output_type": "stream",
          "name": "stderr",
          "text": [
            "\r[*********************100%***********************]  1 of 1 completed\n"
          ]
        },
        {
          "output_type": "stream",
          "name": "stdout",
          "text": [
            "48  out of 12299 COO\n"
          ]
        },
        {
          "output_type": "stream",
          "name": "stderr",
          "text": [
            "\r[*********************100%***********************]  1 of 1 completed\n"
          ]
        },
        {
          "output_type": "stream",
          "name": "stdout",
          "text": [
            "49  out of 12550 NTAP\n"
          ]
        },
        {
          "output_type": "stream",
          "name": "stderr",
          "text": [
            "\r[*********************100%***********************]  1 of 1 completed\n"
          ]
        },
        {
          "output_type": "stream",
          "name": "stdout",
          "text": [
            "50  out of 12801 LKQ\n"
          ]
        },
        {
          "output_type": "stream",
          "name": "stderr",
          "text": [
            "\r[*********************100%***********************]  1 of 1 completed\n"
          ]
        },
        {
          "output_type": "stream",
          "name": "stdout",
          "text": [
            "51  out of 13052 RYAAY\n"
          ]
        },
        {
          "output_type": "stream",
          "name": "stderr",
          "text": [
            "[*********************100%***********************]  1 of 1 completed\n",
            "[*********************100%***********************]  1 of 1 completed\n"
          ]
        },
        {
          "output_type": "stream",
          "name": "stdout",
          "text": [
            "52  out of 13303 HALO\n",
            "53  out of 13554 SCVL\n"
          ]
        },
        {
          "output_type": "stream",
          "name": "stderr",
          "text": [
            "\r[*********************100%***********************]  1 of 1 completed\n"
          ]
        },
        {
          "output_type": "stream",
          "name": "stdout",
          "text": [
            "54  out of 13805 TWST\n"
          ]
        },
        {
          "output_type": "stream",
          "name": "stderr",
          "text": [
            "\r[*********************100%***********************]  1 of 1 completed\n"
          ]
        },
        {
          "output_type": "stream",
          "name": "stdout",
          "text": [
            "55  out of 14056 QDEL\n"
          ]
        },
        {
          "output_type": "stream",
          "name": "stderr",
          "text": [
            "\r[*********************100%***********************]  1 of 1 completed\n"
          ]
        },
        {
          "output_type": "stream",
          "name": "stdout",
          "text": [
            "56  out of 14307 MIDD\n"
          ]
        },
        {
          "output_type": "stream",
          "name": "stderr",
          "text": [
            "\r[*********************100%***********************]  1 of 1 completed\n"
          ]
        },
        {
          "output_type": "stream",
          "name": "stdout",
          "text": [
            "57  out of 14558 CPRX\n"
          ]
        },
        {
          "output_type": "stream",
          "name": "stderr",
          "text": [
            "[*********************100%***********************]  1 of 1 completed\n",
            "[*********************100%***********************]  1 of 1 completed\n"
          ]
        },
        {
          "output_type": "stream",
          "name": "stdout",
          "text": [
            "58  out of 14809 TCOM\n",
            "59  out of 15060 SMCI\n"
          ]
        },
        {
          "output_type": "stream",
          "name": "stderr",
          "text": [
            "\r[*********************100%***********************]  1 of 1 completed\n"
          ]
        },
        {
          "output_type": "stream",
          "name": "stdout",
          "text": [
            "60  out of 15311 PLAB\n",
            "Stock (PLAB) data wasn't retrieved\n"
          ]
        },
        {
          "output_type": "stream",
          "name": "stderr",
          "text": [
            "\r[*********************100%***********************]  1 of 1 completed\n"
          ]
        },
        {
          "output_type": "stream",
          "name": "stdout",
          "text": [
            "61  out of 15562 MNRO\n",
            "Stock (MNRO) data wasn't retrieved\n"
          ]
        },
        {
          "output_type": "stream",
          "name": "stderr",
          "text": [
            "\r[*********************100%***********************]  1 of 1 completed\n"
          ]
        },
        {
          "output_type": "stream",
          "name": "stdout",
          "text": [
            "62  out of 15813 COHU\n",
            "Stock (COHU) data wasn't retrieved\n"
          ]
        },
        {
          "output_type": "stream",
          "name": "stderr",
          "text": [
            "\r[*********************100%***********************]  1 of 1 completed\n"
          ]
        },
        {
          "output_type": "stream",
          "name": "stdout",
          "text": [
            "63  out of 16064 TLN\n",
            "Stock (TLN) data wasn't retrieved\n"
          ]
        },
        {
          "output_type": "stream",
          "name": "stderr",
          "text": [
            "\r[*********************100%***********************]  1 of 1 completed\n"
          ]
        },
        {
          "output_type": "stream",
          "name": "stdout",
          "text": [
            "64  out of 16315 LOGI\n",
            "Stock (LOGI) data wasn't retrieved\n"
          ]
        },
        {
          "output_type": "stream",
          "name": "stderr",
          "text": [
            "\r[*********************100%***********************]  1 of 1 completed\n"
          ]
        },
        {
          "output_type": "stream",
          "name": "stdout",
          "text": [
            "65  out of 16566 CLDX\n",
            "Stock (CLDX) data wasn't retrieved\n"
          ]
        },
        {
          "output_type": "stream",
          "name": "stderr",
          "text": [
            "\r[*********************100%***********************]  1 of 1 completed\n"
          ]
        },
        {
          "output_type": "stream",
          "name": "stdout",
          "text": [
            "66  out of 16817 GNTX\n",
            "Stock (GNTX) data wasn't retrieved\n"
          ]
        },
        {
          "output_type": "stream",
          "name": "stderr",
          "text": [
            "\r[*********************100%***********************]  1 of 1 completed\n"
          ]
        },
        {
          "output_type": "stream",
          "name": "stdout",
          "text": [
            "67  out of 17068 CHRW\n",
            "Stock (CHRW) data wasn't retrieved\n"
          ]
        },
        {
          "output_type": "stream",
          "name": "stderr",
          "text": [
            "\r[*********************100%***********************]  1 of 1 completed\n"
          ]
        },
        {
          "output_type": "stream",
          "name": "stdout",
          "text": [
            "68  out of 17319 PRVA\n",
            "Stock (PRVA) data wasn't retrieved\n"
          ]
        },
        {
          "output_type": "stream",
          "name": "stderr",
          "text": [
            "\r[*********************100%***********************]  1 of 1 completed\n"
          ]
        },
        {
          "output_type": "stream",
          "name": "stdout",
          "text": [
            "69  out of 17570 NTES\n",
            "Stock (NTES) data wasn't retrieved\n"
          ]
        },
        {
          "output_type": "stream",
          "name": "stderr",
          "text": [
            "\r[*********************100%***********************]  1 of 1 completed\n"
          ]
        },
        {
          "output_type": "stream",
          "name": "stdout",
          "text": [
            "70  out of 17821 PFG\n",
            "Stock (PFG) data wasn't retrieved\n"
          ]
        },
        {
          "output_type": "stream",
          "name": "stderr",
          "text": [
            "[*********************100%***********************]  1 of 1 completed\n",
            "[*********************100%***********************]  1 of 1 completed\n"
          ]
        },
        {
          "output_type": "stream",
          "name": "stdout",
          "text": [
            "71  out of 18072 NTNX\n",
            "Stock (NTNX) data wasn't retrieved\n",
            "72  out of 18323 VKTX\n",
            "Stock (VKTX) data wasn't retrieved\n"
          ]
        },
        {
          "output_type": "stream",
          "name": "stderr",
          "text": [
            "\r[*********************100%***********************]  1 of 1 completed\n"
          ]
        },
        {
          "output_type": "stream",
          "name": "stdout",
          "text": [
            "73  out of 18574 AVT\n",
            "Stock (AVT) data wasn't retrieved\n"
          ]
        },
        {
          "output_type": "stream",
          "name": "stderr",
          "text": [
            "[*********************100%***********************]  1 of 1 completed\n",
            "[*********************100%***********************]  1 of 1 completed\n"
          ]
        },
        {
          "output_type": "stream",
          "name": "stdout",
          "text": [
            "74  out of 18702 LINE\n",
            "Stock (LINE) data wasn't retrieved\n",
            "75  out of 18953 MAR\n"
          ]
        },
        {
          "output_type": "stream",
          "name": "stderr",
          "text": [
            "\r[*********************100%***********************]  1 of 1 completed\n"
          ]
        },
        {
          "output_type": "stream",
          "name": "stdout",
          "text": [
            "Stock (MAR) data wasn't retrieved\n",
            "76  out of 19204 MU\n",
            "Stock (MU) data wasn't retrieved\n"
          ]
        },
        {
          "output_type": "stream",
          "name": "stderr",
          "text": [
            "[*********************100%***********************]  1 of 1 completed\n",
            "[*********************100%***********************]  1 of 1 completed\n"
          ]
        },
        {
          "output_type": "stream",
          "name": "stdout",
          "text": [
            "77  out of 19455 LRCX\n",
            "Stock (LRCX) data wasn't retrieved\n",
            "78  out of 19706 KNSA\n",
            "Stock (KNSA) data wasn't retrieved\n"
          ]
        },
        {
          "output_type": "stream",
          "name": "stderr",
          "text": [
            "\r[*********************100%***********************]  1 of 1 completed\n"
          ]
        },
        {
          "output_type": "stream",
          "name": "stdout",
          "text": [
            "79  out of 19957 NICE\n",
            "Stock (NICE) data wasn't retrieved\n"
          ]
        },
        {
          "output_type": "stream",
          "name": "stderr",
          "text": [
            "\r[*********************100%***********************]  1 of 1 completed\n"
          ]
        },
        {
          "output_type": "stream",
          "name": "stdout",
          "text": [
            "80  out of 20208 STRL\n",
            "Stock (STRL) data wasn't retrieved\n"
          ]
        },
        {
          "output_type": "stream",
          "name": "stderr",
          "text": [
            "\r[*********************100%***********************]  1 of 1 completed\n"
          ]
        },
        {
          "output_type": "stream",
          "name": "stdout",
          "text": [
            "81  out of 20459 MLKN\n",
            "Stock (MLKN) data wasn't retrieved\n"
          ]
        },
        {
          "output_type": "stream",
          "name": "stderr",
          "text": [
            "[*********************100%***********************]  1 of 1 completed\n",
            "[*********************100%***********************]  1 of 1 completed\n"
          ]
        },
        {
          "output_type": "stream",
          "name": "stdout",
          "text": [
            "82  out of 20710 GFS\n",
            "Stock (GFS) data wasn't retrieved\n",
            "83  out of 20961 ENPH\n",
            "Stock (ENPH) data wasn't retrieved\n"
          ]
        },
        {
          "output_type": "stream",
          "name": "stderr",
          "text": [
            "\r[*********************100%***********************]  1 of 1 completed\n"
          ]
        },
        {
          "output_type": "stream",
          "name": "stdout",
          "text": [
            "84  out of 21212 HOLX\n",
            "Stock (HOLX) data wasn't retrieved\n"
          ]
        },
        {
          "output_type": "stream",
          "name": "stderr",
          "text": [
            "\r[*********************100%***********************]  1 of 1 completed\n"
          ]
        },
        {
          "output_type": "stream",
          "name": "stdout",
          "text": [
            "85  out of 21463 CGNX\n",
            "Stock (CGNX) data wasn't retrieved\n"
          ]
        },
        {
          "output_type": "stream",
          "name": "stderr",
          "text": [
            "\r[*********************100%***********************]  1 of 1 completed\n"
          ]
        },
        {
          "output_type": "stream",
          "name": "stdout",
          "text": [
            "86  out of 21714 REG\n",
            "Stock (REG) data wasn't retrieved\n"
          ]
        },
        {
          "output_type": "stream",
          "name": "stderr",
          "text": [
            "\r[*********************100%***********************]  1 of 1 completed\n"
          ]
        },
        {
          "output_type": "stream",
          "name": "stdout",
          "text": [
            "87  out of 21965 ONB\n",
            "Stock (ONB) data wasn't retrieved\n"
          ]
        },
        {
          "output_type": "stream",
          "name": "stderr",
          "text": [
            "\r[*********************100%***********************]  1 of 1 completed\n"
          ]
        },
        {
          "output_type": "stream",
          "name": "stdout",
          "text": [
            "88  out of 22216 COOP\n",
            "Stock (COOP) data wasn't retrieved\n"
          ]
        },
        {
          "output_type": "stream",
          "name": "stderr",
          "text": [
            "\r[*********************100%***********************]  1 of 1 completed\n"
          ]
        },
        {
          "output_type": "stream",
          "name": "stdout",
          "text": [
            "89  out of 22467 PDD\n",
            "Stock (PDD) data wasn't retrieved\n"
          ]
        },
        {
          "output_type": "stream",
          "name": "stderr",
          "text": [
            "[*********************100%***********************]  1 of 1 completed\n",
            "[*********************100%***********************]  1 of 1 completed\n"
          ]
        },
        {
          "output_type": "stream",
          "name": "stdout",
          "text": [
            "90  out of 22718 EXC\n",
            "Stock (EXC) data wasn't retrieved\n",
            "91  out of 22969 APLS\n"
          ]
        },
        {
          "output_type": "stream",
          "name": "stderr",
          "text": [
            "\r[*********************100%***********************]  1 of 1 completed"
          ]
        },
        {
          "output_type": "stream",
          "name": "stdout",
          "text": [
            "Stock (APLS) data wasn't retrieved\n",
            "92  out of 23220 GEHC\n"
          ]
        },
        {
          "output_type": "stream",
          "name": "stderr",
          "text": [
            "\n",
            "[*********************100%***********************]  1 of 1 completed"
          ]
        },
        {
          "output_type": "stream",
          "name": "stdout",
          "text": [
            "Stock (GEHC) data wasn't retrieved\n"
          ]
        },
        {
          "output_type": "stream",
          "name": "stderr",
          "text": [
            "\n",
            "\r[*********************100%***********************]  1 of 1 completed\n"
          ]
        },
        {
          "output_type": "stream",
          "name": "stdout",
          "text": [
            "93  out of 23471 PENN\n",
            "Stock (PENN) data wasn't retrieved\n",
            "94  out of 23722 VERX\n",
            "Stock (VERX) data wasn't retrieved\n"
          ]
        },
        {
          "output_type": "stream",
          "name": "stderr",
          "text": [
            "\r[*********************100%***********************]  1 of 1 completed\n"
          ]
        },
        {
          "output_type": "stream",
          "name": "stdout",
          "text": [
            "95  out of 23973 IAC\n",
            "Stock (IAC) data wasn't retrieved\n"
          ]
        },
        {
          "output_type": "stream",
          "name": "stderr",
          "text": [
            "\r[*********************100%***********************]  1 of 1 completed\n"
          ]
        },
        {
          "output_type": "stream",
          "name": "stdout",
          "text": [
            "96  out of 24224 IONS\n",
            "Stock (IONS) data wasn't retrieved\n"
          ]
        },
        {
          "output_type": "stream",
          "name": "stderr",
          "text": [
            "\r[*********************100%***********************]  1 of 1 completed\n"
          ]
        },
        {
          "output_type": "stream",
          "name": "stdout",
          "text": [
            "97  out of 24475 UMBF\n",
            "Stock (UMBF) data wasn't retrieved\n"
          ]
        },
        {
          "output_type": "stream",
          "name": "stderr",
          "text": [
            "\r[*********************100%***********************]  1 of 1 completed\n"
          ]
        },
        {
          "output_type": "stream",
          "name": "stdout",
          "text": [
            "98  out of 24726 SIMO\n",
            "Stock (SIMO) data wasn't retrieved\n"
          ]
        },
        {
          "output_type": "stream",
          "name": "stderr",
          "text": [
            "[*********************100%***********************]  1 of 1 completed\n",
            "[*********************100%***********************]  1 of 1 completed\n"
          ]
        },
        {
          "output_type": "stream",
          "name": "stdout",
          "text": [
            "99  out of 24977 VRSK\n",
            "Stock (VRSK) data wasn't retrieved\n",
            "100  out of 25228 LUNR\n"
          ]
        },
        {
          "output_type": "stream",
          "name": "stderr",
          "text": [
            "\r[*********************100%***********************]  1 of 1 completed"
          ]
        },
        {
          "output_type": "stream",
          "name": "stdout",
          "text": [
            "Stock (LUNR) data wasn't retrieved\n",
            "101  out of 25479 PCAR\n",
            "Stock (PCAR) data wasn't retrieved\n"
          ]
        },
        {
          "output_type": "stream",
          "name": "stderr",
          "text": [
            "\n",
            "[*********************100%***********************]  1 of 1 completed\n"
          ]
        },
        {
          "output_type": "stream",
          "name": "stdout",
          "text": [
            "102  out of 25730 HOOD\n",
            "Stock (HOOD) data wasn't retrieved\n"
          ]
        },
        {
          "output_type": "stream",
          "name": "stderr",
          "text": [
            "\r[*********************100%***********************]  1 of 1 completed\n"
          ]
        },
        {
          "output_type": "stream",
          "name": "stdout",
          "text": [
            "103  out of 25981 IRDM\n",
            "Stock (IRDM) data wasn't retrieved\n"
          ]
        },
        {
          "output_type": "stream",
          "name": "stderr",
          "text": [
            "[*********************100%***********************]  1 of 1 completed\n",
            "[*********************100%***********************]  1 of 1 completed"
          ]
        },
        {
          "output_type": "stream",
          "name": "stdout",
          "text": [
            "104  out of 26232 CTSH\n",
            "Stock (CTSH) data wasn't retrieved\n"
          ]
        },
        {
          "output_type": "stream",
          "name": "stderr",
          "text": [
            "\n"
          ]
        },
        {
          "output_type": "stream",
          "name": "stdout",
          "text": [
            "105  out of 26483 ATSG\n",
            "Stock (ATSG) data wasn't retrieved\n"
          ]
        },
        {
          "output_type": "stream",
          "name": "stderr",
          "text": [
            "[*********************100%***********************]  1 of 1 completed\n",
            "[*********************100%***********************]  1 of 1 completed\n"
          ]
        },
        {
          "output_type": "stream",
          "name": "stdout",
          "text": [
            "106  out of 26734 GLPI\n",
            "Stock (GLPI) data wasn't retrieved\n",
            "107  out of 26985 BSY\n",
            "Stock (BSY) data wasn't retrieved\n"
          ]
        },
        {
          "output_type": "stream",
          "name": "stderr",
          "text": [
            "\r[*********************100%***********************]  1 of 1 completed\n"
          ]
        },
        {
          "output_type": "stream",
          "name": "stdout",
          "text": [
            "108  out of 27236 CVBF\n",
            "Stock (CVBF) data wasn't retrieved\n"
          ]
        },
        {
          "output_type": "stream",
          "name": "stderr",
          "text": [
            "\r[*********************100%***********************]  1 of 1 completed\n"
          ]
        },
        {
          "output_type": "stream",
          "name": "stdout",
          "text": [
            "109  out of 27487 NDAQ\n",
            "Stock (NDAQ) data wasn't retrieved\n"
          ]
        },
        {
          "output_type": "stream",
          "name": "stderr",
          "text": [
            "[*********************100%***********************]  1 of 1 completed\n",
            "[*********************100%***********************]  1 of 1 completed\n"
          ]
        },
        {
          "output_type": "stream",
          "name": "stdout",
          "text": [
            "110  out of 27738 OZK\n",
            "Stock (OZK) data wasn't retrieved\n",
            "111  out of 27989 SATS\n",
            "Stock (SATS) data wasn't retrieved\n"
          ]
        },
        {
          "output_type": "stream",
          "name": "stderr",
          "text": [
            "[*********************100%***********************]  1 of 1 completed\n",
            "[*********************100%***********************]  1 of 1 completed\n"
          ]
        },
        {
          "output_type": "stream",
          "name": "stdout",
          "text": [
            "112  out of 28240 TMUS\n",
            "Stock (TMUS) data wasn't retrieved\n",
            "113  out of 28491 COCO\n",
            "Stock (COCO) data wasn't retrieved\n"
          ]
        },
        {
          "output_type": "stream",
          "name": "stderr",
          "text": [
            "\r[*********************100%***********************]  1 of 1 completed\n"
          ]
        },
        {
          "output_type": "stream",
          "name": "stdout",
          "text": [
            "114  out of 28742 MPWR\n",
            "Stock (MPWR) data wasn't retrieved\n"
          ]
        },
        {
          "output_type": "stream",
          "name": "stderr",
          "text": [
            "\r[*********************100%***********************]  1 of 1 completed\n"
          ]
        },
        {
          "output_type": "stream",
          "name": "stdout",
          "text": [
            "115  out of 28993 HSIC\n",
            "Stock (HSIC) data wasn't retrieved\n"
          ]
        },
        {
          "output_type": "stream",
          "name": "stderr",
          "text": [
            "\r[*********************100%***********************]  1 of 1 completed\n"
          ]
        },
        {
          "output_type": "stream",
          "name": "stdout",
          "text": [
            "116  out of 29244 VRNS\n",
            "Stock (VRNS) data wasn't retrieved\n"
          ]
        },
        {
          "output_type": "stream",
          "name": "stderr",
          "text": [
            "\r[*********************100%***********************]  1 of 1 completed\n"
          ]
        },
        {
          "output_type": "stream",
          "name": "stdout",
          "text": [
            "117  out of 29495 NARI\n",
            "Stock (NARI) data wasn't retrieved\n"
          ]
        },
        {
          "output_type": "stream",
          "name": "stderr",
          "text": [
            "[*********************100%***********************]  1 of 1 completed\n",
            "[*********************100%***********************]  1 of 1 completed\n"
          ]
        },
        {
          "output_type": "stream",
          "name": "stdout",
          "text": [
            "118  out of 29746 PEP\n",
            "Stock (PEP) data wasn't retrieved\n",
            "119  out of 29997 AMSC\n",
            "Stock (AMSC) data wasn't retrieved\n",
            "(11262, 5) (29997, 7)\n"
          ]
        }
      ]
    },
    {
      "cell_type": "code",
      "source": [
        "# Extract sentiment score from the transformer pipeline, in this code I am using the default LLM model: https://huggingface.co/blog/sentiment-analysis-python\n",
        "# The LLM model detect if the news is positve or negative. This approach can be improived further by fine tunning the model on these type of financial data and/or incorporate better baseline models.\n",
        "def get_sentiment_scores(row):\n",
        "  if isinstance(row, str):\n",
        "      return sentiment_pipeline(row[:512])[0]['score']\n",
        "  else:\n",
        "    return np.nan\n",
        "\n",
        "# get unique news to avoide duplicates\n",
        "df_sentiment_lookup=df.summary.dropna().drop_duplicates().to_frame()\n",
        "print (\"Number of unique news {}\".format(df_sentiment_lookup.shape[0]))\n",
        "df_sentiment_lookup['scores']=df_sentiment_lookup.summary.apply(get_sentiment_scores)\n",
        "\n",
        "# Join the lookup table with scores back to the final data\n",
        "df_final = pd.merge(df,df_sentiment_lookup,on=['summary'],how='left')\n",
        "df_final.drop_duplicates(subset = ['related','dt_date'],inplace=True)\n",
        "\n",
        "# Define two boolean features which indicate if a news is pre- or during-market.\n",
        "df_final['pre_market_news'] = np.where(df_final.dt_time.dt.time<pd.to_datetime('09:30:00').time(), 1, 0)\n",
        "df_final['during_market_news'] = np.where(df_final.dt_time.dt.time>pd.to_datetime('09:30:00').time(), 1, 0)\n",
        "\n",
        "\n"
      ],
      "metadata": {
        "colab": {
          "base_uri": "https://localhost:8080/"
        },
        "id": "iQ14d6BxWMqP",
        "outputId": "42597b6f-9a73-49cb-816e-0bdd0a48f455"
      },
      "execution_count": 7,
      "outputs": [
        {
          "output_type": "stream",
          "name": "stdout",
          "text": [
            "Number of unique news 5984\n"
          ]
        }
      ]
    },
    {
      "cell_type": "code",
      "source": [
        "# Define some feature based on the price: High/Open, Close/Open, moving averages based on the 10 and 20 days, and SMA ratios to the opening of a given day.\n",
        "\n",
        "df_final['high_o_open']= df_final['High']/df_final['Open']\n",
        "df_final['close_o_open']= df_final['Close']/df_final['Open']\n",
        "df_final['sma_10'] = df_final.groupby('related')['Close'].transform(lambda x: x.rolling(10, 3).mean())\n",
        "df_final['sma_20'] = df_final.groupby('related')['Close'].transform(lambda x: x.rolling(20, 3).mean())\n",
        "df_final['sma_10_o_open'] = df_final['sma_10']/df_final['Open'] # to make sure that the model isn't dependeant on the magnitude of the price\n",
        "df_final['sma_20_o_open'] = df_final['sma_20']/df_final['Open'] # to make sure that the model isn't dependeant on the magnitude of the price\n",
        "\n",
        "# Define label for the classification model: assumption is that if a signficant news comes up it affects the market short term (assuming for a positive news prices should go up), maybe in the same day or perhaps the next.\n",
        "# This is a bold assumption, but for the sake of getting baseline results, I assume this is ok. For the price change I also assume that day closing is 5% higher than the closing.\n",
        "#df_final['label_1']=np.where(df_final.high_o_open>1.05,1,0)\n",
        "df_final['label']=np.where(df_final.close_o_open>1.05,1,0)"
      ],
      "metadata": {
        "id": "8nDZIDfcyFVC"
      },
      "execution_count": 8,
      "outputs": []
    },
    {
      "cell_type": "code",
      "source": [
        "# create out of time validation sets: build the model, and test the model. We keep last three months of data as a test set.\n",
        "df_final_train = df_final[df_final.dt_date<pd.to_datetime('today')+pd.DateOffset(months=-3)]\n",
        "df_final_test  = df_final[df_final.dt_date>=pd.to_datetime('today')+pd.DateOffset(months=-3)]"
      ],
      "metadata": {
        "id": "8m2CoHBd3eRu"
      },
      "execution_count": 18,
      "outputs": []
    },
    {
      "cell_type": "code",
      "source": [
        "# Train a Catboost model: https://catboost.ai/docs/en/concepts/python-reference_catboostclassifier\n",
        "cb_model = CatBoostClassifier(iterations=600,\n",
        "                       learning_rate=0.01,\n",
        "                              depth=10)\n",
        "\n",
        "# We explicitely pass the categorical features to the model, and it does target encoding under the hood, this is how Catboost is known for.\n",
        "# These two categoricalfeatures are: news source and news category.\n",
        "CAT_COLUMNS = ['source','category']\n",
        "COLUMNS=['pre_market_news', 'during_market_news', 'sma_10_o_open', 'sma_20_o_open', 'scores', 'source', 'category', 'label']\n",
        "df_final_train=df_final_train[COLUMNS]\n",
        "cat_features = [df_final_train.columns.get_loc(x) for x in CAT_COLUMNS]\n",
        "\n",
        "for i in CAT_COLUMNS:\n",
        "    df_final_train[i]=df_final_train[i].fillna('MISSING')\n",
        "    df_final_test[i]=df_final_test[i].fillna('MISSING')\n",
        "\n",
        "\n",
        "df_final_train['label']=df_final_train['label'].astype('int')\n",
        "cb_model.fit(df_final_train.drop(['label'],axis=1),\n",
        "             df_final_train['label'],\n",
        "             cat_features=cat_features,\n",
        "             verbose=True)"
      ],
      "metadata": {
        "colab": {
          "base_uri": "https://localhost:8080/"
        },
        "id": "XZceK1hk6ci2",
        "outputId": "1c3f30a3-bc5d-458e-8609-702af1cc94bf"
      },
      "execution_count": 19,
      "outputs": [
        {
          "output_type": "stream",
          "name": "stderr",
          "text": [
            "<ipython-input-19-e1dd5571c3e2>:14: SettingWithCopyWarning: \n",
            "A value is trying to be set on a copy of a slice from a DataFrame.\n",
            "Try using .loc[row_indexer,col_indexer] = value instead\n",
            "\n",
            "See the caveats in the documentation: https://pandas.pydata.org/pandas-docs/stable/user_guide/indexing.html#returning-a-view-versus-a-copy\n",
            "  df_final_train[i]=df_final_train[i].fillna('MISSING')\n",
            "<ipython-input-19-e1dd5571c3e2>:15: SettingWithCopyWarning: \n",
            "A value is trying to be set on a copy of a slice from a DataFrame.\n",
            "Try using .loc[row_indexer,col_indexer] = value instead\n",
            "\n",
            "See the caveats in the documentation: https://pandas.pydata.org/pandas-docs/stable/user_guide/indexing.html#returning-a-view-versus-a-copy\n",
            "  df_final_test[i]=df_final_test[i].fillna('MISSING')\n",
            "<ipython-input-19-e1dd5571c3e2>:18: SettingWithCopyWarning: \n",
            "A value is trying to be set on a copy of a slice from a DataFrame.\n",
            "Try using .loc[row_indexer,col_indexer] = value instead\n",
            "\n",
            "See the caveats in the documentation: https://pandas.pydata.org/pandas-docs/stable/user_guide/indexing.html#returning-a-view-versus-a-copy\n",
            "  df_final_train['label']=df_final_train['label'].astype('int')\n"
          ]
        },
        {
          "output_type": "stream",
          "name": "stdout",
          "text": [
            "0:\tlearn: 0.6753895\ttotal: 25ms\tremaining: 15s\n",
            "1:\tlearn: 0.6574400\ttotal: 62.1ms\tremaining: 18.6s\n",
            "2:\tlearn: 0.6410000\ttotal: 83.5ms\tremaining: 16.6s\n",
            "3:\tlearn: 0.6243584\ttotal: 115ms\tremaining: 17.1s\n",
            "4:\tlearn: 0.6085975\ttotal: 134ms\tremaining: 15.9s\n",
            "5:\tlearn: 0.5937721\ttotal: 148ms\tremaining: 14.7s\n",
            "6:\tlearn: 0.5781648\ttotal: 205ms\tremaining: 17.4s\n",
            "7:\tlearn: 0.5631426\ttotal: 261ms\tremaining: 19.3s\n",
            "8:\tlearn: 0.5486619\ttotal: 325ms\tremaining: 21.4s\n",
            "9:\tlearn: 0.5348718\ttotal: 390ms\tremaining: 23s\n",
            "10:\tlearn: 0.5211839\ttotal: 459ms\tremaining: 24.6s\n",
            "11:\tlearn: 0.5079207\ttotal: 524ms\tremaining: 25.7s\n",
            "12:\tlearn: 0.4955480\ttotal: 590ms\tremaining: 26.7s\n",
            "13:\tlearn: 0.4837294\ttotal: 609ms\tremaining: 25.5s\n",
            "14:\tlearn: 0.4726881\ttotal: 622ms\tremaining: 24.2s\n",
            "15:\tlearn: 0.4616148\ttotal: 669ms\tremaining: 24.4s\n",
            "16:\tlearn: 0.4511627\ttotal: 685ms\tremaining: 23.5s\n",
            "17:\tlearn: 0.4401069\ttotal: 765ms\tremaining: 24.7s\n",
            "18:\tlearn: 0.4298836\ttotal: 833ms\tremaining: 25.5s\n",
            "19:\tlearn: 0.4197091\ttotal: 895ms\tremaining: 25.9s\n",
            "20:\tlearn: 0.4098639\ttotal: 922ms\tremaining: 25.4s\n",
            "21:\tlearn: 0.4005869\ttotal: 948ms\tremaining: 24.9s\n",
            "22:\tlearn: 0.3914255\ttotal: 1.01s\tremaining: 25.4s\n",
            "23:\tlearn: 0.3827456\ttotal: 1.08s\tremaining: 26s\n",
            "24:\tlearn: 0.3748196\ttotal: 1.1s\tremaining: 25.4s\n",
            "25:\tlearn: 0.3662809\ttotal: 1.17s\tremaining: 25.9s\n",
            "26:\tlearn: 0.3582437\ttotal: 1.24s\tremaining: 26.4s\n",
            "27:\tlearn: 0.3504604\ttotal: 1.28s\tremaining: 26.1s\n",
            "28:\tlearn: 0.3429071\ttotal: 1.35s\tremaining: 26.6s\n",
            "29:\tlearn: 0.3354453\ttotal: 1.42s\tremaining: 26.9s\n",
            "30:\tlearn: 0.3287128\ttotal: 1.49s\tremaining: 27.3s\n",
            "31:\tlearn: 0.3221021\ttotal: 1.54s\tremaining: 27.3s\n",
            "32:\tlearn: 0.3154599\ttotal: 1.6s\tremaining: 27.5s\n",
            "33:\tlearn: 0.3089236\ttotal: 1.67s\tremaining: 27.8s\n",
            "34:\tlearn: 0.3029059\ttotal: 1.74s\tremaining: 28.1s\n",
            "35:\tlearn: 0.2974202\ttotal: 1.76s\tremaining: 27.6s\n",
            "36:\tlearn: 0.2917369\ttotal: 1.81s\tremaining: 27.6s\n",
            "37:\tlearn: 0.2866216\ttotal: 1.83s\tremaining: 27.1s\n",
            "38:\tlearn: 0.2815189\ttotal: 1.85s\tremaining: 26.7s\n",
            "39:\tlearn: 0.2763688\ttotal: 1.88s\tremaining: 26.3s\n",
            "40:\tlearn: 0.2713112\ttotal: 1.95s\tremaining: 26.5s\n",
            "41:\tlearn: 0.2665072\ttotal: 1.98s\tremaining: 26.3s\n",
            "42:\tlearn: 0.2621195\ttotal: 2s\tremaining: 25.9s\n",
            "43:\tlearn: 0.2578172\ttotal: 2.01s\tremaining: 25.4s\n",
            "44:\tlearn: 0.2532820\ttotal: 2.08s\tremaining: 25.7s\n",
            "45:\tlearn: 0.2492719\ttotal: 2.1s\tremaining: 25.3s\n",
            "46:\tlearn: 0.2450478\ttotal: 2.18s\tremaining: 25.6s\n",
            "47:\tlearn: 0.2408563\ttotal: 2.24s\tremaining: 25.8s\n",
            "48:\tlearn: 0.2372825\ttotal: 2.26s\tremaining: 25.4s\n",
            "49:\tlearn: 0.2334680\ttotal: 2.32s\tremaining: 25.6s\n",
            "50:\tlearn: 0.2296839\ttotal: 2.4s\tremaining: 25.8s\n",
            "51:\tlearn: 0.2263677\ttotal: 2.41s\tremaining: 25.4s\n",
            "52:\tlearn: 0.2228658\ttotal: 2.49s\tremaining: 25.7s\n",
            "53:\tlearn: 0.2196683\ttotal: 2.51s\tremaining: 25.4s\n",
            "54:\tlearn: 0.2163851\ttotal: 2.56s\tremaining: 25.4s\n",
            "55:\tlearn: 0.2134925\ttotal: 2.58s\tremaining: 25.1s\n",
            "56:\tlearn: 0.2104550\ttotal: 2.6s\tremaining: 24.8s\n",
            "57:\tlearn: 0.2077777\ttotal: 2.62s\tremaining: 24.5s\n",
            "58:\tlearn: 0.2051780\ttotal: 2.64s\tremaining: 24.2s\n",
            "59:\tlearn: 0.2024315\ttotal: 2.67s\tremaining: 24s\n",
            "60:\tlearn: 0.1996250\ttotal: 2.73s\tremaining: 24.2s\n",
            "61:\tlearn: 0.1971436\ttotal: 2.76s\tremaining: 24s\n",
            "62:\tlearn: 0.1945014\ttotal: 2.8s\tremaining: 23.9s\n",
            "63:\tlearn: 0.1921130\ttotal: 2.85s\tremaining: 23.9s\n",
            "64:\tlearn: 0.1898597\ttotal: 2.87s\tremaining: 23.6s\n",
            "65:\tlearn: 0.1877441\ttotal: 2.89s\tremaining: 23.4s\n",
            "66:\tlearn: 0.1854909\ttotal: 2.96s\tremaining: 23.5s\n",
            "67:\tlearn: 0.1832641\ttotal: 3.02s\tremaining: 23.7s\n",
            "68:\tlearn: 0.1812777\ttotal: 3.04s\tremaining: 23.4s\n",
            "69:\tlearn: 0.1792130\ttotal: 3.12s\tremaining: 23.6s\n",
            "70:\tlearn: 0.1773624\ttotal: 3.14s\tremaining: 23.4s\n",
            "71:\tlearn: 0.1755766\ttotal: 3.15s\tremaining: 23.1s\n",
            "72:\tlearn: 0.1738458\ttotal: 3.18s\tremaining: 23s\n",
            "73:\tlearn: 0.1719953\ttotal: 3.25s\tremaining: 23.1s\n",
            "74:\tlearn: 0.1701967\ttotal: 3.3s\tremaining: 23.1s\n",
            "75:\tlearn: 0.1684607\ttotal: 3.37s\tremaining: 23.2s\n",
            "76:\tlearn: 0.1668432\ttotal: 3.44s\tremaining: 23.4s\n",
            "77:\tlearn: 0.1653849\ttotal: 3.46s\tremaining: 23.2s\n",
            "78:\tlearn: 0.1637781\ttotal: 3.53s\tremaining: 23.3s\n",
            "79:\tlearn: 0.1622102\ttotal: 3.56s\tremaining: 23.1s\n",
            "80:\tlearn: 0.1606932\ttotal: 3.63s\tremaining: 23.3s\n",
            "81:\tlearn: 0.1591609\ttotal: 3.7s\tremaining: 23.4s\n",
            "82:\tlearn: 0.1577307\ttotal: 3.74s\tremaining: 23.3s\n",
            "83:\tlearn: 0.1562886\ttotal: 3.78s\tremaining: 23.2s\n",
            "84:\tlearn: 0.1550369\ttotal: 3.8s\tremaining: 23s\n",
            "85:\tlearn: 0.1538910\ttotal: 3.83s\tremaining: 22.9s\n",
            "86:\tlearn: 0.1525879\ttotal: 3.91s\tremaining: 23.1s\n",
            "87:\tlearn: 0.1512975\ttotal: 3.98s\tremaining: 23.2s\n",
            "88:\tlearn: 0.1500792\ttotal: 4.05s\tremaining: 23.3s\n",
            "89:\tlearn: 0.1489207\ttotal: 4.13s\tremaining: 23.4s\n",
            "90:\tlearn: 0.1477817\ttotal: 4.2s\tremaining: 23.5s\n",
            "91:\tlearn: 0.1467582\ttotal: 4.23s\tremaining: 23.4s\n",
            "92:\tlearn: 0.1456843\ttotal: 4.3s\tremaining: 23.5s\n",
            "93:\tlearn: 0.1446379\ttotal: 4.37s\tremaining: 23.5s\n",
            "94:\tlearn: 0.1437474\ttotal: 4.39s\tremaining: 23.3s\n",
            "95:\tlearn: 0.1427084\ttotal: 4.46s\tremaining: 23.4s\n",
            "96:\tlearn: 0.1417257\ttotal: 4.53s\tremaining: 23.5s\n",
            "97:\tlearn: 0.1408471\ttotal: 4.6s\tremaining: 23.6s\n",
            "98:\tlearn: 0.1398904\ttotal: 4.66s\tremaining: 23.6s\n",
            "99:\tlearn: 0.1390069\ttotal: 4.73s\tremaining: 23.7s\n",
            "100:\tlearn: 0.1381247\ttotal: 4.79s\tremaining: 23.7s\n",
            "101:\tlearn: 0.1373119\ttotal: 4.88s\tremaining: 23.8s\n",
            "102:\tlearn: 0.1365381\ttotal: 4.95s\tremaining: 23.9s\n",
            "103:\tlearn: 0.1358121\ttotal: 4.97s\tremaining: 23.7s\n",
            "104:\tlearn: 0.1350151\ttotal: 5.03s\tremaining: 23.7s\n",
            "105:\tlearn: 0.1342418\ttotal: 5.09s\tremaining: 23.7s\n",
            "106:\tlearn: 0.1335198\ttotal: 5.13s\tremaining: 23.6s\n",
            "107:\tlearn: 0.1329046\ttotal: 5.14s\tremaining: 23.4s\n",
            "108:\tlearn: 0.1322844\ttotal: 5.21s\tremaining: 23.5s\n",
            "109:\tlearn: 0.1315662\ttotal: 5.28s\tremaining: 23.5s\n",
            "110:\tlearn: 0.1308822\ttotal: 5.35s\tremaining: 23.6s\n",
            "111:\tlearn: 0.1302098\ttotal: 5.43s\tremaining: 23.7s\n",
            "112:\tlearn: 0.1296143\ttotal: 5.47s\tremaining: 23.6s\n",
            "113:\tlearn: 0.1290271\ttotal: 5.53s\tremaining: 23.6s\n",
            "114:\tlearn: 0.1284047\ttotal: 5.57s\tremaining: 23.5s\n",
            "115:\tlearn: 0.1278442\ttotal: 5.6s\tremaining: 23.4s\n",
            "116:\tlearn: 0.1272516\ttotal: 5.67s\tremaining: 23.4s\n",
            "117:\tlearn: 0.1266649\ttotal: 5.7s\tremaining: 23.3s\n",
            "118:\tlearn: 0.1262084\ttotal: 5.72s\tremaining: 23.1s\n",
            "119:\tlearn: 0.1257353\ttotal: 5.75s\tremaining: 23s\n",
            "120:\tlearn: 0.1252822\ttotal: 5.77s\tremaining: 22.8s\n",
            "121:\tlearn: 0.1247753\ttotal: 5.82s\tremaining: 22.8s\n",
            "122:\tlearn: 0.1242598\ttotal: 5.9s\tremaining: 22.9s\n",
            "123:\tlearn: 0.1238171\ttotal: 5.92s\tremaining: 22.7s\n",
            "124:\tlearn: 0.1233320\ttotal: 6s\tremaining: 22.8s\n",
            "125:\tlearn: 0.1229461\ttotal: 6.02s\tremaining: 22.7s\n",
            "126:\tlearn: 0.1225930\ttotal: 6.04s\tremaining: 22.5s\n",
            "127:\tlearn: 0.1222277\ttotal: 6.05s\tremaining: 22.3s\n",
            "128:\tlearn: 0.1217300\ttotal: 6.14s\tremaining: 22.4s\n",
            "129:\tlearn: 0.1213804\ttotal: 6.16s\tremaining: 22.3s\n",
            "130:\tlearn: 0.1209490\ttotal: 6.24s\tremaining: 22.3s\n",
            "131:\tlearn: 0.1205292\ttotal: 6.3s\tremaining: 22.4s\n",
            "132:\tlearn: 0.1202285\ttotal: 6.32s\tremaining: 22.2s\n",
            "133:\tlearn: 0.1198387\ttotal: 6.39s\tremaining: 22.2s\n",
            "134:\tlearn: 0.1194907\ttotal: 6.46s\tremaining: 22.3s\n",
            "135:\tlearn: 0.1190849\ttotal: 6.53s\tremaining: 22.3s\n",
            "136:\tlearn: 0.1187320\ttotal: 6.65s\tremaining: 22.5s\n",
            "137:\tlearn: 0.1184375\ttotal: 6.69s\tremaining: 22.4s\n",
            "138:\tlearn: 0.1181205\ttotal: 6.72s\tremaining: 22.3s\n",
            "139:\tlearn: 0.1178385\ttotal: 6.75s\tremaining: 22.2s\n",
            "140:\tlearn: 0.1175359\ttotal: 6.79s\tremaining: 22.1s\n",
            "141:\tlearn: 0.1172744\ttotal: 6.82s\tremaining: 22s\n",
            "142:\tlearn: 0.1169622\ttotal: 6.93s\tremaining: 22.2s\n",
            "143:\tlearn: 0.1167091\ttotal: 6.98s\tremaining: 22.1s\n",
            "144:\tlearn: 0.1164900\ttotal: 7s\tremaining: 22s\n",
            "145:\tlearn: 0.1162761\ttotal: 7.02s\tremaining: 21.8s\n",
            "146:\tlearn: 0.1160673\ttotal: 7.05s\tremaining: 21.7s\n",
            "147:\tlearn: 0.1158608\ttotal: 7.07s\tremaining: 21.6s\n",
            "148:\tlearn: 0.1155668\ttotal: 7.19s\tremaining: 21.8s\n",
            "149:\tlearn: 0.1153556\ttotal: 7.22s\tremaining: 21.7s\n",
            "150:\tlearn: 0.1151007\ttotal: 7.27s\tremaining: 21.6s\n",
            "151:\tlearn: 0.1148928\ttotal: 7.3s\tremaining: 21.5s\n",
            "152:\tlearn: 0.1146930\ttotal: 7.32s\tremaining: 21.4s\n",
            "153:\tlearn: 0.1144494\ttotal: 7.36s\tremaining: 21.3s\n",
            "154:\tlearn: 0.1142046\ttotal: 7.48s\tremaining: 21.5s\n",
            "155:\tlearn: 0.1140019\ttotal: 7.51s\tremaining: 21.4s\n",
            "156:\tlearn: 0.1137600\ttotal: 7.63s\tremaining: 21.5s\n",
            "157:\tlearn: 0.1135448\ttotal: 7.68s\tremaining: 21.5s\n",
            "158:\tlearn: 0.1133220\ttotal: 7.8s\tremaining: 21.6s\n",
            "159:\tlearn: 0.1130798\ttotal: 7.9s\tremaining: 21.7s\n",
            "160:\tlearn: 0.1128666\ttotal: 8.02s\tremaining: 21.9s\n",
            "161:\tlearn: 0.1127031\ttotal: 8.05s\tremaining: 21.8s\n",
            "162:\tlearn: 0.1124895\ttotal: 8.16s\tremaining: 21.9s\n",
            "163:\tlearn: 0.1123378\ttotal: 8.19s\tremaining: 21.8s\n",
            "164:\tlearn: 0.1121886\ttotal: 8.22s\tremaining: 21.7s\n",
            "165:\tlearn: 0.1120244\ttotal: 8.26s\tremaining: 21.6s\n",
            "166:\tlearn: 0.1118650\ttotal: 8.31s\tremaining: 21.5s\n",
            "167:\tlearn: 0.1117424\ttotal: 8.33s\tremaining: 21.4s\n",
            "168:\tlearn: 0.1115651\ttotal: 8.45s\tremaining: 21.5s\n",
            "169:\tlearn: 0.1114046\ttotal: 8.55s\tremaining: 21.6s\n",
            "170:\tlearn: 0.1112416\ttotal: 8.59s\tremaining: 21.5s\n",
            "171:\tlearn: 0.1110776\ttotal: 8.66s\tremaining: 21.6s\n",
            "172:\tlearn: 0.1109431\ttotal: 8.69s\tremaining: 21.4s\n",
            "173:\tlearn: 0.1108078\ttotal: 8.72s\tremaining: 21.3s\n",
            "174:\tlearn: 0.1106327\ttotal: 8.83s\tremaining: 21.5s\n",
            "175:\tlearn: 0.1104663\ttotal: 8.95s\tremaining: 21.6s\n",
            "176:\tlearn: 0.1103685\ttotal: 8.97s\tremaining: 21.4s\n",
            "177:\tlearn: 0.1102556\ttotal: 9s\tremaining: 21.3s\n",
            "178:\tlearn: 0.1101622\ttotal: 9.02s\tremaining: 21.2s\n",
            "179:\tlearn: 0.1099980\ttotal: 9.09s\tremaining: 21.2s\n",
            "180:\tlearn: 0.1098388\ttotal: 9.21s\tremaining: 21.3s\n",
            "181:\tlearn: 0.1097522\ttotal: 9.22s\tremaining: 21.2s\n",
            "182:\tlearn: 0.1096331\ttotal: 9.27s\tremaining: 21.1s\n",
            "183:\tlearn: 0.1095437\ttotal: 9.3s\tremaining: 21s\n",
            "184:\tlearn: 0.1093942\ttotal: 9.42s\tremaining: 21.1s\n",
            "185:\tlearn: 0.1092468\ttotal: 9.52s\tremaining: 21.2s\n",
            "186:\tlearn: 0.1090943\ttotal: 9.64s\tremaining: 21.3s\n",
            "187:\tlearn: 0.1090197\ttotal: 9.67s\tremaining: 21.2s\n",
            "188:\tlearn: 0.1089277\ttotal: 9.7s\tremaining: 21.1s\n",
            "189:\tlearn: 0.1087751\ttotal: 9.82s\tremaining: 21.2s\n",
            "190:\tlearn: 0.1086574\ttotal: 9.96s\tremaining: 21.3s\n",
            "191:\tlearn: 0.1085411\ttotal: 10s\tremaining: 21.3s\n",
            "192:\tlearn: 0.1084557\ttotal: 10.1s\tremaining: 21.2s\n",
            "193:\tlearn: 0.1083199\ttotal: 10.2s\tremaining: 21.4s\n",
            "194:\tlearn: 0.1081889\ttotal: 10.3s\tremaining: 21.3s\n",
            "195:\tlearn: 0.1080725\ttotal: 10.4s\tremaining: 21.5s\n",
            "196:\tlearn: 0.1079464\ttotal: 10.5s\tremaining: 21.5s\n",
            "197:\tlearn: 0.1078146\ttotal: 10.6s\tremaining: 21.6s\n",
            "198:\tlearn: 0.1077176\ttotal: 10.7s\tremaining: 21.6s\n",
            "199:\tlearn: 0.1076138\ttotal: 10.8s\tremaining: 21.7s\n",
            "200:\tlearn: 0.1075146\ttotal: 10.9s\tremaining: 21.6s\n",
            "201:\tlearn: 0.1074412\ttotal: 10.9s\tremaining: 21.5s\n",
            "202:\tlearn: 0.1073755\ttotal: 11s\tremaining: 21.5s\n",
            "203:\tlearn: 0.1072775\ttotal: 11.1s\tremaining: 21.6s\n",
            "204:\tlearn: 0.1072227\ttotal: 11.1s\tremaining: 21.5s\n",
            "205:\tlearn: 0.1071687\ttotal: 11.2s\tremaining: 21.4s\n",
            "206:\tlearn: 0.1070605\ttotal: 11.3s\tremaining: 21.4s\n",
            "207:\tlearn: 0.1070151\ttotal: 11.3s\tremaining: 21.3s\n",
            "208:\tlearn: 0.1069630\ttotal: 11.4s\tremaining: 21.3s\n",
            "209:\tlearn: 0.1069196\ttotal: 11.4s\tremaining: 21.1s\n",
            "210:\tlearn: 0.1068510\ttotal: 11.4s\tremaining: 21.1s\n",
            "211:\tlearn: 0.1067463\ttotal: 11.5s\tremaining: 21.1s\n",
            "212:\tlearn: 0.1067060\ttotal: 11.6s\tremaining: 21s\n",
            "213:\tlearn: 0.1066031\ttotal: 11.7s\tremaining: 21.1s\n",
            "214:\tlearn: 0.1065646\ttotal: 11.7s\tremaining: 21s\n",
            "215:\tlearn: 0.1064930\ttotal: 11.8s\tremaining: 20.9s\n",
            "216:\tlearn: 0.1063975\ttotal: 11.9s\tremaining: 21s\n",
            "217:\tlearn: 0.1063618\ttotal: 11.9s\tremaining: 20.8s\n",
            "218:\tlearn: 0.1063009\ttotal: 11.9s\tremaining: 20.8s\n",
            "219:\tlearn: 0.1062306\ttotal: 12.1s\tremaining: 20.9s\n",
            "220:\tlearn: 0.1061534\ttotal: 12.2s\tremaining: 20.9s\n",
            "221:\tlearn: 0.1061160\ttotal: 12.2s\tremaining: 20.8s\n",
            "222:\tlearn: 0.1060325\ttotal: 12.3s\tremaining: 20.8s\n",
            "223:\tlearn: 0.1059398\ttotal: 12.4s\tremaining: 20.8s\n",
            "224:\tlearn: 0.1058581\ttotal: 12.4s\tremaining: 20.7s\n",
            "225:\tlearn: 0.1058285\ttotal: 12.5s\tremaining: 20.6s\n",
            "226:\tlearn: 0.1057241\ttotal: 12.5s\tremaining: 20.6s\n",
            "227:\tlearn: 0.1056532\ttotal: 12.6s\tremaining: 20.6s\n",
            "228:\tlearn: 0.1055810\ttotal: 12.7s\tremaining: 20.5s\n",
            "229:\tlearn: 0.1055065\ttotal: 12.7s\tremaining: 20.5s\n",
            "230:\tlearn: 0.1054310\ttotal: 12.8s\tremaining: 20.5s\n",
            "231:\tlearn: 0.1053976\ttotal: 12.8s\tremaining: 20.3s\n",
            "232:\tlearn: 0.1053235\ttotal: 12.9s\tremaining: 20.3s\n",
            "233:\tlearn: 0.1052783\ttotal: 12.9s\tremaining: 20.2s\n",
            "234:\tlearn: 0.1052162\ttotal: 12.9s\tremaining: 20.1s\n",
            "235:\tlearn: 0.1051755\ttotal: 13s\tremaining: 20s\n",
            "236:\tlearn: 0.1051094\ttotal: 13s\tremaining: 20s\n",
            "237:\tlearn: 0.1050726\ttotal: 13s\tremaining: 19.8s\n",
            "238:\tlearn: 0.1050152\ttotal: 13.1s\tremaining: 19.8s\n",
            "239:\tlearn: 0.1049524\ttotal: 13.2s\tremaining: 19.7s\n",
            "240:\tlearn: 0.1048834\ttotal: 13.2s\tremaining: 19.7s\n",
            "241:\tlearn: 0.1048512\ttotal: 13.3s\tremaining: 19.6s\n",
            "242:\tlearn: 0.1048154\ttotal: 13.3s\tremaining: 19.5s\n",
            "243:\tlearn: 0.1047496\ttotal: 13.4s\tremaining: 19.5s\n",
            "244:\tlearn: 0.1047070\ttotal: 13.4s\tremaining: 19.4s\n",
            "245:\tlearn: 0.1046493\ttotal: 13.4s\tremaining: 19.3s\n",
            "246:\tlearn: 0.1045845\ttotal: 13.5s\tremaining: 19.3s\n",
            "247:\tlearn: 0.1045247\ttotal: 13.6s\tremaining: 19.3s\n",
            "248:\tlearn: 0.1044987\ttotal: 13.6s\tremaining: 19.2s\n",
            "249:\tlearn: 0.1044385\ttotal: 13.7s\tremaining: 19.1s\n",
            "250:\tlearn: 0.1043884\ttotal: 13.7s\tremaining: 19.1s\n",
            "251:\tlearn: 0.1043362\ttotal: 13.8s\tremaining: 19s\n",
            "252:\tlearn: 0.1042768\ttotal: 13.8s\tremaining: 19s\n",
            "253:\tlearn: 0.1042442\ttotal: 13.9s\tremaining: 18.9s\n",
            "254:\tlearn: 0.1041812\ttotal: 13.9s\tremaining: 18.9s\n",
            "255:\tlearn: 0.1041239\ttotal: 14s\tremaining: 18.8s\n",
            "256:\tlearn: 0.1041103\ttotal: 14s\tremaining: 18.7s\n",
            "257:\tlearn: 0.1040541\ttotal: 14.1s\tremaining: 18.7s\n",
            "258:\tlearn: 0.1040412\ttotal: 14.1s\tremaining: 18.6s\n",
            "259:\tlearn: 0.1039900\ttotal: 14.2s\tremaining: 18.5s\n",
            "260:\tlearn: 0.1039268\ttotal: 14.3s\tremaining: 18.5s\n",
            "261:\tlearn: 0.1038761\ttotal: 14.3s\tremaining: 18.5s\n",
            "262:\tlearn: 0.1038475\ttotal: 14.4s\tremaining: 18.4s\n",
            "263:\tlearn: 0.1038159\ttotal: 14.4s\tremaining: 18.3s\n",
            "264:\tlearn: 0.1037596\ttotal: 14.5s\tremaining: 18.3s\n",
            "265:\tlearn: 0.1037421\ttotal: 14.5s\tremaining: 18.2s\n",
            "266:\tlearn: 0.1036926\ttotal: 14.6s\tremaining: 18.1s\n",
            "267:\tlearn: 0.1036606\ttotal: 14.6s\tremaining: 18.1s\n",
            "268:\tlearn: 0.1036374\ttotal: 14.6s\tremaining: 18s\n",
            "269:\tlearn: 0.1036109\ttotal: 14.6s\tremaining: 17.9s\n",
            "270:\tlearn: 0.1035662\ttotal: 14.7s\tremaining: 17.8s\n",
            "271:\tlearn: 0.1035231\ttotal: 14.8s\tremaining: 17.8s\n",
            "272:\tlearn: 0.1034825\ttotal: 14.8s\tremaining: 17.8s\n",
            "273:\tlearn: 0.1034326\ttotal: 14.9s\tremaining: 17.7s\n",
            "274:\tlearn: 0.1034148\ttotal: 14.9s\tremaining: 17.6s\n",
            "275:\tlearn: 0.1034063\ttotal: 14.9s\tremaining: 17.5s\n",
            "276:\tlearn: 0.1033834\ttotal: 14.9s\tremaining: 17.4s\n",
            "277:\tlearn: 0.1033444\ttotal: 15s\tremaining: 17.4s\n",
            "278:\tlearn: 0.1032988\ttotal: 15.1s\tremaining: 17.3s\n",
            "279:\tlearn: 0.1032860\ttotal: 15.1s\tremaining: 17.2s\n",
            "280:\tlearn: 0.1032571\ttotal: 15.2s\tremaining: 17.2s\n",
            "281:\tlearn: 0.1032165\ttotal: 15.2s\tremaining: 17.2s\n",
            "282:\tlearn: 0.1032055\ttotal: 15.2s\tremaining: 17.1s\n",
            "283:\tlearn: 0.1031746\ttotal: 15.3s\tremaining: 17s\n",
            "284:\tlearn: 0.1031573\ttotal: 15.3s\tremaining: 16.9s\n",
            "285:\tlearn: 0.1031313\ttotal: 15.3s\tremaining: 16.8s\n",
            "286:\tlearn: 0.1031211\ttotal: 15.4s\tremaining: 16.7s\n",
            "287:\tlearn: 0.1030967\ttotal: 15.4s\tremaining: 16.7s\n",
            "288:\tlearn: 0.1030804\ttotal: 15.4s\tremaining: 16.6s\n",
            "289:\tlearn: 0.1030701\ttotal: 15.4s\tremaining: 16.5s\n",
            "290:\tlearn: 0.1030342\ttotal: 15.5s\tremaining: 16.4s\n",
            "291:\tlearn: 0.1030250\ttotal: 15.5s\tremaining: 16.3s\n",
            "292:\tlearn: 0.1030101\ttotal: 15.5s\tremaining: 16.3s\n",
            "293:\tlearn: 0.1029766\ttotal: 15.6s\tremaining: 16.2s\n",
            "294:\tlearn: 0.1029328\ttotal: 15.7s\tremaining: 16.2s\n",
            "295:\tlearn: 0.1028942\ttotal: 15.7s\tremaining: 16.2s\n",
            "296:\tlearn: 0.1028484\ttotal: 15.8s\tremaining: 16.1s\n",
            "297:\tlearn: 0.1028319\ttotal: 15.8s\tremaining: 16s\n",
            "298:\tlearn: 0.1028231\ttotal: 15.8s\tremaining: 15.9s\n",
            "299:\tlearn: 0.1028069\ttotal: 15.9s\tremaining: 15.9s\n",
            "300:\tlearn: 0.1027800\ttotal: 15.9s\tremaining: 15.8s\n",
            "301:\tlearn: 0.1027496\ttotal: 16s\tremaining: 15.8s\n",
            "302:\tlearn: 0.1027189\ttotal: 16.1s\tremaining: 15.7s\n",
            "303:\tlearn: 0.1026911\ttotal: 16.1s\tremaining: 15.7s\n",
            "304:\tlearn: 0.1026485\ttotal: 16.2s\tremaining: 15.7s\n",
            "305:\tlearn: 0.1026320\ttotal: 16.2s\tremaining: 15.6s\n",
            "306:\tlearn: 0.1026094\ttotal: 16.3s\tremaining: 15.5s\n",
            "307:\tlearn: 0.1025686\ttotal: 16.4s\tremaining: 15.5s\n",
            "308:\tlearn: 0.1025320\ttotal: 16.4s\tremaining: 15.5s\n",
            "309:\tlearn: 0.1024978\ttotal: 16.5s\tremaining: 15.4s\n",
            "310:\tlearn: 0.1024573\ttotal: 16.6s\tremaining: 15.4s\n",
            "311:\tlearn: 0.1024347\ttotal: 16.6s\tremaining: 15.3s\n",
            "312:\tlearn: 0.1024043\ttotal: 16.7s\tremaining: 15.3s\n",
            "313:\tlearn: 0.1023775\ttotal: 16.7s\tremaining: 15.3s\n",
            "314:\tlearn: 0.1023429\ttotal: 16.8s\tremaining: 15.2s\n",
            "315:\tlearn: 0.1023140\ttotal: 16.9s\tremaining: 15.2s\n",
            "316:\tlearn: 0.1022842\ttotal: 16.9s\tremaining: 15.1s\n",
            "317:\tlearn: 0.1022720\ttotal: 17s\tremaining: 15s\n",
            "318:\tlearn: 0.1022425\ttotal: 17s\tremaining: 15s\n",
            "319:\tlearn: 0.1022274\ttotal: 17.1s\tremaining: 14.9s\n",
            "320:\tlearn: 0.1022026\ttotal: 17.1s\tremaining: 14.9s\n",
            "321:\tlearn: 0.1021764\ttotal: 17.2s\tremaining: 14.8s\n",
            "322:\tlearn: 0.1021514\ttotal: 17.3s\tremaining: 14.8s\n",
            "323:\tlearn: 0.1021400\ttotal: 17.3s\tremaining: 14.7s\n",
            "324:\tlearn: 0.1021096\ttotal: 17.4s\tremaining: 14.7s\n",
            "325:\tlearn: 0.1020845\ttotal: 17.4s\tremaining: 14.7s\n",
            "326:\tlearn: 0.1020737\ttotal: 17.5s\tremaining: 14.6s\n",
            "327:\tlearn: 0.1020417\ttotal: 17.5s\tremaining: 14.5s\n",
            "328:\tlearn: 0.1020281\ttotal: 17.5s\tremaining: 14.4s\n",
            "329:\tlearn: 0.1020000\ttotal: 17.6s\tremaining: 14.4s\n",
            "330:\tlearn: 0.1019658\ttotal: 17.7s\tremaining: 14.4s\n",
            "331:\tlearn: 0.1019291\ttotal: 17.7s\tremaining: 14.3s\n",
            "332:\tlearn: 0.1018928\ttotal: 17.8s\tremaining: 14.3s\n",
            "333:\tlearn: 0.1018658\ttotal: 17.9s\tremaining: 14.2s\n",
            "334:\tlearn: 0.1018523\ttotal: 17.9s\tremaining: 14.2s\n",
            "335:\tlearn: 0.1018240\ttotal: 18s\tremaining: 14.1s\n",
            "336:\tlearn: 0.1018031\ttotal: 18s\tremaining: 14s\n",
            "337:\tlearn: 0.1017795\ttotal: 18.1s\tremaining: 14s\n",
            "338:\tlearn: 0.1017622\ttotal: 18.1s\tremaining: 14s\n",
            "339:\tlearn: 0.1017377\ttotal: 18.2s\tremaining: 13.9s\n",
            "340:\tlearn: 0.1017216\ttotal: 18.2s\tremaining: 13.8s\n",
            "341:\tlearn: 0.1017108\ttotal: 18.3s\tremaining: 13.8s\n",
            "342:\tlearn: 0.1017056\ttotal: 18.3s\tremaining: 13.7s\n",
            "343:\tlearn: 0.1016980\ttotal: 18.3s\tremaining: 13.6s\n",
            "344:\tlearn: 0.1016890\ttotal: 18.3s\tremaining: 13.5s\n",
            "345:\tlearn: 0.1016763\ttotal: 18.3s\tremaining: 13.5s\n",
            "346:\tlearn: 0.1016488\ttotal: 18.4s\tremaining: 13.4s\n",
            "347:\tlearn: 0.1016399\ttotal: 18.4s\tremaining: 13.4s\n",
            "348:\tlearn: 0.1016126\ttotal: 18.5s\tremaining: 13.3s\n",
            "349:\tlearn: 0.1015806\ttotal: 18.6s\tremaining: 13.3s\n",
            "350:\tlearn: 0.1015520\ttotal: 18.6s\tremaining: 13.2s\n",
            "351:\tlearn: 0.1015434\ttotal: 18.7s\tremaining: 13.1s\n",
            "352:\tlearn: 0.1015339\ttotal: 18.7s\tremaining: 13.1s\n",
            "353:\tlearn: 0.1015327\ttotal: 18.7s\tremaining: 13s\n",
            "354:\tlearn: 0.1015293\ttotal: 18.7s\tremaining: 12.9s\n",
            "355:\tlearn: 0.1015104\ttotal: 18.7s\tremaining: 12.8s\n",
            "356:\tlearn: 0.1014777\ttotal: 18.8s\tremaining: 12.8s\n",
            "357:\tlearn: 0.1014521\ttotal: 18.9s\tremaining: 12.8s\n",
            "358:\tlearn: 0.1014487\ttotal: 18.9s\tremaining: 12.7s\n",
            "359:\tlearn: 0.1014293\ttotal: 19s\tremaining: 12.6s\n",
            "360:\tlearn: 0.1013955\ttotal: 19s\tremaining: 12.6s\n",
            "361:\tlearn: 0.1013896\ttotal: 19s\tremaining: 12.5s\n",
            "362:\tlearn: 0.1013622\ttotal: 19.1s\tremaining: 12.5s\n",
            "363:\tlearn: 0.1013544\ttotal: 19.1s\tremaining: 12.4s\n",
            "364:\tlearn: 0.1013420\ttotal: 19.2s\tremaining: 12.4s\n",
            "365:\tlearn: 0.1013218\ttotal: 19.2s\tremaining: 12.3s\n",
            "366:\tlearn: 0.1013053\ttotal: 19.3s\tremaining: 12.3s\n",
            "367:\tlearn: 0.1013043\ttotal: 19.3s\tremaining: 12.2s\n",
            "368:\tlearn: 0.1012961\ttotal: 19.3s\tremaining: 12.1s\n",
            "369:\tlearn: 0.1012890\ttotal: 19.4s\tremaining: 12s\n",
            "370:\tlearn: 0.1012882\ttotal: 19.4s\tremaining: 12s\n",
            "371:\tlearn: 0.1012689\ttotal: 19.4s\tremaining: 11.9s\n",
            "372:\tlearn: 0.1012616\ttotal: 19.5s\tremaining: 11.8s\n",
            "373:\tlearn: 0.1012510\ttotal: 19.5s\tremaining: 11.8s\n",
            "374:\tlearn: 0.1012301\ttotal: 19.6s\tremaining: 11.7s\n",
            "375:\tlearn: 0.1012246\ttotal: 19.6s\tremaining: 11.7s\n",
            "376:\tlearn: 0.1011992\ttotal: 19.6s\tremaining: 11.6s\n",
            "377:\tlearn: 0.1011930\ttotal: 19.6s\tremaining: 11.5s\n",
            "378:\tlearn: 0.1011916\ttotal: 19.6s\tremaining: 11.5s\n",
            "379:\tlearn: 0.1011811\ttotal: 19.7s\tremaining: 11.4s\n",
            "380:\tlearn: 0.1011789\ttotal: 19.7s\tremaining: 11.3s\n",
            "381:\tlearn: 0.1011717\ttotal: 19.7s\tremaining: 11.2s\n",
            "382:\tlearn: 0.1011640\ttotal: 19.7s\tremaining: 11.2s\n",
            "383:\tlearn: 0.1011599\ttotal: 19.8s\tremaining: 11.1s\n",
            "384:\tlearn: 0.1011435\ttotal: 19.8s\tremaining: 11.1s\n",
            "385:\tlearn: 0.1011306\ttotal: 19.9s\tremaining: 11s\n",
            "386:\tlearn: 0.1011049\ttotal: 20s\tremaining: 11s\n",
            "387:\tlearn: 0.1010987\ttotal: 20s\tremaining: 10.9s\n",
            "388:\tlearn: 0.1010925\ttotal: 20s\tremaining: 10.8s\n",
            "389:\tlearn: 0.1010825\ttotal: 20s\tremaining: 10.8s\n",
            "390:\tlearn: 0.1010610\ttotal: 20.1s\tremaining: 10.7s\n",
            "391:\tlearn: 0.1010401\ttotal: 20.2s\tremaining: 10.7s\n",
            "392:\tlearn: 0.1010182\ttotal: 20.2s\tremaining: 10.7s\n",
            "393:\tlearn: 0.1009903\ttotal: 20.3s\tremaining: 10.6s\n",
            "394:\tlearn: 0.1009837\ttotal: 20.3s\tremaining: 10.6s\n",
            "395:\tlearn: 0.1009701\ttotal: 20.4s\tremaining: 10.5s\n",
            "396:\tlearn: 0.1009635\ttotal: 20.4s\tremaining: 10.5s\n",
            "397:\tlearn: 0.1009616\ttotal: 20.5s\tremaining: 10.4s\n",
            "398:\tlearn: 0.1009434\ttotal: 20.5s\tremaining: 10.3s\n",
            "399:\tlearn: 0.1009252\ttotal: 20.6s\tremaining: 10.3s\n",
            "400:\tlearn: 0.1009080\ttotal: 20.6s\tremaining: 10.2s\n",
            "401:\tlearn: 0.1008955\ttotal: 20.7s\tremaining: 10.2s\n",
            "402:\tlearn: 0.1008908\ttotal: 20.7s\tremaining: 10.1s\n",
            "403:\tlearn: 0.1008898\ttotal: 20.7s\tremaining: 10s\n",
            "404:\tlearn: 0.1008870\ttotal: 20.7s\tremaining: 9.98s\n",
            "405:\tlearn: 0.1008797\ttotal: 20.7s\tremaining: 9.91s\n",
            "406:\tlearn: 0.1008711\ttotal: 20.8s\tremaining: 9.85s\n",
            "407:\tlearn: 0.1008699\ttotal: 20.8s\tremaining: 9.78s\n",
            "408:\tlearn: 0.1008684\ttotal: 20.8s\tremaining: 9.71s\n",
            "409:\tlearn: 0.1008530\ttotal: 20.9s\tremaining: 9.67s\n",
            "410:\tlearn: 0.1008311\ttotal: 20.9s\tremaining: 9.63s\n",
            "411:\tlearn: 0.1008057\ttotal: 21s\tremaining: 9.59s\n",
            "412:\tlearn: 0.1008018\ttotal: 21s\tremaining: 9.53s\n",
            "413:\tlearn: 0.1008015\ttotal: 21s\tremaining: 9.46s\n",
            "414:\tlearn: 0.1007899\ttotal: 21.1s\tremaining: 9.4s\n",
            "415:\tlearn: 0.1007850\ttotal: 21.1s\tremaining: 9.33s\n",
            "416:\tlearn: 0.1007783\ttotal: 21.1s\tremaining: 9.27s\n",
            "417:\tlearn: 0.1007736\ttotal: 21.1s\tremaining: 9.2s\n",
            "418:\tlearn: 0.1007641\ttotal: 21.2s\tremaining: 9.14s\n",
            "419:\tlearn: 0.1007610\ttotal: 21.2s\tremaining: 9.08s\n",
            "420:\tlearn: 0.1007396\ttotal: 21.3s\tremaining: 9.04s\n",
            "421:\tlearn: 0.1007394\ttotal: 21.3s\tremaining: 8.97s\n",
            "422:\tlearn: 0.1007324\ttotal: 21.3s\tremaining: 8.91s\n",
            "423:\tlearn: 0.1007150\ttotal: 21.4s\tremaining: 8.87s\n",
            "424:\tlearn: 0.1006937\ttotal: 21.4s\tremaining: 8.82s\n",
            "425:\tlearn: 0.1006676\ttotal: 21.5s\tremaining: 8.79s\n",
            "426:\tlearn: 0.1006625\ttotal: 21.5s\tremaining: 8.73s\n",
            "427:\tlearn: 0.1006394\ttotal: 21.6s\tremaining: 8.69s\n",
            "428:\tlearn: 0.1006147\ttotal: 21.7s\tremaining: 8.64s\n",
            "429:\tlearn: 0.1006102\ttotal: 21.7s\tremaining: 8.58s\n",
            "430:\tlearn: 0.1005869\ttotal: 21.8s\tremaining: 8.54s\n",
            "431:\tlearn: 0.1005636\ttotal: 21.8s\tremaining: 8.49s\n",
            "432:\tlearn: 0.1005601\ttotal: 21.9s\tremaining: 8.43s\n",
            "433:\tlearn: 0.1005426\ttotal: 21.9s\tremaining: 8.38s\n",
            "434:\tlearn: 0.1005345\ttotal: 21.9s\tremaining: 8.32s\n",
            "435:\tlearn: 0.1005263\ttotal: 22s\tremaining: 8.26s\n",
            "436:\tlearn: 0.1005085\ttotal: 22s\tremaining: 8.22s\n",
            "437:\tlearn: 0.1004904\ttotal: 22.1s\tremaining: 8.18s\n",
            "438:\tlearn: 0.1004888\ttotal: 22.1s\tremaining: 8.12s\n",
            "439:\tlearn: 0.1004665\ttotal: 22.2s\tremaining: 8.08s\n",
            "440:\tlearn: 0.1004610\ttotal: 22.3s\tremaining: 8.03s\n",
            "441:\tlearn: 0.1004498\ttotal: 22.3s\tremaining: 7.98s\n",
            "442:\tlearn: 0.1004229\ttotal: 22.4s\tremaining: 7.95s\n",
            "443:\tlearn: 0.1004215\ttotal: 22.5s\tremaining: 7.89s\n",
            "444:\tlearn: 0.1004057\ttotal: 22.6s\tremaining: 7.87s\n",
            "445:\tlearn: 0.1004007\ttotal: 22.6s\tremaining: 7.82s\n",
            "446:\tlearn: 0.1003970\ttotal: 22.7s\tremaining: 7.76s\n",
            "447:\tlearn: 0.1003806\ttotal: 22.7s\tremaining: 7.71s\n",
            "448:\tlearn: 0.1003548\ttotal: 22.9s\tremaining: 7.69s\n",
            "449:\tlearn: 0.1003260\ttotal: 23s\tremaining: 7.66s\n",
            "450:\tlearn: 0.1003175\ttotal: 23s\tremaining: 7.62s\n",
            "451:\tlearn: 0.1003069\ttotal: 23.2s\tremaining: 7.59s\n",
            "452:\tlearn: 0.1003042\ttotal: 23.2s\tremaining: 7.53s\n",
            "453:\tlearn: 0.1002901\ttotal: 23.3s\tremaining: 7.49s\n",
            "454:\tlearn: 0.1002834\ttotal: 23.3s\tremaining: 7.43s\n",
            "455:\tlearn: 0.1002598\ttotal: 23.5s\tremaining: 7.41s\n",
            "456:\tlearn: 0.1002323\ttotal: 23.6s\tremaining: 7.38s\n",
            "457:\tlearn: 0.1002125\ttotal: 23.7s\tremaining: 7.35s\n",
            "458:\tlearn: 0.1001991\ttotal: 23.8s\tremaining: 7.32s\n",
            "459:\tlearn: 0.1001978\ttotal: 23.9s\tremaining: 7.26s\n",
            "460:\tlearn: 0.1001829\ttotal: 24s\tremaining: 7.24s\n",
            "461:\tlearn: 0.1001789\ttotal: 24s\tremaining: 7.18s\n",
            "462:\tlearn: 0.1001658\ttotal: 24.1s\tremaining: 7.13s\n",
            "463:\tlearn: 0.1001586\ttotal: 24.1s\tremaining: 7.07s\n",
            "464:\tlearn: 0.1001371\ttotal: 24.3s\tremaining: 7.05s\n",
            "465:\tlearn: 0.1001320\ttotal: 24.3s\tremaining: 6.99s\n",
            "466:\tlearn: 0.1001134\ttotal: 24.4s\tremaining: 6.96s\n",
            "467:\tlearn: 0.1000989\ttotal: 24.6s\tremaining: 6.93s\n",
            "468:\tlearn: 0.1000706\ttotal: 24.7s\tremaining: 6.9s\n",
            "469:\tlearn: 0.1000555\ttotal: 24.8s\tremaining: 6.87s\n",
            "470:\tlearn: 0.1000375\ttotal: 24.9s\tremaining: 6.82s\n",
            "471:\tlearn: 0.1000303\ttotal: 25s\tremaining: 6.77s\n",
            "472:\tlearn: 0.1000212\ttotal: 25s\tremaining: 6.71s\n",
            "473:\tlearn: 0.1000036\ttotal: 25.1s\tremaining: 6.68s\n",
            "474:\tlearn: 0.0999979\ttotal: 25.3s\tremaining: 6.65s\n",
            "475:\tlearn: 0.0999914\ttotal: 25.3s\tremaining: 6.6s\n",
            "476:\tlearn: 0.0999675\ttotal: 25.4s\tremaining: 6.56s\n",
            "477:\tlearn: 0.0999446\ttotal: 25.6s\tremaining: 6.53s\n",
            "478:\tlearn: 0.0999384\ttotal: 25.7s\tremaining: 6.49s\n",
            "479:\tlearn: 0.0999363\ttotal: 25.7s\tremaining: 6.44s\n",
            "480:\tlearn: 0.0999176\ttotal: 25.9s\tremaining: 6.4s\n",
            "481:\tlearn: 0.0999001\ttotal: 26s\tremaining: 6.36s\n",
            "482:\tlearn: 0.0998917\ttotal: 26.1s\tremaining: 6.31s\n",
            "483:\tlearn: 0.0998786\ttotal: 26.2s\tremaining: 6.27s\n",
            "484:\tlearn: 0.0998540\ttotal: 26.3s\tremaining: 6.24s\n",
            "485:\tlearn: 0.0998528\ttotal: 26.3s\tremaining: 6.18s\n",
            "486:\tlearn: 0.0998345\ttotal: 26.5s\tremaining: 6.14s\n",
            "487:\tlearn: 0.0998345\ttotal: 26.5s\tremaining: 6.08s\n",
            "488:\tlearn: 0.0998069\ttotal: 26.6s\tremaining: 6.04s\n",
            "489:\tlearn: 0.0997877\ttotal: 26.7s\tremaining: 6s\n",
            "490:\tlearn: 0.0997788\ttotal: 26.8s\tremaining: 5.94s\n",
            "491:\tlearn: 0.0997615\ttotal: 26.9s\tremaining: 5.91s\n",
            "492:\tlearn: 0.0997571\ttotal: 26.9s\tremaining: 5.85s\n",
            "493:\tlearn: 0.0997507\ttotal: 27s\tremaining: 5.79s\n",
            "494:\tlearn: 0.0997460\ttotal: 27s\tremaining: 5.73s\n",
            "495:\tlearn: 0.0997347\ttotal: 27.2s\tremaining: 5.7s\n",
            "496:\tlearn: 0.0997340\ttotal: 27.2s\tremaining: 5.64s\n",
            "497:\tlearn: 0.0997077\ttotal: 27.3s\tremaining: 5.6s\n",
            "498:\tlearn: 0.0996913\ttotal: 27.5s\tremaining: 5.56s\n",
            "499:\tlearn: 0.0996804\ttotal: 27.6s\tremaining: 5.51s\n",
            "500:\tlearn: 0.0996787\ttotal: 27.6s\tremaining: 5.45s\n",
            "501:\tlearn: 0.0996719\ttotal: 27.6s\tremaining: 5.39s\n",
            "502:\tlearn: 0.0996563\ttotal: 27.7s\tremaining: 5.34s\n",
            "503:\tlearn: 0.0996493\ttotal: 27.8s\tremaining: 5.29s\n",
            "504:\tlearn: 0.0996478\ttotal: 27.8s\tremaining: 5.22s\n",
            "505:\tlearn: 0.0996337\ttotal: 27.9s\tremaining: 5.18s\n",
            "506:\tlearn: 0.0996171\ttotal: 27.9s\tremaining: 5.12s\n",
            "507:\tlearn: 0.0995973\ttotal: 28s\tremaining: 5.07s\n",
            "508:\tlearn: 0.0995856\ttotal: 28.1s\tremaining: 5.02s\n",
            "509:\tlearn: 0.0995749\ttotal: 28.2s\tremaining: 4.97s\n",
            "510:\tlearn: 0.0995594\ttotal: 28.2s\tremaining: 4.92s\n",
            "511:\tlearn: 0.0995450\ttotal: 28.3s\tremaining: 4.87s\n",
            "512:\tlearn: 0.0995427\ttotal: 28.3s\tremaining: 4.8s\n",
            "513:\tlearn: 0.0995396\ttotal: 28.3s\tremaining: 4.74s\n",
            "514:\tlearn: 0.0995237\ttotal: 28.4s\tremaining: 4.69s\n",
            "515:\tlearn: 0.0995184\ttotal: 28.4s\tremaining: 4.63s\n",
            "516:\tlearn: 0.0995002\ttotal: 28.5s\tremaining: 4.58s\n",
            "517:\tlearn: 0.0994766\ttotal: 28.6s\tremaining: 4.52s\n",
            "518:\tlearn: 0.0994735\ttotal: 28.6s\tremaining: 4.46s\n",
            "519:\tlearn: 0.0994606\ttotal: 28.7s\tremaining: 4.41s\n",
            "520:\tlearn: 0.0994595\ttotal: 28.7s\tremaining: 4.35s\n",
            "521:\tlearn: 0.0994493\ttotal: 28.7s\tremaining: 4.29s\n",
            "522:\tlearn: 0.0994347\ttotal: 28.8s\tremaining: 4.24s\n",
            "523:\tlearn: 0.0994287\ttotal: 28.8s\tremaining: 4.18s\n",
            "524:\tlearn: 0.0994138\ttotal: 28.9s\tremaining: 4.13s\n",
            "525:\tlearn: 0.0994057\ttotal: 28.9s\tremaining: 4.07s\n",
            "526:\tlearn: 0.0994011\ttotal: 29s\tremaining: 4.01s\n",
            "527:\tlearn: 0.0993942\ttotal: 29s\tremaining: 3.95s\n",
            "528:\tlearn: 0.0993711\ttotal: 29.1s\tremaining: 3.9s\n",
            "529:\tlearn: 0.0993540\ttotal: 29.1s\tremaining: 3.85s\n",
            "530:\tlearn: 0.0993406\ttotal: 29.2s\tremaining: 3.79s\n",
            "531:\tlearn: 0.0993355\ttotal: 29.2s\tremaining: 3.74s\n",
            "532:\tlearn: 0.0993063\ttotal: 29.3s\tremaining: 3.69s\n",
            "533:\tlearn: 0.0992948\ttotal: 29.4s\tremaining: 3.63s\n",
            "534:\tlearn: 0.0992827\ttotal: 29.4s\tremaining: 3.58s\n",
            "535:\tlearn: 0.0992627\ttotal: 29.5s\tremaining: 3.52s\n",
            "536:\tlearn: 0.0992492\ttotal: 29.6s\tremaining: 3.47s\n",
            "537:\tlearn: 0.0992356\ttotal: 29.7s\tremaining: 3.42s\n",
            "538:\tlearn: 0.0992308\ttotal: 29.7s\tremaining: 3.36s\n",
            "539:\tlearn: 0.0992183\ttotal: 29.7s\tremaining: 3.3s\n",
            "540:\tlearn: 0.0991931\ttotal: 29.8s\tremaining: 3.25s\n",
            "541:\tlearn: 0.0991920\ttotal: 29.8s\tremaining: 3.19s\n",
            "542:\tlearn: 0.0991862\ttotal: 29.8s\tremaining: 3.13s\n",
            "543:\tlearn: 0.0991743\ttotal: 29.9s\tremaining: 3.08s\n",
            "544:\tlearn: 0.0991639\ttotal: 30s\tremaining: 3.03s\n",
            "545:\tlearn: 0.0991535\ttotal: 30.1s\tremaining: 2.98s\n",
            "546:\tlearn: 0.0991490\ttotal: 30.1s\tremaining: 2.92s\n",
            "547:\tlearn: 0.0991340\ttotal: 30.2s\tremaining: 2.86s\n",
            "548:\tlearn: 0.0991216\ttotal: 30.3s\tremaining: 2.81s\n",
            "549:\tlearn: 0.0991013\ttotal: 30.3s\tremaining: 2.76s\n",
            "550:\tlearn: 0.0990880\ttotal: 30.4s\tremaining: 2.7s\n",
            "551:\tlearn: 0.0990778\ttotal: 30.5s\tremaining: 2.65s\n",
            "552:\tlearn: 0.0990578\ttotal: 30.5s\tremaining: 2.6s\n",
            "553:\tlearn: 0.0990549\ttotal: 30.6s\tremaining: 2.54s\n",
            "554:\tlearn: 0.0990313\ttotal: 30.6s\tremaining: 2.48s\n",
            "555:\tlearn: 0.0990177\ttotal: 30.7s\tremaining: 2.43s\n",
            "556:\tlearn: 0.0990115\ttotal: 30.7s\tremaining: 2.37s\n",
            "557:\tlearn: 0.0989920\ttotal: 30.8s\tremaining: 2.31s\n",
            "558:\tlearn: 0.0989872\ttotal: 30.8s\tremaining: 2.26s\n",
            "559:\tlearn: 0.0989779\ttotal: 30.8s\tremaining: 2.2s\n",
            "560:\tlearn: 0.0989696\ttotal: 30.9s\tremaining: 2.15s\n",
            "561:\tlearn: 0.0989624\ttotal: 30.9s\tremaining: 2.09s\n",
            "562:\tlearn: 0.0989429\ttotal: 31s\tremaining: 2.04s\n",
            "563:\tlearn: 0.0989317\ttotal: 31.1s\tremaining: 1.99s\n",
            "564:\tlearn: 0.0989223\ttotal: 31.1s\tremaining: 1.93s\n",
            "565:\tlearn: 0.0989135\ttotal: 31.2s\tremaining: 1.87s\n",
            "566:\tlearn: 0.0989065\ttotal: 31.2s\tremaining: 1.82s\n",
            "567:\tlearn: 0.0989063\ttotal: 31.2s\tremaining: 1.76s\n",
            "568:\tlearn: 0.0989052\ttotal: 31.3s\tremaining: 1.7s\n",
            "569:\tlearn: 0.0989052\ttotal: 31.3s\tremaining: 1.65s\n",
            "570:\tlearn: 0.0989048\ttotal: 31.3s\tremaining: 1.59s\n",
            "571:\tlearn: 0.0989017\ttotal: 31.3s\tremaining: 1.53s\n",
            "572:\tlearn: 0.0988861\ttotal: 31.4s\tremaining: 1.48s\n",
            "573:\tlearn: 0.0988766\ttotal: 31.4s\tremaining: 1.42s\n",
            "574:\tlearn: 0.0988669\ttotal: 31.5s\tremaining: 1.37s\n",
            "575:\tlearn: 0.0988629\ttotal: 31.5s\tremaining: 1.31s\n",
            "576:\tlearn: 0.0988428\ttotal: 31.6s\tremaining: 1.26s\n",
            "577:\tlearn: 0.0988234\ttotal: 31.7s\tremaining: 1.21s\n",
            "578:\tlearn: 0.0988231\ttotal: 31.7s\tremaining: 1.15s\n",
            "579:\tlearn: 0.0988212\ttotal: 31.7s\tremaining: 1.09s\n",
            "580:\tlearn: 0.0988161\ttotal: 31.7s\tremaining: 1.04s\n",
            "581:\tlearn: 0.0988048\ttotal: 31.8s\tremaining: 983ms\n",
            "582:\tlearn: 0.0987896\ttotal: 31.9s\tremaining: 929ms\n",
            "583:\tlearn: 0.0987694\ttotal: 31.9s\tremaining: 875ms\n",
            "584:\tlearn: 0.0987538\ttotal: 32s\tremaining: 821ms\n",
            "585:\tlearn: 0.0987330\ttotal: 32.1s\tremaining: 766ms\n",
            "586:\tlearn: 0.0987203\ttotal: 32.1s\tremaining: 712ms\n",
            "587:\tlearn: 0.0987122\ttotal: 32.2s\tremaining: 658ms\n",
            "588:\tlearn: 0.0986994\ttotal: 32.3s\tremaining: 603ms\n",
            "589:\tlearn: 0.0986952\ttotal: 32.3s\tremaining: 548ms\n",
            "590:\tlearn: 0.0986911\ttotal: 32.3s\tremaining: 492ms\n",
            "591:\tlearn: 0.0986829\ttotal: 32.4s\tremaining: 438ms\n",
            "592:\tlearn: 0.0986804\ttotal: 32.4s\tremaining: 382ms\n",
            "593:\tlearn: 0.0986658\ttotal: 32.5s\tremaining: 328ms\n",
            "594:\tlearn: 0.0986555\ttotal: 32.5s\tremaining: 273ms\n",
            "595:\tlearn: 0.0986330\ttotal: 32.6s\tremaining: 219ms\n",
            "596:\tlearn: 0.0986320\ttotal: 32.6s\tremaining: 164ms\n",
            "597:\tlearn: 0.0986213\ttotal: 32.6s\tremaining: 109ms\n",
            "598:\tlearn: 0.0986203\ttotal: 32.7s\tremaining: 54.5ms\n",
            "599:\tlearn: 0.0986066\ttotal: 32.7s\tremaining: 0us\n"
          ]
        },
        {
          "output_type": "execute_result",
          "data": {
            "text/plain": [
              "<catboost.core.CatBoostClassifier at 0x7c8566b835d0>"
            ]
          },
          "metadata": {},
          "execution_count": 19
        }
      ]
    },
    {
      "cell_type": "code",
      "source": [
        "import matplotlib.pyplot as plt\n",
        "y_pred=cb_model.predict_proba(df_final_train.drop(['label'],axis=1))\n",
        "df_final_train['prediction']=y_pred[:,1]\n",
        "\n",
        "\n",
        "\n",
        "fpr, tpr, thresholds = metrics.roc_curve(df_final_train.label,df_final_train.prediction)\n",
        "auc_train=metrics.auc(fpr, tpr)\n",
        "\n",
        "optimal_idx = np.argmax(tpr - fpr)\n",
        "optimal_threshold = thresholds[optimal_idx]\n",
        "print(\"Threshold value is:\", optimal_threshold)\n",
        "\n",
        "plt.plot(fpr, tpr)\n",
        "plt.title(\"ROC Curve\")\n",
        "plt.xlabel(\"False Positive Rate\")\n",
        "plt.ylabel(\"True Positive Rate\")\n",
        "#plt.legend(title='Training set AUC: {}'.format(round(auc_train,2)))\n",
        "\n",
        "\n",
        "COLUMNS=['pre_market_news', 'during_market_news','sma_10_o_open', 'sma_20_o_open', 'scores', 'source', 'category', 'label']\n",
        "for i in CAT_COLUMNS:\n",
        "    df_final_test[i]=df_final_test[i].fillna('MISSING')\n",
        "\n",
        "y_pred=cb_model.predict_proba(df_final_test[COLUMNS].drop(['label'],axis=1))\n",
        "df_final_test['prediction']=y_pred[:,1]\n",
        "\n",
        "fpr, tpr, thresholds = metrics.roc_curve(df_final_test.label,df_final_test.prediction)\n",
        "auc_test=metrics.auc(fpr, tpr)\n",
        "\n",
        "plt.plot(fpr, tpr)\n",
        "plt.title(\"ROC Curve\")\n",
        "plt.xlabel(\"False Positive Rate\")\n",
        "plt.ylabel(\"True Positive Rate\")\n",
        "plt.legend(title='Train/Test AUCs: {}/{}'.format(round(auc_test,3),round(auc_train,3)))\n",
        "\n",
        "print(\"train/test AUCs: {}/{}\".format(round(auc_train,3),round(auc_test,3)))\n",
        "\n",
        "\n"
      ],
      "metadata": {
        "colab": {
          "base_uri": "https://localhost:8080/",
          "height": 770
        },
        "id": "nfaA9QVdBlgW",
        "outputId": "ac247515-68f9-41e1-eeb1-171decda9f80"
      },
      "execution_count": 21,
      "outputs": [
        {
          "output_type": "stream",
          "name": "stdout",
          "text": [
            "Threshold value is: 0.025813229623282988\n",
            "train/test AUCs: 0.782/0.719\n"
          ]
        },
        {
          "output_type": "stream",
          "name": "stderr",
          "text": [
            "<ipython-input-21-d70a0bb2a736>:23: SettingWithCopyWarning: \n",
            "A value is trying to be set on a copy of a slice from a DataFrame.\n",
            "Try using .loc[row_indexer,col_indexer] = value instead\n",
            "\n",
            "See the caveats in the documentation: https://pandas.pydata.org/pandas-docs/stable/user_guide/indexing.html#returning-a-view-versus-a-copy\n",
            "  df_final_test[i]=df_final_test[i].fillna('MISSING')\n",
            "<ipython-input-21-d70a0bb2a736>:26: SettingWithCopyWarning: \n",
            "A value is trying to be set on a copy of a slice from a DataFrame.\n",
            "Try using .loc[row_indexer,col_indexer] = value instead\n",
            "\n",
            "See the caveats in the documentation: https://pandas.pydata.org/pandas-docs/stable/user_guide/indexing.html#returning-a-view-versus-a-copy\n",
            "  df_final_test['prediction']=y_pred[:,1]\n",
            "<ipython-input-21-d70a0bb2a736>:35: UserWarning: No artists with labels found to put in legend.  Note that artists whose label start with an underscore are ignored when legend() is called with no argument.\n",
            "  plt.legend(title='Train/Test AUCs: {}/{}'.format(round(auc_test,3),round(auc_train,3)))\n"
          ]
        },
        {
          "output_type": "display_data",
          "data": {
            "text/plain": [
              "<Figure size 640x480 with 1 Axes>"
            ],
            "image/png": "[encoded data removed]"
          },
          "metadata": {}
        }
      ]
    },
    {
      "cell_type": "code",
      "source": [
        "# Feature importances\n",
        "print (cb_model.get_feature_importance(prettified=True))"
      ],
      "metadata": {
        "colab": {
          "base_uri": "https://localhost:8080/"
        },
        "id": "ArMlrN2GCh9h",
        "outputId": "a850bfae-dd2a-4dd8-c58d-37341b312add"
      },
      "execution_count": 22,
      "outputs": [
        {
          "output_type": "stream",
          "name": "stdout",
          "text": [
            "           Feature Id  Importances\n",
            "0       sma_10_o_open    41.541964\n",
            "1       sma_20_o_open    37.050563\n",
            "2              scores     9.518881\n",
            "3              source     3.936881\n",
            "4  during_market_news     3.437442\n",
            "5     pre_market_news     2.440789\n",
            "6            category     2.073481\n"
          ]
        }
      ]
    },
    {
      "cell_type": "code",
      "source": [
        "# NTILE the test data into 1% level, based on the probability from high to low\n",
        "df_final_test['ntile']=pd.qcut(df_final_test.prediction, 100, labels=['bin{}'.format(i) for i in range(100)])"
      ],
      "metadata": {
        "colab": {
          "base_uri": "https://localhost:8080/"
        },
        "id": "J1D3ly-sUN88",
        "outputId": "2f3b7b36-8c0e-40c2-a04c-ee28ff945848"
      },
      "execution_count": 24,
      "outputs": [
        {
          "output_type": "stream",
          "name": "stderr",
          "text": [
            "<ipython-input-24-74397ec5fb53>:2: SettingWithCopyWarning: \n",
            "A value is trying to be set on a copy of a slice from a DataFrame.\n",
            "Try using .loc[row_indexer,col_indexer] = value instead\n",
            "\n",
            "See the caveats in the documentation: https://pandas.pydata.org/pandas-docs/stable/user_guide/indexing.html#returning-a-view-versus-a-copy\n",
            "  df_final_test['ntile']=pd.qcut(df_final_test.prediction, 100, labels=['bin{}'.format(i) for i in range(100)])\n"
          ]
        }
      ]
    },
    {
      "cell_type": "code",
      "source": [
        "df_final_test.groupby(['ntile','label'])['prediction'].agg(['count']).unstack().reset_index()"
      ],
      "metadata": {
        "colab": {
          "base_uri": "https://localhost:8080/",
          "height": 2336
        },
        "id": "P5XTI5dHnBvT",
        "outputId": "668e3e0f-3944-4d1c-99c7-313c5c38add6"
      },
      "execution_count": 30,
      "outputs": [
        {
          "output_type": "stream",
          "name": "stderr",
          "text": [
            "<ipython-input-30-debd73aae3b8>:1: FutureWarning: The default of observed=False is deprecated and will be changed to True in a future version of pandas. Pass observed=False to retain current behavior or observed=True to adopt the future default and silence this warning.\n",
            "  df_final_test.groupby(['ntile','label'])['prediction'].agg(['count']).unstack().reset_index()\n"
          ]
        },
        {
          "output_type": "execute_result",
          "data": {
            "text/plain": [
              "       ntile count    \n",
              "label            0   1\n",
              "0       bin0    71   1\n",
              "1       bin1    70   2\n",
              "2       bin2    72   0\n",
              "3       bin3    72   0\n",
              "4       bin4    71   1\n",
              "5       bin5    70   2\n",
              "6       bin6    71   1\n",
              "7       bin7    72   0\n",
              "8       bin8    72   0\n",
              "9       bin9    72   0\n",
              "10     bin10    71   1\n",
              "11     bin11    69   3\n",
              "12     bin12    71   1\n",
              "13     bin13    70   2\n",
              "14     bin14    72   0\n",
              "15     bin15    70   2\n",
              "16     bin16    72   0\n",
              "17     bin17    72   0\n",
              "18     bin18    71   1\n",
              "19     bin19    72   0\n",
              "20     bin20    72   0\n",
              "21     bin21    71   1\n",
              "22     bin22    69   3\n",
              "23     bin23    69   4\n",
              "24     bin24    70   1\n",
              "25     bin25    72   0\n",
              "26     bin26    71   1\n",
              "27     bin27    72   0\n",
              "28     bin28    72   0\n",
              "29     bin29    72   0\n",
              "30     bin30    72   0\n",
              "31     bin31    71   1\n",
              "32     bin32    70   2\n",
              "33     bin33    72   0\n",
              "34     bin34    70   2\n",
              "35     bin35    72   0\n",
              "36     bin36    70   2\n",
              "37     bin37    72   0\n",
              "38     bin38    72   0\n",
              "39     bin39    72   0\n",
              "40     bin40    72   0\n",
              "41     bin41    72   0\n",
              "42     bin42    70   2\n",
              "43     bin43    72   1\n",
              "44     bin44    70   1\n",
              "45     bin45    72   0\n",
              "46     bin46    69   3\n",
              "47     bin47    69   3\n",
              "48     bin48    69   3\n",
              "49     bin49    70   2\n",
              "50     bin50    68   4\n",
              "51     bin51    72   0\n",
              "52     bin52    71   1\n",
              "53     bin53    69   3\n",
              "54     bin54    71   1\n",
              "55     bin55    72   0\n",
              "56     bin56    72   0\n",
              "57     bin57    70   2\n",
              "58     bin58    71   1\n",
              "59     bin59    70   2\n",
              "60     bin60    71   1\n",
              "61     bin61    71   2\n",
              "62     bin62    68   3\n",
              "63     bin63    70   2\n",
              "64     bin64    71   2\n",
              "65     bin65    68   3\n",
              "66     bin66    71   1\n",
              "67     bin67    70   2\n",
              "68     bin68    72   1\n",
              "69     bin69    68   3\n",
              "70     bin70    70   3\n",
              "71     bin71    70   1\n",
              "72     bin72    66   6\n",
              "73     bin73    67   5\n",
              "74     bin74    69   3\n",
              "75     bin75    70   2\n",
              "76     bin76    68   4\n",
              "77     bin77    68   5\n",
              "78     bin78    70   3\n",
              "79     bin79    67   3\n",
              "80     bin80    66   6\n",
              "81     bin81    66   7\n",
              "82     bin82    69   2\n",
              "83     bin83    67   5\n",
              "84     bin84    71   2\n",
              "85     bin85    68   3\n",
              "86     bin86    70   2\n",
              "87     bin87    70   2\n",
              "88     bin88    65   7\n",
              "89     bin89    69   3\n",
              "90     bin90    70   3\n",
              "91     bin91    65   6\n",
              "92     bin92    66   6\n",
              "93     bin93    70   2\n",
              "94     bin94    66   6\n",
              "95     bin95    67   5\n",
              "96     bin96    64   8\n",
              "97     bin97    63   9\n",
              "98     bin98    77  18\n",
              "99     bin99    38  11"
            ],
            "text/html": [
              "\n",
              "  <div id=\"df-77effea6-691b-491c-b880-10ce0c6a0136\" class=\"colab-df-container\">\n",
              "    <div>\n",
              "<style scoped>\n",
              "    .dataframe tbody tr th:only-of-type {\n",
              "        vertical-align: middle;\n",
              "    }\n",
              "\n",
              "    .dataframe tbody tr th {\n",
              "        vertical-align: top;\n",
              "    }\n",
              "\n",
              "    .dataframe thead tr th {\n",
              "        text-align: left;\n",
              "    }\n",
              "</style>\n",
              "<table border=\"1\" class=\"dataframe\">\n",
              "  <thead>\n",
              "    <tr>\n",
              "      <th></th>\n",
              "      <th>ntile</th>\n",
              "      <th colspan=\"2\" halign=\"left\">count</th>\n",
              "    </tr>\n",
              "    <tr>\n",
              "      <th>label</th>\n",
              "      <th></th>\n",
              "      <th>0</th>\n",
              "      <th>1</th>\n",
              "    </tr>\n",
              "  </thead>\n",
              "  <tbody>\n",
              "    <tr>\n",
              "      <th>0</th>\n",
              "      <td>bin0</td>\n",
              "      <td>71</td>\n",
              "      <td>1</td>\n",
              "    </tr>\n",
              "    <tr>\n",
              "      <th>1</th>\n",
              "      <td>bin1</td>\n",
              "      <td>70</td>\n",
              "      <td>2</td>\n",
              "    </tr>\n",
              "    <tr>\n",
              "      <th>2</th>\n",
              "      <td>bin2</td>\n",
              "      <td>72</td>\n",
              "      <td>0</td>\n",
              "    </tr>\n",
              "    <tr>\n",
              "      <th>3</th>\n",
              "      <td>bin3</td>\n",
              "      <td>72</td>\n",
              "      <td>0</td>\n",
              "    </tr>\n",
              "    <tr>\n",
              "      <th>4</th>\n",
              "      <td>bin4</td>\n",
              "      <td>71</td>\n",
              "      <td>1</td>\n",
              "    </tr>\n",
              "    <tr>\n",
              "      <th>5</th>\n",
              "      <td>bin5</td>\n",
              "      <td>70</td>\n",
              "      <td>2</td>\n",
              "    </tr>\n",
              "    <tr>\n",
              "      <th>6</th>\n",
              "      <td>bin6</td>\n",
              "      <td>71</td>\n",
              "      <td>1</td>\n",
              "    </tr>\n",
              "    <tr>\n",
              "      <th>7</th>\n",
              "      <td>bin7</td>\n",
              "      <td>72</td>\n",
              "      <td>0</td>\n",
              "    </tr>\n",
              "    <tr>\n",
              "      <th>8</th>\n",
              "      <td>bin8</td>\n",
              "      <td>72</td>\n",
              "      <td>0</td>\n",
              "    </tr>\n",
              "    <tr>\n",
              "      <th>9</th>\n",
              "      <td>bin9</td>\n",
              "      <td>72</td>\n",
              "      <td>0</td>\n",
              "    </tr>\n",
              "    <tr>\n",
              "      <th>10</th>\n",
              "      <td>bin10</td>\n",
              "      <td>71</td>\n",
              "      <td>1</td>\n",
              "    </tr>\n",
              "    <tr>\n",
              "      <th>11</th>\n",
              "      <td>bin11</td>\n",
              "      <td>69</td>\n",
              "      <td>3</td>\n",
              "    </tr>\n",
              "    <tr>\n",
              "      <th>12</th>\n",
              "      <td>bin12</td>\n",
              "      <td>71</td>\n",
              "      <td>1</td>\n",
              "    </tr>\n",
              "    <tr>\n",
              "      <th>13</th>\n",
              "      <td>bin13</td>\n",
              "      <td>70</td>\n",
              "      <td>2</td>\n",
              "    </tr>\n",
              "    <tr>\n",
              "      <th>14</th>\n",
              "      <td>bin14</td>\n",
              "      <td>72</td>\n",
              "      <td>0</td>\n",
              "    </tr>\n",
              "    <tr>\n",
              "      <th>15</th>\n",
              "      <td>bin15</td>\n",
              "      <td>70</td>\n",
              "      <td>2</td>\n",
              "    </tr>\n",
              "    <tr>\n",
              "      <th>16</th>\n",
              "      <td>bin16</td>\n",
              "      <td>72</td>\n",
              "      <td>0</td>\n",
              "    </tr>\n",
              "    <tr>\n",
              "      <th>17</th>\n",
              "      <td>bin17</td>\n",
              "      <td>72</td>\n",
              "      <td>0</td>\n",
              "    </tr>\n",
              "    <tr>\n",
              "      <th>18</th>\n",
              "      <td>bin18</td>\n",
              "      <td>71</td>\n",
              "      <td>1</td>\n",
              "    </tr>\n",
              "    <tr>\n",
              "      <th>19</th>\n",
              "      <td>bin19</td>\n",
              "      <td>72</td>\n",
              "      <td>0</td>\n",
              "    </tr>\n",
              "    <tr>\n",
              "      <th>20</th>\n",
              "      <td>bin20</td>\n",
              "      <td>72</td>\n",
              "      <td>0</td>\n",
              "    </tr>\n",
              "    <tr>\n",
              "      <th>21</th>\n",
              "      <td>bin21</td>\n",
              "      <td>71</td>\n",
              "      <td>1</td>\n",
              "    </tr>\n",
              "    <tr>\n",
              "      <th>22</th>\n",
              "      <td>bin22</td>\n",
              "      <td>69</td>\n",
              "      <td>3</td>\n",
              "    </tr>\n",
              "    <tr>\n",
              "      <th>23</th>\n",
              "      <td>bin23</td>\n",
              "      <td>69</td>\n",
              "      <td>4</td>\n",
              "    </tr>\n",
              "    <tr>\n",
              "      <th>24</th>\n",
              "      <td>bin24</td>\n",
              "      <td>70</td>\n",
              "      <td>1</td>\n",
              "    </tr>\n",
              "    <tr>\n",
              "      <th>25</th>\n",
              "      <td>bin25</td>\n",
              "      <td>72</td>\n",
              "      <td>0</td>\n",
              "    </tr>\n",
              "    <tr>\n",
              "      <th>26</th>\n",
              "      <td>bin26</td>\n",
              "      <td>71</td>\n",
              "      <td>1</td>\n",
              "    </tr>\n",
              "    <tr>\n",
              "      <th>27</th>\n",
              "      <td>bin27</td>\n",
              "      <td>72</td>\n",
              "      <td>0</td>\n",
              "    </tr>\n",
              "    <tr>\n",
              "      <th>28</th>\n",
              "      <td>bin28</td>\n",
              "      <td>72</td>\n",
              "      <td>0</td>\n",
              "    </tr>\n",
              "    <tr>\n",
              "      <th>29</th>\n",
              "      <td>bin29</td>\n",
              "      <td>72</td>\n",
              "      <td>0</td>\n",
              "    </tr>\n",
              "    <tr>\n",
              "      <th>30</th>\n",
              "      <td>bin30</td>\n",
              "      <td>72</td>\n",
              "      <td>0</td>\n",
              "    </tr>\n",
              "    <tr>\n",
              "      <th>31</th>\n",
              "      <td>bin31</td>\n",
              "      <td>71</td>\n",
              "      <td>1</td>\n",
              "    </tr>\n",
              "    <tr>\n",
              "      <th>32</th>\n",
              "      <td>bin32</td>\n",
              "      <td>70</td>\n",
              "      <td>2</td>\n",
              "    </tr>\n",
              "    <tr>\n",
              "      <th>33</th>\n",
              "      <td>bin33</td>\n",
              "      <td>72</td>\n",
              "      <td>0</td>\n",
              "    </tr>\n",
              "    <tr>\n",
              "      <th>34</th>\n",
              "      <td>bin34</td>\n",
              "      <td>70</td>\n",
              "      <td>2</td>\n",
              "    </tr>\n",
              "    <tr>\n",
              "      <th>35</th>\n",
              "      <td>bin35</td>\n",
              "      <td>72</td>\n",
              "      <td>0</td>\n",
              "    </tr>\n",
              "    <tr>\n",
              "      <th>36</th>\n",
              "      <td>bin36</td>\n",
              "      <td>70</td>\n",
              "      <td>2</td>\n",
              "    </tr>\n",
              "    <tr>\n",
              "      <th>37</th>\n",
              "      <td>bin37</td>\n",
              "      <td>72</td>\n",
              "      <td>0</td>\n",
              "    </tr>\n",
              "    <tr>\n",
              "      <th>38</th>\n",
              "      <td>bin38</td>\n",
              "      <td>72</td>\n",
              "      <td>0</td>\n",
              "    </tr>\n",
              "    <tr>\n",
              "      <th>39</th>\n",
              "      <td>bin39</td>\n",
              "      <td>72</td>\n",
              "      <td>0</td>\n",
              "    </tr>\n",
              "    <tr>\n",
              "      <th>40</th>\n",
              "      <td>bin40</td>\n",
              "      <td>72</td>\n",
              "      <td>0</td>\n",
              "    </tr>\n",
              "    <tr>\n",
              "      <th>41</th>\n",
              "      <td>bin41</td>\n",
              "      <td>72</td>\n",
              "      <td>0</td>\n",
              "    </tr>\n",
              "    <tr>\n",
              "      <th>42</th>\n",
              "      <td>bin42</td>\n",
              "      <td>70</td>\n",
              "      <td>2</td>\n",
              "    </tr>\n",
              "    <tr>\n",
              "      <th>43</th>\n",
              "      <td>bin43</td>\n",
              "      <td>72</td>\n",
              "      <td>1</td>\n",
              "    </tr>\n",
              "    <tr>\n",
              "      <th>44</th>\n",
              "      <td>bin44</td>\n",
              "      <td>70</td>\n",
              "      <td>1</td>\n",
              "    </tr>\n",
              "    <tr>\n",
              "      <th>45</th>\n",
              "      <td>bin45</td>\n",
              "      <td>72</td>\n",
              "      <td>0</td>\n",
              "    </tr>\n",
              "    <tr>\n",
              "      <th>46</th>\n",
              "      <td>bin46</td>\n",
              "      <td>69</td>\n",
              "      <td>3</td>\n",
              "    </tr>\n",
              "    <tr>\n",
              "      <th>47</th>\n",
              "      <td>bin47</td>\n",
              "      <td>69</td>\n",
              "      <td>3</td>\n",
              "    </tr>\n",
              "    <tr>\n",
              "      <th>48</th>\n",
              "      <td>bin48</td>\n",
              "      <td>69</td>\n",
              "      <td>3</td>\n",
              "    </tr>\n",
              "    <tr>\n",
              "      <th>49</th>\n",
              "      <td>bin49</td>\n",
              "      <td>70</td>\n",
              "      <td>2</td>\n",
              "    </tr>\n",
              "    <tr>\n",
              "      <th>50</th>\n",
              "      <td>bin50</td>\n",
              "      <td>68</td>\n",
              "      <td>4</td>\n",
              "    </tr>\n",
              "    <tr>\n",
              "      <th>51</th>\n",
              "      <td>bin51</td>\n",
              "      <td>72</td>\n",
              "      <td>0</td>\n",
              "    </tr>\n",
              "    <tr>\n",
              "      <th>52</th>\n",
              "      <td>bin52</td>\n",
              "      <td>71</td>\n",
              "      <td>1</td>\n",
              "    </tr>\n",
              "    <tr>\n",
              "      <th>53</th>\n",
              "      <td>bin53</td>\n",
              "      <td>69</td>\n",
              "      <td>3</td>\n",
              "    </tr>\n",
              "    <tr>\n",
              "      <th>54</th>\n",
              "      <td>bin54</td>\n",
              "      <td>71</td>\n",
              "      <td>1</td>\n",
              "    </tr>\n",
              "    <tr>\n",
              "      <th>55</th>\n",
              "      <td>bin55</td>\n",
              "      <td>72</td>\n",
              "      <td>0</td>\n",
              "    </tr>\n",
              "    <tr>\n",
              "      <th>56</th>\n",
              "      <td>bin56</td>\n",
              "      <td>72</td>\n",
              "      <td>0</td>\n",
              "    </tr>\n",
              "    <tr>\n",
              "      <th>57</th>\n",
              "      <td>bin57</td>\n",
              "      <td>70</td>\n",
              "      <td>2</td>\n",
              "    </tr>\n",
              "    <tr>\n",
              "      <th>58</th>\n",
              "      <td>bin58</td>\n",
              "      <td>71</td>\n",
              "      <td>1</td>\n",
              "    </tr>\n",
              "    <tr>\n",
              "      <th>59</th>\n",
              "      <td>bin59</td>\n",
              "      <td>70</td>\n",
              "      <td>2</td>\n",
              "    </tr>\n",
              "    <tr>\n",
              "      <th>60</th>\n",
              "      <td>bin60</td>\n",
              "      <td>71</td>\n",
              "      <td>1</td>\n",
              "    </tr>\n",
              "    <tr>\n",
              "      <th>61</th>\n",
              "      <td>bin61</td>\n",
              "      <td>71</td>\n",
              "      <td>2</td>\n",
              "    </tr>\n",
              "    <tr>\n",
              "      <th>62</th>\n",
              "      <td>bin62</td>\n",
              "      <td>68</td>\n",
              "      <td>3</td>\n",
              "    </tr>\n",
              "    <tr>\n",
              "      <th>63</th>\n",
              "      <td>bin63</td>\n",
              "      <td>70</td>\n",
              "      <td>2</td>\n",
              "    </tr>\n",
              "    <tr>\n",
              "      <th>64</th>\n",
              "      <td>bin64</td>\n",
              "      <td>71</td>\n",
              "      <td>2</td>\n",
              "    </tr>\n",
              "    <tr>\n",
              "      <th>65</th>\n",
              "      <td>bin65</td>\n",
              "      <td>68</td>\n",
              "      <td>3</td>\n",
              "    </tr>\n",
              "    <tr>\n",
              "      <th>66</th>\n",
              "      <td>bin66</td>\n",
              "      <td>71</td>\n",
              "      <td>1</td>\n",
              "    </tr>\n",
              "    <tr>\n",
              "      <th>67</th>\n",
              "      <td>bin67</td>\n",
              "      <td>70</td>\n",
              "      <td>2</td>\n",
              "    </tr>\n",
              "    <tr>\n",
              "      <th>68</th>\n",
              "      <td>bin68</td>\n",
              "      <td>72</td>\n",
              "      <td>1</td>\n",
              "    </tr>\n",
              "    <tr>\n",
              "      <th>69</th>\n",
              "      <td>bin69</td>\n",
              "      <td>68</td>\n",
              "      <td>3</td>\n",
              "    </tr>\n",
              "    <tr>\n",
              "      <th>70</th>\n",
              "      <td>bin70</td>\n",
              "      <td>70</td>\n",
              "      <td>3</td>\n",
              "    </tr>\n",
              "    <tr>\n",
              "      <th>71</th>\n",
              "      <td>bin71</td>\n",
              "      <td>70</td>\n",
              "      <td>1</td>\n",
              "    </tr>\n",
              "    <tr>\n",
              "      <th>72</th>\n",
              "      <td>bin72</td>\n",
              "      <td>66</td>\n",
              "      <td>6</td>\n",
              "    </tr>\n",
              "    <tr>\n",
              "      <th>73</th>\n",
              "      <td>bin73</td>\n",
              "      <td>67</td>\n",
              "      <td>5</td>\n",
              "    </tr>\n",
              "    <tr>\n",
              "      <th>74</th>\n",
              "      <td>bin74</td>\n",
              "      <td>69</td>\n",
              "      <td>3</td>\n",
              "    </tr>\n",
              "    <tr>\n",
              "      <th>75</th>\n",
              "      <td>bin75</td>\n",
              "      <td>70</td>\n",
              "      <td>2</td>\n",
              "    </tr>\n",
              "    <tr>\n",
              "      <th>76</th>\n",
              "      <td>bin76</td>\n",
              "      <td>68</td>\n",
              "      <td>4</td>\n",
              "    </tr>\n",
              "    <tr>\n",
              "      <th>77</th>\n",
              "      <td>bin77</td>\n",
              "      <td>68</td>\n",
              "      <td>5</td>\n",
              "    </tr>\n",
              "    <tr>\n",
              "      <th>78</th>\n",
              "      <td>bin78</td>\n",
              "      <td>70</td>\n",
              "      <td>3</td>\n",
              "    </tr>\n",
              "    <tr>\n",
              "      <th>79</th>\n",
              "      <td>bin79</td>\n",
              "      <td>67</td>\n",
              "      <td>3</td>\n",
              "    </tr>\n",
              "    <tr>\n",
              "      <th>80</th>\n",
              "      <td>bin80</td>\n",
              "      <td>66</td>\n",
              "      <td>6</td>\n",
              "    </tr>\n",
              "    <tr>\n",
              "      <th>81</th>\n",
              "      <td>bin81</td>\n",
              "      <td>66</td>\n",
              "      <td>7</td>\n",
              "    </tr>\n",
              "    <tr>\n",
              "      <th>82</th>\n",
              "      <td>bin82</td>\n",
              "      <td>69</td>\n",
              "      <td>2</td>\n",
              "    </tr>\n",
              "    <tr>\n",
              "      <th>83</th>\n",
              "      <td>bin83</td>\n",
              "      <td>67</td>\n",
              "      <td>5</td>\n",
              "    </tr>\n",
              "    <tr>\n",
              "      <th>84</th>\n",
              "      <td>bin84</td>\n",
              "      <td>71</td>\n",
              "      <td>2</td>\n",
              "    </tr>\n",
              "    <tr>\n",
              "      <th>85</th>\n",
              "      <td>bin85</td>\n",
              "      <td>68</td>\n",
              "      <td>3</td>\n",
              "    </tr>\n",
              "    <tr>\n",
              "      <th>86</th>\n",
              "      <td>bin86</td>\n",
              "      <td>70</td>\n",
              "      <td>2</td>\n",
              "    </tr>\n",
              "    <tr>\n",
              "      <th>87</th>\n",
              "      <td>bin87</td>\n",
              "      <td>70</td>\n",
              "      <td>2</td>\n",
              "    </tr>\n",
              "    <tr>\n",
              "      <th>88</th>\n",
              "      <td>bin88</td>\n",
              "      <td>65</td>\n",
              "      <td>7</td>\n",
              "    </tr>\n",
              "    <tr>\n",
              "      <th>89</th>\n",
              "      <td>bin89</td>\n",
              "      <td>69</td>\n",
              "      <td>3</td>\n",
              "    </tr>\n",
              "    <tr>\n",
              "      <th>90</th>\n",
              "      <td>bin90</td>\n",
              "      <td>70</td>\n",
              "      <td>3</td>\n",
              "    </tr>\n",
              "    <tr>\n",
              "      <th>91</th>\n",
              "      <td>bin91</td>\n",
              "      <td>65</td>\n",
              "      <td>6</td>\n",
              "    </tr>\n",
              "    <tr>\n",
              "      <th>92</th>\n",
              "      <td>bin92</td>\n",
              "      <td>66</td>\n",
              "      <td>6</td>\n",
              "    </tr>\n",
              "    <tr>\n",
              "      <th>93</th>\n",
              "      <td>bin93</td>\n",
              "      <td>70</td>\n",
              "      <td>2</td>\n",
              "    </tr>\n",
              "    <tr>\n",
              "      <th>94</th>\n",
              "      <td>bin94</td>\n",
              "      <td>66</td>\n",
              "      <td>6</td>\n",
              "    </tr>\n",
              "    <tr>\n",
              "      <th>95</th>\n",
              "      <td>bin95</td>\n",
              "      <td>67</td>\n",
              "      <td>5</td>\n",
              "    </tr>\n",
              "    <tr>\n",
              "      <th>96</th>\n",
              "      <td>bin96</td>\n",
              "      <td>64</td>\n",
              "      <td>8</td>\n",
              "    </tr>\n",
              "    <tr>\n",
              "      <th>97</th>\n",
              "      <td>bin97</td>\n",
              "      <td>63</td>\n",
              "      <td>9</td>\n",
              "    </tr>\n",
              "    <tr>\n",
              "      <th>98</th>\n",
              "      <td>bin98</td>\n",
              "      <td>77</td>\n",
              "      <td>18</td>\n",
              "    </tr>\n",
              "    <tr>\n",
              "      <th>99</th>\n",
              "      <td>bin99</td>\n",
              "      <td>38</td>\n",
              "      <td>11</td>\n",
              "    </tr>\n",
              "  </tbody>\n",
              "</table>\n",
              "</div>\n",
              "    <div class=\"colab-df-buttons\">\n",
              "\n",
              "  <div class=\"colab-df-container\">\n",
              "    <button class=\"colab-df-convert\" onclick=\"convertToInteractive('df-77effea6-691b-491c-b880-10ce0c6a0136')\"\n",
              "            title=\"Convert this dataframe to an interactive table.\"\n",
              "            style=\"display:none;\">\n",
              "\n",
              "  <svg xmlns=\"http://www.w3.org/2000/svg\" height=\"24px\" viewBox=\"0 -960 960 960\">\n",
              "    <path d=\"M120-120v-720h720v720H120Zm60-500h600v-160H180v160Zm220 220h160v-160H400v160Zm0 220h160v-160H400v160ZM180-400h160v-160H180v160Zm440 0h160v-160H620v160ZM180-180h160v-160H180v160Zm440 0h160v-160H620v160Z\"/>\n",
              "  </svg>\n",
              "    </button>\n",
              "\n",
              "  <style>\n",
              "    .colab-df-container {\n",
              "      display:flex;\n",
              "      gap: 12px;\n",
              "    }\n",
              "\n",
              "    .colab-df-convert {\n",
              "      background-color: #E8F0FE;\n",
              "      border: none;\n",
              "      border-radius: 50%;\n",
              "      cursor: pointer;\n",
              "      display: none;\n",
              "      fill: #1967D2;\n",
              "      height: 32px;\n",
              "      padding: 0 0 0 0;\n",
              "      width: 32px;\n",
              "    }\n",
              "\n",
              "    .colab-df-convert:hover {\n",
              "      background-color: #E2EBFA;\n",
              "      box-shadow: 0px 1px 2px rgba(60, 64, 67, 0.3), 0px 1px 3px 1px rgba(60, 64, 67, 0.15);\n",
              "      fill: #174EA6;\n",
              "    }\n",
              "\n",
              "    .colab-df-buttons div {\n",
              "      margin-bottom: 4px;\n",
              "    }\n",
              "\n",
              "    [theme=dark] .colab-df-convert {\n",
              "      background-color: #3B4455;\n",
              "      fill: #D2E3FC;\n",
              "    }\n",
              "\n",
              "    [theme=dark] .colab-df-convert:hover {\n",
              "      background-color: #434B5C;\n",
              "      box-shadow: 0px 1px 3px 1px rgba(0, 0, 0, 0.15);\n",
              "      filter: drop-shadow(0px 1px 2px rgba(0, 0, 0, 0.3));\n",
              "      fill: #FFFFFF;\n",
              "    }\n",
              "  </style>\n",
              "\n",
              "    <script>\n",
              "      const buttonEl =\n",
              "        document.querySelector('#df-77effea6-691b-491c-b880-10ce0c6a0136 button.colab-df-convert');\n",
              "      buttonEl.style.display =\n",
              "        google.colab.kernel.accessAllowed ? 'block' : 'none';\n",
              "\n",
              "      async function convertToInteractive(key) {\n",
              "        const element = document.querySelector('#df-77effea6-691b-491c-b880-10ce0c6a0136');\n",
              "        const dataTable =\n",
              "          await google.colab.kernel.invokeFunction('convertToInteractive',\n",
              "                                                    [key], {});\n",
              "        if (!dataTable) return;\n",
              "\n",
              "        const docLinkHtml = 'Like what you see? Visit the ' +\n",
              "          '<a target=\"_blank\" href=https://colab.research.google.com/notebooks/data_table.ipynb>data table notebook</a>'\n",
              "          + ' to learn more about interactive tables.';\n",
              "        element.innerHTML = '';\n",
              "        dataTable['output_type'] = 'display_data';\n",
              "        await google.colab.output.renderOutput(dataTable, element);\n",
              "        const docLink = document.createElement('div');\n",
              "        docLink.innerHTML = docLinkHtml;\n",
              "        element.appendChild(docLink);\n",
              "      }\n",
              "    </script>\n",
              "  </div>\n",
              "\n",
              "\n",
              "<div id=\"df-e4114d63-da2f-4c09-9027-6c22fa603ce9\">\n",
              "  <button class=\"colab-df-quickchart\" onclick=\"quickchart('df-e4114d63-da2f-4c09-9027-6c22fa603ce9')\"\n",
              "            title=\"Suggest charts\"\n",
              "            style=\"display:none;\">\n",
              "\n",
              "<svg xmlns=\"http://www.w3.org/2000/svg\" height=\"24px\"viewBox=\"0 0 24 24\"\n",
              "     width=\"24px\">\n",
              "    <g>\n",
              "        <path d=\"M19 3H5c-1.1 0-2 .9-2 2v14c0 1.1.9 2 2 2h14c1.1 0 2-.9 2-2V5c0-1.1-.9-2-2-2zM9 17H7v-7h2v7zm4 0h-2V7h2v10zm4 0h-2v-4h2v4z\"/>\n",
              "    </g>\n",
              "</svg>\n",
              "  </button>\n",
              "\n",
              "<style>\n",
              "  .colab-df-quickchart {\n",
              "      --bg-color: #E8F0FE;\n",
              "      --fill-color: #1967D2;\n",
              "      --hover-bg-color: #E2EBFA;\n",
              "      --hover-fill-color: #174EA6;\n",
              "      --disabled-fill-color: #AAA;\n",
              "      --disabled-bg-color: #DDD;\n",
              "  }\n",
              "\n",
              "  [theme=dark] .colab-df-quickchart {\n",
              "      --bg-color: #3B4455;\n",
              "      --fill-color: #D2E3FC;\n",
              "      --hover-bg-color: #434B5C;\n",
              "      --hover-fill-color: #FFFFFF;\n",
              "      --disabled-bg-color: #3B4455;\n",
              "      --disabled-fill-color: #666;\n",
              "  }\n",
              "\n",
              "  .colab-df-quickchart {\n",
              "    background-color: var(--bg-color);\n",
              "    border: none;\n",
              "    border-radius: 50%;\n",
              "    cursor: pointer;\n",
              "    display: none;\n",
              "    fill: var(--fill-color);\n",
              "    height: 32px;\n",
              "    padding: 0;\n",
              "    width: 32px;\n",
              "  }\n",
              "\n",
              "  .colab-df-quickchart:hover {\n",
              "    background-color: var(--hover-bg-color);\n",
              "    box-shadow: 0 1px 2px rgba(60, 64, 67, 0.3), 0 1px 3px 1px rgba(60, 64, 67, 0.15);\n",
              "    fill: var(--button-hover-fill-color);\n",
              "  }\n",
              "\n",
              "  .colab-df-quickchart-complete:disabled,\n",
              "  .colab-df-quickchart-complete:disabled:hover {\n",
              "    background-color: var(--disabled-bg-color);\n",
              "    fill: var(--disabled-fill-color);\n",
              "    box-shadow: none;\n",
              "  }\n",
              "\n",
              "  .colab-df-spinner {\n",
              "    border: 2px solid var(--fill-color);\n",
              "    border-color: transparent;\n",
              "    border-bottom-color: var(--fill-color);\n",
              "    animation:\n",
              "      spin 1s steps(1) infinite;\n",
              "  }\n",
              "\n",
              "  @keyframes spin {\n",
              "    0% {\n",
              "      border-color: transparent;\n",
              "      border-bottom-color: var(--fill-color);\n",
              "      border-left-color: var(--fill-color);\n",
              "    }\n",
              "    20% {\n",
              "      border-color: transparent;\n",
              "      border-left-color: var(--fill-color);\n",
              "      border-top-color: var(--fill-color);\n",
              "    }\n",
              "    30% {\n",
              "      border-color: transparent;\n",
              "      border-left-color: var(--fill-color);\n",
              "      border-top-color: var(--fill-color);\n",
              "      border-right-color: var(--fill-color);\n",
              "    }\n",
              "    40% {\n",
              "      border-color: transparent;\n",
              "      border-right-color: var(--fill-color);\n",
              "      border-top-color: var(--fill-color);\n",
              "    }\n",
              "    60% {\n",
              "      border-color: transparent;\n",
              "      border-right-color: var(--fill-color);\n",
              "    }\n",
              "    80% {\n",
              "      border-color: transparent;\n",
              "      border-right-color: var(--fill-color);\n",
              "      border-bottom-color: var(--fill-color);\n",
              "    }\n",
              "    90% {\n",
              "      border-color: transparent;\n",
              "      border-bottom-color: var(--fill-color);\n",
              "    }\n",
              "  }\n",
              "</style>\n",
              "\n",
              "  <script>\n",
              "    async function quickchart(key) {\n",
              "      const quickchartButtonEl =\n",
              "        document.querySelector('#' + key + ' button');\n",
              "      quickchartButtonEl.disabled = true;  // To prevent multiple clicks.\n",
              "      quickchartButtonEl.classList.add('colab-df-spinner');\n",
              "      try {\n",
              "        const charts = await google.colab.kernel.invokeFunction(\n",
              "            'suggestCharts', [key], {});\n",
              "      } catch (error) {\n",
              "        console.error('Error during call to suggestCharts:', error);\n",
              "      }\n",
              "      quickchartButtonEl.classList.remove('colab-df-spinner');\n",
              "      quickchartButtonEl.classList.add('colab-df-quickchart-complete');\n",
              "    }\n",
              "    (() => {\n",
              "      let quickchartButtonEl =\n",
              "        document.querySelector('#df-e4114d63-da2f-4c09-9027-6c22fa603ce9 button');\n",
              "      quickchartButtonEl.style.display =\n",
              "        google.colab.kernel.accessAllowed ? 'block' : 'none';\n",
              "    })();\n",
              "  </script>\n",
              "</div>\n",
              "\n",
              "    </div>\n",
              "  </div>\n"
            ],
            "application/vnd.google.colaboratory.intrinsic+json": {
              "type": "dataframe",
              "summary": "{\n  \"name\": \"#df_final_test['ratio[%]']=df_final_test[1]/df_final_test[0]\",\n  \"rows\": 100,\n  \"fields\": [\n    {\n      \"column\": [\n        \"ntile\",\n        \"\"\n      ],\n      \"properties\": {\n        \"dtype\": \"category\",\n        \"num_unique_values\": 100,\n        \"samples\": [\n          \"bin83\",\n          \"bin53\",\n          \"bin70\"\n        ],\n        \"semantic_type\": \"\",\n        \"description\": \"\"\n      }\n    },\n    {\n      \"column\": [\n        \"count\",\n        0\n      ],\n      \"properties\": {\n        \"dtype\": \"number\",\n        \"std\": 3,\n        \"min\": 38,\n        \"max\": 77,\n        \"num_unique_values\": 12,\n        \"samples\": [\n          77,\n          63,\n          71\n        ],\n        \"semantic_type\": \"\",\n        \"description\": \"\"\n      }\n    },\n    {\n      \"column\": [\n        \"count\",\n        1\n      ],\n      \"properties\": {\n        \"dtype\": \"number\",\n        \"std\": 2,\n        \"min\": 0,\n        \"max\": 18,\n        \"num_unique_values\": 12,\n        \"samples\": [\n          18,\n          9,\n          1\n        ],\n        \"semantic_type\": \"\",\n        \"description\": \"\"\n      }\n    }\n  ]\n}"
            }
          },
          "metadata": {},
          "execution_count": 30
        }
      ]
    },
    {
      "cell_type": "code",
      "source": [
        "# optimal_threshold is obtained from the ROC curve, where we maximize tpr and minimize fpr. Anything above this threshold we consider positive label\n",
        "df_final_test[df_final_test.prediction > optimal_threshold].label.value_counts()"
      ],
      "metadata": {
        "colab": {
          "base_uri": "https://localhost:8080/",
          "height": 178
        },
        "id": "2PmLoTJopyVa",
        "outputId": "c65e439f-381c-4fb7-8601-ceed7498f3da"
      },
      "execution_count": 31,
      "outputs": [
        {
          "output_type": "execute_result",
          "data": {
            "text/plain": [
              "label\n",
              "0    2215\n",
              "1     154\n",
              "Name: count, dtype: int64"
            ],
            "text/html": [
              "<div>\n",
              "<style scoped>\n",
              "    .dataframe tbody tr th:only-of-type {\n",
              "        vertical-align: middle;\n",
              "    }\n",
              "\n",
              "    .dataframe tbody tr th {\n",
              "        vertical-align: top;\n",
              "    }\n",
              "\n",
              "    .dataframe thead th {\n",
              "        text-align: right;\n",
              "    }\n",
              "</style>\n",
              "<table border=\"1\" class=\"dataframe\">\n",
              "  <thead>\n",
              "    <tr style=\"text-align: right;\">\n",
              "      <th></th>\n",
              "      <th>count</th>\n",
              "    </tr>\n",
              "    <tr>\n",
              "      <th>label</th>\n",
              "      <th></th>\n",
              "    </tr>\n",
              "  </thead>\n",
              "  <tbody>\n",
              "    <tr>\n",
              "      <th>0</th>\n",
              "      <td>2215</td>\n",
              "    </tr>\n",
              "    <tr>\n",
              "      <th>1</th>\n",
              "      <td>154</td>\n",
              "    </tr>\n",
              "  </tbody>\n",
              "</table>\n",
              "</div><br><label><b>dtype:</b> int64</label>"
            ]
          },
          "metadata": {},
          "execution_count": 31
        }
      ]
    },
    {
      "cell_type": "code",
      "source": [
        "# optimal_threshold is obtained from the ROC curve, where we maximize tpr and minimize fpr. Anything below this threshold we consider negative label\n",
        "\n",
        "df_final_test[df_final_test.prediction <= optimal_threshold].label.value_counts()"
      ],
      "metadata": {
        "colab": {
          "base_uri": "https://localhost:8080/",
          "height": 178
        },
        "id": "NrIBOquPSGwA",
        "outputId": "f4b56d7f-53fc-484b-9568-e77418c9d446"
      },
      "execution_count": 32,
      "outputs": [
        {
          "output_type": "execute_result",
          "data": {
            "text/plain": [
              "label\n",
              "0    4754\n",
              "1      77\n",
              "Name: count, dtype: int64"
            ],
            "text/html": [
              "<div>\n",
              "<style scoped>\n",
              "    .dataframe tbody tr th:only-of-type {\n",
              "        vertical-align: middle;\n",
              "    }\n",
              "\n",
              "    .dataframe tbody tr th {\n",
              "        vertical-align: top;\n",
              "    }\n",
              "\n",
              "    .dataframe thead th {\n",
              "        text-align: right;\n",
              "    }\n",
              "</style>\n",
              "<table border=\"1\" class=\"dataframe\">\n",
              "  <thead>\n",
              "    <tr style=\"text-align: right;\">\n",
              "      <th></th>\n",
              "      <th>count</th>\n",
              "    </tr>\n",
              "    <tr>\n",
              "      <th>label</th>\n",
              "      <th></th>\n",
              "    </tr>\n",
              "  </thead>\n",
              "  <tbody>\n",
              "    <tr>\n",
              "      <th>0</th>\n",
              "      <td>4754</td>\n",
              "    </tr>\n",
              "    <tr>\n",
              "      <th>1</th>\n",
              "      <td>77</td>\n",
              "    </tr>\n",
              "  </tbody>\n",
              "</table>\n",
              "</div><br><label><b>dtype:</b> int64</label>"
            ]
          },
          "metadata": {},
          "execution_count": 32
        }
      ]
    },
    {
      "cell_type": "markdown",
      "source": [
        "## Summary\n",
        "\n",
        "Model development:\n",
        "\n",
        "\n",
        "*   Obtain the stock price data from yahoo finance API and news data from finnhub API. They are FREE APIs for this use case, at least.     \n",
        "*   Extract features from news based on the LLM model. We fed the news to LLM (used default bert model under transformer) which was categorizing a news being positive with a given probability. We added additional news features, like category, source, and news time being pre-market or during market.     \n",
        "*   We included additional features based on daily price moving average (10 and 20 days). From reading online, these seems to be a common way of incorporating prices.\n",
        "*   We used NASDAQ listing to select a set of stocks with a price above 20$, and traded volume > 500K. There are lots of stocks with low prices that fluctuate under different circumstances, thus without doing a bit more deep dive, I excluded them. I randomly picked 120 stocks for this assignment.  \n",
        "*   Labels are defined as the price difference between close and open of a given day. The assumption here is that news mostly have a short term effect on stock volatility. This can be further refined based on various assumptions, but this is the assumption used in the analysis. Basically, we predict given the daily Open price and news in a given day (premarket or during market), can we predict if Close price will be higher (>5%) than the Open. This can be fine-tuned based on different assumptions and conditions.     \n",
        "*   Catboost model used with a handful of features from news and price, as mentioned above.  \n",
        "*   Model trained on the data between 2024-01-28 and 2024-10-28\n",
        "*   Model tested on the data between 2024-10-29 and 2025-01-28\n",
        "\n",
        "Model evaluation:\n",
        "\n",
        "\n",
        "*   I used ROC metric to evaluate the model's performance\n",
        "*   I optimized probability from ROC by miximing true positive rate and minimize false positive rate. This turned out to be 0.258\n",
        "*   I provided two representations for model's performance: 1. ntile the test data into 1% level based on probability (from high to low), and check which bin captures most of the positive labels. Typically higher probability bins should have higher capture rates, which is seen from the above table.\n",
        "*   I also classified all data points as positives with probability higher than the threshold (see above). This selects best stocks subset, which has  4.3X higher capture rate for positive labels (stocks with Close price being higher by 5% than Open).   \n",
        "\n",
        "Model improvement:\n",
        "\n",
        "\n",
        "Ares for further improvement:\n",
        "\n",
        "*   Settle of volatile definitions. This is critical to align as to what we call volatility, and how to quantify.\n",
        "*   Sentiment analysis via LLM can be improved by fine tunning the best model on the data we typically see under these news. So the model has more accurate understanding\n",
        "*   Incorporate some key words that are important for Stocks, this requires some domain knowledge, and also the problem we are trying to solve.\n",
        "*   Include more data sources capturing different aspects of the stock market.  \n",
        "*   Tune the catboost model with better parameter subsets by performing cross-validation.\n",
        "\n",
        "\n",
        "\n",
        "\n",
        "\n",
        "\n",
        "\n",
        "\n",
        "\n",
        "\n",
        "\n",
        "\n",
        "\n",
        "\n",
        "\n",
        "\n",
        "\n",
        "\n",
        "\n",
        "\n",
        "\n"
      ],
      "metadata": {
        "id": "2BGQwz4-S-Ks"
      }
    }
  ]
}